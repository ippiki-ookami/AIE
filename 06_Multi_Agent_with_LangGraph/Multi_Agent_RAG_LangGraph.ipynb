{
 "cells": [
  {
   "cell_type": "markdown",
   "metadata": {
    "id": "KxpWDFG11o3G"
   },
   "source": [
    "# Multi-Agent Workflows + RAG - LangGraph\n",
    "\n",
    "Today we'll be looking at an example of a Multi-Agent workflow that's powered by LangGraph, LCEL, and more!\n",
    "\n",
    "We're going to be, more specifically, looking at a \"heirarchical agent teams\" from the [AutoGen: Enabling Next-Gen LLM\n",
    "Applications via Multi-Agent Conversation](https://arxiv.org/pdf/2308.08155) paper.\n",
    "\n",
    "This will be the final \"graph\" of our system:\n",
    "\n",
    "![image](https://i.imgur.com/Xro0QiR.png)\n",
    "\n",
    "It's important to keep in mind that the actual implementation will be constructed of 3 separate graphs, the final one having 2 graphs as nodes! LangGraph is a heckuva tool!\n",
    "\n"
   ]
  },
  {
   "cell_type": "markdown",
   "metadata": {
    "id": "TyzoBrWoYeOZ"
   },
   "source": [
    "# 🤝 BREAKOUT ROOM #1"
   ]
  },
  {
   "cell_type": "markdown",
   "metadata": {
    "id": "mx3oaVoX5cA2"
   },
   "source": [
    "## Dependencies"
   ]
  },
  {
   "cell_type": "markdown",
   "metadata": {
    "id": "Zpv2MWqu5vS9"
   },
   "source": [
    "Since we'll be relying on OpenAI's suite of models to power our agents today, we'll want to provide our OpenAI API Key.\n",
    "\n",
    "We're also going to be using the Tavily search tool - so we'll want to provide that API key as well!\n",
    "\n",
    "Instruction for how to obtain the Tavily API key can be found:\n",
    "\n",
    "1. [Tavily API Key](https://app.tavily.com/sign-in)\n",
    "\n"
   ]
  },
  {
   "cell_type": "code",
   "execution_count": 27,
   "metadata": {
    "colab": {
     "base_uri": "https://localhost:8080/"
    },
    "id": "h30OjkLfeR2Y",
    "outputId": "f75bb26e-b89d-4611-c29b-f339b3e868af"
   },
   "outputs": [],
   "source": [
    "import os\n",
    "import getpass\n",
    "\n",
    "os.environ[\"OPENAI_API_KEY\"] = getpass.getpass(\"OpenAI API Key:\")\n",
    "os.environ[\"TAVILY_API_KEY\"] = getpass.getpass(\"TAVILY_API_KEY\")"
   ]
  },
  {
   "cell_type": "markdown",
   "metadata": {
    "id": "M_LD7rwT6PbO"
   },
   "source": [
    "## Task 1: Simple LangGraph RAG\n",
    "\n",
    "Now that we have our dependencies set-up - let's create a simple RAG graph that works over our Loan PDFs from previous sessions.\n",
    "\n",
    "> NOTE: While this particular example is very straight forward - you can \"plug in\" any complexity of chain you desire as a node in a LangGraph."
   ]
  },
  {
   "cell_type": "markdown",
   "metadata": {
    "id": "JY7T5kxJ6jGn"
   },
   "source": [
    "## Retrieval\n",
    "\n",
    "The 'R' in 'RAG' - this is, at this point, fairly straightforward!"
   ]
  },
  {
   "cell_type": "markdown",
   "metadata": {
    "id": "DGuPxSCk7Ztz"
   },
   "source": [
    "#### Data Collection and Processing\n",
    "\n",
    "A classic first step, at this point, let's grab our desired document!"
   ]
  },
  {
   "cell_type": "code",
   "execution_count": 28,
   "metadata": {
    "id": "LfuoEYRCln3H"
   },
   "outputs": [],
   "source": [
    "from langchain_community.document_loaders import DirectoryLoader\n",
    "from langchain_community.document_loaders import PyMuPDFLoader\n",
    "\n",
    "directory_loader = DirectoryLoader(\"data\", glob=\"**/*.pdf\", loader_cls=PyMuPDFLoader)\n",
    "\n",
    "loan_knowledge_resources = directory_loader.load()"
   ]
  },
  {
   "cell_type": "markdown",
   "metadata": {
    "id": "r_t_F1zG6vXa"
   },
   "source": [
    "Now we can chunk it down to size!"
   ]
  },
  {
   "cell_type": "code",
   "execution_count": 29,
   "metadata": {
    "id": "5R7A_z8CgL79"
   },
   "outputs": [],
   "source": [
    "import tiktoken\n",
    "from langchain.text_splitter import RecursiveCharacterTextSplitter\n",
    "\n",
    "def tiktoken_len(text):\n",
    "    tokens = tiktoken.encoding_for_model(\"gpt-4o\").encode(\n",
    "        text,\n",
    "    )\n",
    "    return len(tokens)\n",
    "\n",
    "text_splitter = RecursiveCharacterTextSplitter(\n",
    "    chunk_size = 750,\n",
    "    chunk_overlap = 0,\n",
    "    length_function = tiktoken_len,\n",
    ")\n",
    "\n",
    "loan_knowledge_chunks = text_splitter.split_documents(loan_knowledge_resources)"
   ]
  },
  {
   "cell_type": "markdown",
   "metadata": {
    "id": "lGE-VuMc7AKv"
   },
   "source": [
    "Now we've successfully split our single PDF into..."
   ]
  },
  {
   "cell_type": "code",
   "execution_count": 30,
   "metadata": {
    "colab": {
     "base_uri": "https://localhost:8080/"
    },
    "id": "pgYBHsdWmLvW",
    "outputId": "aa9a830e-f7db-4bb3-f542-c0614cb01aca"
   },
   "outputs": [
    {
     "data": {
      "text/plain": [
       "375"
      ]
     },
     "execution_count": 30,
     "metadata": {},
     "output_type": "execute_result"
    }
   ],
   "source": [
    "len(loan_knowledge_chunks)"
   ]
  },
  {
   "cell_type": "markdown",
   "metadata": {
    "id": "lxaKmmyh7DHD"
   },
   "source": [
    "documents!"
   ]
  },
  {
   "cell_type": "markdown",
   "metadata": {
    "id": "cGWs7KTd7QPS"
   },
   "source": [
    "#### Embedding Model and Vector Store\n",
    "\n",
    "Now that we have our chunked document - lets create a vector store, which will first require us to create an embedding model to get the vector representations of our text!\n",
    "\n",
    "We'll use OpenAI's [`text-embedding-3-small`](https://platform.openai.com/docs/guides/embeddings/embedding-models) model - as it's cheap, and performant."
   ]
  },
  {
   "cell_type": "code",
   "execution_count": 31,
   "metadata": {
    "id": "xLIWMMZCmfrj"
   },
   "outputs": [],
   "source": [
    "from langchain_openai.embeddings import OpenAIEmbeddings\n",
    "\n",
    "embedding_model = OpenAIEmbeddings(model=\"text-embedding-3-small\")"
   ]
  },
  {
   "cell_type": "markdown",
   "metadata": {
    "id": "lTEi7Ww573sc"
   },
   "source": [
    "Now we can create our QDrant backed vector store!"
   ]
  },
  {
   "cell_type": "code",
   "execution_count": 32,
   "metadata": {
    "id": "Xct51f8omVAU"
   },
   "outputs": [],
   "source": [
    "from langchain_community.vectorstores import Qdrant\n",
    "\n",
    "qdrant_vectorstore = Qdrant.from_documents(\n",
    "    documents=loan_knowledge_chunks,\n",
    "    embedding=embedding_model,\n",
    "    location=\":memory:\"\n",
    ")"
   ]
  },
  {
   "cell_type": "markdown",
   "metadata": {
    "id": "wzGq6o4s79Ar"
   },
   "source": [
    "Let's make sure we can access it as a retriever."
   ]
  },
  {
   "cell_type": "code",
   "execution_count": 33,
   "metadata": {
    "id": "OTnQZbWymi4K"
   },
   "outputs": [],
   "source": [
    "qdrant_retriever = qdrant_vectorstore.as_retriever()"
   ]
  },
  {
   "cell_type": "markdown",
   "metadata": {
    "id": "aU8qSrMS7_D7"
   },
   "source": [
    "### Augmented\n",
    "\n",
    "Now that we have our retrieval process set-up, we need to set up our \"augmentation\" process - AKA a prompt template."
   ]
  },
  {
   "cell_type": "code",
   "execution_count": 34,
   "metadata": {
    "id": "lezTN0zCmk46"
   },
   "outputs": [],
   "source": [
    "from langchain_core.prompts import ChatPromptTemplate\n",
    "\n",
    "HUMAN_TEMPLATE = \"\"\"\n",
    "#CONTEXT:\n",
    "{context}\n",
    "\n",
    "QUERY:\n",
    "{query}\n",
    "\n",
    "Use the provide context to answer the provided user query. Only use the provided context to answer the query. If you do not know the answer, or it's not contained in the provided context respond with \"I don't know\"\n",
    "\"\"\"\n",
    "\n",
    "chat_prompt = ChatPromptTemplate.from_messages([\n",
    "    (\"human\", HUMAN_TEMPLATE)\n",
    "])"
   ]
  },
  {
   "cell_type": "markdown",
   "metadata": {
    "id": "Y9fa63nM7IKK"
   },
   "source": [
    "### Generation\n",
    "\n",
    "Last, but certainly not least, let's put the 'G' in 'RAG' by adding our generator - in this case, we can rely on OpenAI's [`gpt-4o-mini`](https://platform.openai.com/docs/models/gpt-4o-mini) model!"
   ]
  },
  {
   "cell_type": "code",
   "execution_count": 35,
   "metadata": {
    "id": "AwEi29-Jo3a8"
   },
   "outputs": [],
   "source": [
    "from langchain_openai import ChatOpenAI\n",
    "\n",
    "openai_chat_model = ChatOpenAI(model=\"gpt-4.1-nano\")"
   ]
  },
  {
   "cell_type": "markdown",
   "metadata": {
    "id": "qO-ZC0T98XJJ"
   },
   "source": [
    "### RAG - Retrieval Augmented Generation\n",
    "\n",
    "All that's left to do is combine our R, A, and G into a single graph - and we're off!"
   ]
  },
  {
   "cell_type": "code",
   "execution_count": 36,
   "metadata": {
    "id": "nlOJrPm_oT3S"
   },
   "outputs": [],
   "source": [
    "from langgraph.graph import START, StateGraph\n",
    "from typing_extensions import TypedDict\n",
    "from langchain_core.documents import Document\n",
    "from langchain_core.output_parsers import StrOutputParser\n",
    "\n",
    "class State(TypedDict):\n",
    "  question: str\n",
    "  context: list[Document]\n",
    "  response: str\n",
    "\n",
    "def retrieve(state: State) -> State:\n",
    "  retrieved_docs = qdrant_retriever.invoke(state[\"question\"])\n",
    "  return {\"context\" : retrieved_docs}\n",
    "\n",
    "def generate(state: State) -> State:\n",
    "  generator_chain = chat_prompt | openai_chat_model | StrOutputParser()\n",
    "  response = generator_chain.invoke({\"query\" : state[\"question\"], \"context\" : state[\"context\"]})\n",
    "  return {\"response\" : response}\n",
    "\n",
    "graph_builder = StateGraph(State)\n",
    "graph_builder = graph_builder.add_sequence([retrieve, generate])\n",
    "graph_builder.add_edge(START, \"retrieve\")\n",
    "rag_graph = graph_builder.compile()"
   ]
  },
  {
   "cell_type": "code",
   "execution_count": 37,
   "metadata": {},
   "outputs": [
    {
     "data": {
      "image/png": "[encoded data removed]",
      "text/plain": [
       "<langgraph.graph.state.CompiledStateGraph object at 0x7395b880f050>"
      ]
     },
     "execution_count": 37,
     "metadata": {},
     "output_type": "execute_result"
    }
   ],
   "source": [
    "rag_graph"
   ]
  },
  {
   "cell_type": "markdown",
   "metadata": {
    "id": "qiWrbXpu8ggz"
   },
   "source": [
    "Let's test this out and make sure it works."
   ]
  },
  {
   "cell_type": "code",
   "execution_count": 38,
   "metadata": {
    "colab": {
     "base_uri": "https://localhost:8080/",
     "height": 122
    },
    "id": "gJhFlW32pBPe",
    "outputId": "7aee04b6-608f-4639-adca-66225d4d3002"
   },
   "outputs": [
    {
     "data": {
      "text/plain": [
       "{'question': 'What is the maximum loan amount?',\n",
       " 'context': [Document(metadata={'producer': 'GPL Ghostscript 10.00.0', 'creator': 'wkhtmltopdf 0.12.6', 'creationdate': \"D:20250605165703Z00'00'\", 'source': 'data/The_Direct_Loan_Program.pdf', 'file_path': 'data/The_Direct_Loan_Program.pdf', 'total_pages': 71, 'format': 'PDF 1.7', 'title': '', 'author': '', 'subject': '', 'keywords': '', 'moddate': \"D:20250605165703Z00'00'\", 'trapped': '', 'modDate': \"D:20250605165703Z00'00'\", 'creationDate': \"D:20250605165703Z00'00'\", 'page': 69, '_id': '6ea97b34388042e6976abf84205ace9c', '_collection_name': '5d7ea125c4594e8c8533b43df3436dfa'}, page_content='program. Therefore, the maximum loan amount the student may receive for the program at School B (for the\\nabbreviated loan period and any subsequent loan period combined) is a total of $1,815, not more than $1,155 of\\nwhich may be subsidized (the prorated loan limits for the program). If the student receives the maximum prorated\\nloan limit for the program during the abbreviated loan period, there is no remaining loan eligibility for the\\nprogram following the completion of the abbreviated loan period.'),\n",
       "  Document(metadata={'producer': 'GPL Ghostscript 10.00.0', 'creator': 'wkhtmltopdf 0.12.6', 'creationdate': \"D:20250605165703Z00'00'\", 'source': 'data/The_Direct_Loan_Program.pdf', 'file_path': 'data/The_Direct_Loan_Program.pdf', 'total_pages': 71, 'format': 'PDF 1.7', 'title': '', 'author': '', 'subject': '', 'keywords': '', 'moddate': \"D:20250605165703Z00'00'\", 'trapped': '', 'modDate': \"D:20250605165703Z00'00'\", 'creationDate': \"D:20250605165703Z00'00'\", 'page': 39, '_id': '8d13780bfa4c4982baf94921086a98c2', '_collection_name': '5d7ea125c4594e8c8533b43df3436dfa'}, page_content='Volume 8, Chapter 4, Table 4: Aggregate Limits for Direct Subsidized Loans and Direct Unsubsidized Loans\\nTotal (Subsidized and\\nUnsubsidized)\\nMaximum\\nSubsidized\\nDependent undergraduates (excluding those whose parents can9t get\\nDirect PLUS Loans)\\n$31,000\\n$23,000\\nIndependent undergraduates (and dependent undergraduates whose\\nparents can9t get Direct PLUS Loans)\\n$57,500\\n$23,000\\nGraduate and professional students\\n$138,500\\n$65,500\\nNotes on the aggregate loan limits shown in Table 4:\\nThe <Total (Subsidized and Unsubsidized)= column shows the maximum combined outstanding subsidized and\\nunsubsidized loan debt for a student. The <Maximum Subsidized= column shows the maximum portion of the\\ncombined subsidized and unsubsidized limit that may be subsidized. For example, a dependent undergraduate may\\nhave up to a maximum of $31,000 in combined subsidized and unsubsidized outstanding loan debt, but no more\\nthan $23,000 of this amount may consist of subsidized loans.\\nCapitalized interest (unpaid accrued interest that has been added to the principal balance of a loan) is not counted\\ntoward a borrower9s aggregate loan limits (see \"Checking Remaining Loan Eligibility Under Aggregate Loan Limits=\\nbelow for more information).\\nThe $138,500 combined subsidized and unsubsidized aggregate loan limit for graduate and professional students\\nincludes loans received for undergraduate study.\\nThe $65,500 subsidized aggregate loan limit for graduate and professional students includes subsidized loans\\nreceived for prior undergraduate study. It also includes any subsidized loans received for prior graduate or\\nprofessional study before July 1, 2012, when graduate and professional students were eligible to receive subsidized\\nloans (subsidized loan eligibility for graduate and professional students was eliminated effective for loan periods\\nbeginning on or after July 1, 2012).\\nThe loan amounts counted toward a borrower9s aggregate loan limits include any outstanding Direct Subsidized Loan\\nand Direct Unsubsidized Loan amounts, and also any outstanding Subsidized and Unsubsidized Federal Stafford\\nLoans previously borrowed under the FFEL Program (no new loans have been made under the FFEL Program since\\nJune 30, 2010).\\nIf a borrower has a Direct Consolidation Loan or a Federal Consolidation Loan (a consolidation loan made under the\\nFFEL Program), the outstanding amount of the consolidation loan representing any Direct Subsidized Loans, Direct\\nUnsubsidized Loans, Subsidized Federal Stafford Loans, or Unsubsidized Federal Stafford Loans that were paid off by\\nthe consolidation loan is counted toward the borrower9s aggregate subsidized and unsubsidized loan limits\\naccordingly.\\nAggregate Loan Limit for an Undergraduate Student With a Graduate Degree\\nAggregate Loan Limits\\n34 CFR 685.203(d), (e)'),\n",
       "  Document(metadata={'producer': 'GPL Ghostscript 10.00.0', 'creator': 'wkhtmltopdf 0.12.6', 'creationdate': \"D:20250605165703Z00'00'\", 'source': 'data/The_Direct_Loan_Program.pdf', 'file_path': 'data/The_Direct_Loan_Program.pdf', 'total_pages': 71, 'format': 'PDF 1.7', 'title': '', 'author': '', 'subject': '', 'keywords': '', 'moddate': \"D:20250605165703Z00'00'\", 'trapped': '', 'modDate': \"D:20250605165703Z00'00'\", 'creationDate': \"D:20250605165703Z00'00'\", 'page': 67, '_id': '6bf813b3bc674fa4904bcc5efb8cacd0', '_collection_name': '5d7ea125c4594e8c8533b43df3436dfa'}, page_content='Generally, the maximum loan amount that the student can receive for the abbreviated loan period is the difference\\nbetween the full annual loan limit applicable to the student at the new school and the loan amount that was\\ndisbursed at the prior school during the overlapping academic year (see the preceding discussion for an exception to\\nthis general rule).\\nThe first disbursement of the loan for the abbreviated loan period at the new school is made at the beginning of the\\nabbreviated loan period. Unless the school qualifies based on its cohort default rate for the exemption from the\\nmultiple disbursement requirement (see Volume 3, Chapter 1), the loan must be disbursed in at least two'),\n",
       "  Document(metadata={'producer': 'GPL Ghostscript 10.00.0', 'creator': 'wkhtmltopdf 0.12.6', 'creationdate': \"D:20250605165703Z00'00'\", 'source': 'data/The_Direct_Loan_Program.pdf', 'file_path': 'data/The_Direct_Loan_Program.pdf', 'total_pages': 71, 'format': 'PDF 1.7', 'title': '', 'author': '', 'subject': '', 'keywords': '', 'moddate': \"D:20250605165703Z00'00'\", 'trapped': '', 'modDate': \"D:20250605165703Z00'00'\", 'creationDate': \"D:20250605165703Z00'00'\", 'page': 41, '_id': '55c012aae3a14e2ba0d2e1f521db29ac', '_collection_name': '5d7ea125c4594e8c8533b43df3436dfa'}, page_content='teacher certification and preparatory coursework and the applicable annual loan limits.)\\nHigher Aggregate Loan Limit for Certain Health Professions Students\\nAs explained earlier in this chapter, graduate and professional students who are enrolled in certain health professions\\nprograms are eligible for higher annual Direct Unsubsidized Loan limits. These students also have a higher combined\\nsubsidized and unsubsidized aggregate loan limit.\\nThe combined subsidized and unsubsidized aggregate loan limit for graduate and professional health professions students\\nwho are eligible to receive the increased annual unsubsidized amounts is $224,000. Not more than $65,500 of this\\namount may be from subsidized loans (see the notes following Table 4 above regarding the $65,500 subsidized aggregate\\nloan limit for graduate and professional students).\\nIf a student who received increased Direct Unsubsidized Loan amounts for a qualifying health profession program later\\nenrolls in a non-health professions program, the student is no longer eligible for the increased Direct Unsubsidized Loan\\nlimits. However, the additional loan amounts received for the health professions program are not counted toward the\\nnormal aggregate loan limit for that student.\\nChecking Remaining Eligibility Under the Aggregate Loan Limits\\nBefore originating a Direct Subsidized Loan or Direct Unsubsidized Loan, it9s important to make sure the student still has\\nremaining eligibility under the aggregate loan limits. As long as there is no conflicting information, you may rely on the\\nfinancial aid history (provided on the ISIR as well as on the NSLDS Professional Access website) and the Transfer Student\\nMonitoring process (for transfer students only) to tell you if a student is about to exceed the applicable aggregate loan\\nlimit. (See Volume 1, Chapter 3 for more detail on NSLDS financial aid history, which may also affect eligibility for other\\nTitle IV programs.)\\nThe Loan History in NSLDS for a borrower who has received Title IV loans shows Aggregate Loan Information for the\\nborrower9s outstanding subsidized and unsubsidized loans. The Subsidized and Unsubsidized Aggregate Outstanding\\nPrincipal Balance amounts shown for a borrower in NSLDS do not include unpaid accrued interest, capitalized interest\\n(unpaid interest that has been added to the principal balance of the loan), or other charges, as these amounts are not\\ncounted against the aggregate loan limits.\\nFor each individual loan that a borrower has received, NSLDS shows both the Outstanding Principal Balance (OPB) and the\\nAggregate Outstanding Principal Balance (Agg. OPB). The OPB is what the borrower owes, which may include capitalized\\ninterest and other charges. The Agg. OPB is the portion of the OPB that counts against the aggregate loan limits for\\nsubsidized and unsubsidized loans.\\nFor instance, suppose a student has a Direct Unsubsidized Loan disbursed in the amount of $5,000. Over time, $200 in\\ninterest accrues and is capitalized. Assuming that the borrower has made no payments on the loan, the OPB on the loan\\nwill be $5,200 (this is the amount the borrower owes), and the Agg. OPB will be $5,000 (this is the amount that is counted\\nagainst the aggregate loan limit). If you are looking at information in NSLDS for individual loans, it is the Agg. OPB that\\nyou should use to determine the student9s remaining loan eligibility under the applicable aggregate loan limit.\\nThe Subsidized and Unsubsidized Aggregate Outstanding Principal Balance amounts displayed in NSLDS for a borrower')],\n",
       " 'response': 'The maximum loan amount the student may receive for the program at School B (for the abbreviated loan period and any subsequent loan period combined) is a total of $1,815, not more than $1,155 of which may be subsidized.'}"
      ]
     },
     "execution_count": 38,
     "metadata": {},
     "output_type": "execute_result"
    }
   ],
   "source": [
    "rag_graph.invoke({\"question\" : \"What is the maximum loan amount?\"})"
   ]
  },
  {
   "cell_type": "markdown",
   "metadata": {
    "id": "gReMizYk8qd-"
   },
   "source": [
    "### RAG Limitation\n",
    "\n",
    "Notice how we're hard-coding our data, while this is simply meant to be an illustrative example - you could easily extend this to work with any provied paper or document in order to have a more dynamic system.\n",
    "\n",
    "For now, we'll stick with this single hard-coded example in order to keep complexity down in an already very long notebook!"
   ]
  },
  {
   "cell_type": "markdown",
   "metadata": {
    "id": "oxkbuir-H5rE"
   },
   "source": [
    "##### 🏗️ Activity #1 (Bonus Marks)\n",
    "\n",
    "Allow the system to dynamically fetch Arxiv papers instead of hard coding them.\n",
    "\n",
    "> HINT: Tuesday's assignment will be very useful here."
   ]
  },
  {
   "cell_type": "code",
   "execution_count": 39,
   "metadata": {},
   "outputs": [],
   "source": [
    "# import sys\n",
    "# !{sys.executable} -m pip install --upgrade arxiv\n",
    "# import arxiv\n",
    "# import tempfile\n",
    "# import os\n",
    "# from langchain_community.document_loaders import PyMuPDFLoader\n",
    "# from typing import List, Optional\n",
    "\n",
    "# def fetch_arxiv_papers(query: str, max_results: int = 5) -> List:\n",
    "#    \"\"\"\n",
    "#    Fetch papers from ArXiv based on a search query\n",
    "\n",
    "#    Args:\n",
    "#       query: Search query for ArXiv papers\n",
    "#       max_results: Maximum number of papers to fetch\n",
    "\n",
    "#    Returns:\n",
    "#       List of processed document chunks\n",
    "#    \"\"\"\n",
    "#    # Create ArXiv client and search\n",
    "#    client = arxiv.Client()\n",
    "#    search = arxiv.Search(\n",
    "#       query=query,\n",
    "#       max_results=max_results,\n",
    "#       sort_by=arxiv.SortCriterion.SubmittedDate\n",
    "#    )\n",
    "\n",
    "#    all_chunks = []\n",
    "\n",
    "#    # Create temporary directory for downloads\n",
    "#    with tempfile.TemporaryDirectory() as temp_dir:\n",
    "#       for paper in client.results(search):\n",
    "#             try:\n",
    "#                # Download PDF to temporary directory\n",
    "#                pdf_path = paper.download_pdf(dirpath=temp_dir)\n",
    "\n",
    "#                # Load and process the PDF\n",
    "#                loader = PyMuPDFLoader(pdf_path)\n",
    "#                documents = loader.load()\n",
    "\n",
    "#                # Add metadata to each document\n",
    "#                for doc in documents:\n",
    "#                   doc.metadata.update({\n",
    "#                         'title': paper.title,\n",
    "#                         'authors': ', '.join([author.name for author in paper.authors]),\n",
    "#                         'published': paper.published.strftime('%Y-%m-%d'),\n",
    "#                         'arxiv_id': paper.entry_id.split('/')[-1],\n",
    "#                         'summary': paper.summary[:500] + '...' if len(paper.summary) > 500 else paper.summary\n",
    "#                   })\n",
    "\n",
    "#                # Chunk the documents\n",
    "#                chunks = text_splitter.split_documents(documents)\n",
    "#                all_chunks.extend(chunks)\n",
    "\n",
    "#             except Exception as e:\n",
    "#                print(f\"Error processing paper {paper.title}: {e}\")\n",
    "#                continue\n",
    "\n",
    "#    return all_chunks\n",
    "\n",
    "# def create_dynamic_rag_system(arxiv_query: str):\n",
    "#    \"\"\"\n",
    "#    Create a RAG system with dynamically fetched ArXiv papers\n",
    "\n",
    "#    Args:\n",
    "#       arxiv_query: Query to search ArXiv papers\n",
    "\n",
    "#    Returns:\n",
    "#       Tuple of (vectorstore, retriever, rag_graph)\n",
    "#    \"\"\"\n",
    "#    # Fetch papers dynamically\n",
    "#    print(f\"Fetching papers for query: {arxiv_query}\")\n",
    "#    knowledge_chunks = fetch_arxiv_papers(arxiv_query)\n",
    "#    print(f\"Fetched {len(knowledge_chunks)} document chunks\")\n",
    "\n",
    "#    # Create vector store with dynamic content\n",
    "#    vectorstore = Qdrant.from_documents(\n",
    "#       documents=knowledge_chunks,\n",
    "#       embedding=embedding_model,\n",
    "#       location=\":memory:\"\n",
    "#    )\n",
    "\n",
    "#    # Create retriever\n",
    "#    retriever = vectorstore.as_retriever()\n",
    "\n",
    "#    # Create RAG graph with dynamic retriever\n",
    "#    def dynamic_retrieve(state: State) -> State:\n",
    "#       retrieved_docs = retriever.invoke(state[\"question\"])\n",
    "#       return {\"context\": retrieved_docs}\n",
    "\n",
    "#    def dynamic_generate(state: State) -> State:\n",
    "#       generator_chain = chat_prompt | openai_chat_model | StrOutputParser()\n",
    "#       response = generator_chain.invoke({\"query\": state[\"question\"], \"context\": state[\"context\"]})\n",
    "#       return {\"response\": response}\n",
    "\n",
    "#    # Build the graph\n",
    "#    graph_builder = StateGraph(State)\n",
    "#    graph_builder = graph_builder.add_sequence([dynamic_retrieve, dynamic_generate])\n",
    "#    graph_builder.add_edge(START, \"dynamic_retrieve\")\n",
    "#    dynamic_rag_graph = graph_builder.compile()\n",
    "\n",
    "#    return vectorstore, retriever, dynamic_rag_graph"
   ]
  },
  {
   "cell_type": "markdown",
   "metadata": {
    "id": "7U6a_pqQ9uWf"
   },
   "source": [
    "## Task 2: Helper Functions for Agent Graphs\n",
    "\n",
    "We'll be using a number of agents, nodes, and supervisors in the rest of the notebook - and so it will help to have a collection of useful helper functions that we can leverage to make our lives easier going forward.\n",
    "\n",
    "Let's start with the most simple one!"
   ]
  },
  {
   "cell_type": "markdown",
   "metadata": {
    "id": "IDUnpEEl-L_F"
   },
   "source": [
    "#### Import Wall\n",
    "\n",
    "Here's a wall of imports we'll be needing going forward!"
   ]
  },
  {
   "cell_type": "code",
   "execution_count": 40,
   "metadata": {
    "id": "TbzoL3Q3-SG1"
   },
   "outputs": [],
   "source": [
    "from typing import Any, Callable, List, Optional, TypedDict, Union\n",
    "\n",
    "from langchain.agents import AgentExecutor, create_openai_functions_agent\n",
    "from langchain.output_parsers.openai_functions import JsonOutputFunctionsParser\n",
    "from langchain_core.prompts import ChatPromptTemplate, MessagesPlaceholder\n",
    "from langchain_core.messages import AIMessage, BaseMessage, HumanMessage\n",
    "from langchain_core.runnables import Runnable\n",
    "from langchain_core.tools import BaseTool\n",
    "from langchain_openai import ChatOpenAI\n",
    "\n",
    "from langgraph.graph import END, StateGraph"
   ]
  },
  {
   "cell_type": "markdown",
   "metadata": {
    "id": "qb6Z3EEz-Asi"
   },
   "source": [
    "### Agent Node Helper\n",
    "\n",
    "Since we're going to be wrapping each of our agents into a node - it will help to have an easy way to create the node!"
   ]
  },
  {
   "cell_type": "code",
   "execution_count": 41,
   "metadata": {
    "id": "5IF7KWfS-JKd"
   },
   "outputs": [],
   "source": [
    "def agent_node(state, agent, name):\n",
    "    result = agent.invoke(state)\n",
    "    return {\"messages\": [HumanMessage(content=result[\"output\"], name=name)]}"
   ]
  },
  {
   "cell_type": "markdown",
   "metadata": {
    "id": "fwND2teK-WHm"
   },
   "source": [
    "### Agent Creation Helper Function\n",
    "\n",
    "Since we know we'll need to create agents to populate our agent nodes, let's use a helper function for that as well!\n",
    "\n",
    "Notice a few things:\n",
    "\n",
    "1. We have a standard suffix to append to our system messages for each agent to handle the tool calling and boilerplate prompting.\n",
    "2. Each agent has its our scratchpad.\n",
    "3. We're relying on OpenAI's function-calling API for tool selection\n",
    "4. Each agent is its own executor."
   ]
  },
  {
   "cell_type": "code",
   "execution_count": 42,
   "metadata": {
    "id": "NxLyHJt5-eUx"
   },
   "outputs": [],
   "source": [
    "def create_agent(\n",
    "    llm: ChatOpenAI,\n",
    "    tools: list,\n",
    "    system_prompt: str,\n",
    ") -> str:\n",
    "    \"\"\"Create a function-calling agent and add it to the graph.\"\"\"\n",
    "    system_prompt += (\"\\nWork autonomously according to your specialty, using the tools available to you.\"\n",
    "    \" Do not ask for clarification.\"\n",
    "    \" Your other team members (and other teams) will collaborate with you with their own specialties.\"\n",
    "    \" You are chosen for a reason!\")\n",
    "    prompt = ChatPromptTemplate.from_messages(\n",
    "        [\n",
    "            (\n",
    "                \"system\",\n",
    "                system_prompt,\n",
    "            ),\n",
    "            MessagesPlaceholder(variable_name=\"messages\"),\n",
    "            MessagesPlaceholder(variable_name=\"agent_scratchpad\"),\n",
    "        ]\n",
    "    )\n",
    "    agent = create_openai_functions_agent(llm, tools, prompt)\n",
    "    executor = AgentExecutor(agent=agent, tools=tools)\n",
    "    return executor"
   ]
  },
  {
   "cell_type": "markdown",
   "metadata": {
    "id": "S6kmlR9d-1K5"
   },
   "source": [
    "### Supervisor Helper Function\n",
    "\n",
    "Finally, we need a \"supervisor\" that decides and routes tasks to specific agents.\n",
    "\n",
    "Since each \"team\" will have a collection of potential agents - this \"supervisor\" will act as an \"intelligent\" router to make sure that the right agent is selected for the right task.\n",
    "\n",
    "Notice that, at the end of the day, this \"supervisor\" is simply directing who acts next - or if the state is considered \"done\"."
   ]
  },
  {
   "cell_type": "code",
   "execution_count": 43,
   "metadata": {
    "id": "S2MXA83mrYE2"
   },
   "outputs": [],
   "source": [
    "def create_team_supervisor(llm: ChatOpenAI, system_prompt, members) -> str:\n",
    "    \"\"\"An LLM-based router.\"\"\"\n",
    "    options = [\"FINISH\"] + members\n",
    "    function_def = {\n",
    "        \"name\": \"route\",\n",
    "        \"description\": \"Select the next role.\",\n",
    "        \"parameters\": {\n",
    "            \"title\": \"routeSchema\",\n",
    "            \"type\": \"object\",\n",
    "            \"properties\": {\n",
    "                \"next\": {\n",
    "                    \"title\": \"Next\",\n",
    "                    \"anyOf\": [\n",
    "                        {\"enum\": options},\n",
    "                    ],\n",
    "                },\n",
    "            },\n",
    "            \"required\": [\"next\"],\n",
    "        },\n",
    "    }\n",
    "    prompt = ChatPromptTemplate.from_messages(\n",
    "        [\n",
    "            (\"system\", system_prompt),\n",
    "            MessagesPlaceholder(variable_name=\"messages\"),\n",
    "            (\n",
    "                \"system\",\n",
    "                \"Given the conversation above, who should act next?\"\n",
    "                \" Or should we FINISH? Select one of: {options}\",\n",
    "            ),\n",
    "        ]\n",
    "    ).partial(options=str(options), team_members=\", \".join(members))\n",
    "    return (\n",
    "        prompt\n",
    "        | llm.bind_functions(functions=[function_def], function_call=\"route\")\n",
    "        | JsonOutputFunctionsParser()\n",
    "    )"
   ]
  },
  {
   "cell_type": "markdown",
   "metadata": {
    "id": "jd0zfyq48jKb"
   },
   "source": [
    "## Task 3: Research Team - A LangGraph for Researching Loan Policy\n",
    "\n",
    "Now that we have our RAG chain set-up and some awesome helper functions, we want to create a LangGraph related to researching a specific topic, in this case: Loans!\n",
    "\n",
    "We're going to start by equipping our Research Team with a few tools:\n",
    "\n",
    "1. Tavily Search - aka \"Google\", for the most up to date information possible.\n",
    "2. Our RAG chain - specific and high quality information about our topic.\n",
    "\n",
    "Let's create those tools now!"
   ]
  },
  {
   "cell_type": "markdown",
   "metadata": {
    "id": "VNsVTZrH_alw"
   },
   "source": [
    "### Tool Creation\n",
    "\n",
    "As you can see below, some tools already come pre-packaged ready to use!"
   ]
  },
  {
   "cell_type": "code",
   "execution_count": 44,
   "metadata": {
    "id": "ce7FKTZDgAWG"
   },
   "outputs": [
    {
     "name": "stderr",
     "output_type": "stream",
     "text": [
      "/tmp/ipykernel_94980/1911882425.py:3: LangChainDeprecationWarning: The class `TavilySearchResults` was deprecated in LangChain 0.3.25 and will be removed in 1.0. An updated version of the class exists in the :class:`~langchain-tavily package and should be used instead. To use it run `pip install -U :class:`~langchain-tavily` and import as `from :class:`~langchain_tavily import TavilySearch``.\n",
      "  tavily_tool = TavilySearchResults(max_results=5)\n"
     ]
    }
   ],
   "source": [
    "from langchain_community.tools.tavily_search import TavilySearchResults\n",
    "\n",
    "tavily_tool = TavilySearchResults(max_results=5)"
   ]
  },
  {
   "cell_type": "markdown",
   "metadata": {
    "id": "NIR7cbTL9agM"
   },
   "source": [
    "Creating a custom tool, however, is very straightforward.\n",
    "\n",
    "> NOTE: You *must* include a docstring, as that is what the LLM will consider when deciding when to use this tool."
   ]
  },
  {
   "cell_type": "code",
   "execution_count": 45,
   "metadata": {
    "id": "sSwO2L_UqFhm"
   },
   "outputs": [],
   "source": [
    "from typing import Annotated, List, Tuple, Union\n",
    "from langchain_core.tools import tool\n",
    "\n",
    "@tool\n",
    "def retrieve_information(\n",
    "    query: Annotated[str, \"query to ask the retrieve information tool\"]\n",
    "    ):\n",
    "  \"\"\"Use Retrieval Augmented Generation to retrieve information about student loan policies\"\"\"\n",
    "  return rag_graph.invoke({\"question\" : query})"
   ]
  },
  {
   "cell_type": "markdown",
   "metadata": {
    "id": "nxsMnqjpBTCj"
   },
   "source": [
    "> NOTE: We could just as easily use the LCEL chain directly, since nodes can be LCEL objects - but creating a tool helps explain the tool creation process at the same time."
   ]
  },
  {
   "cell_type": "markdown",
   "metadata": {
    "id": "oDHCajO4_gB2"
   },
   "source": [
    "### Research Team State\n",
    "\n",
    "Since we're using LangGraph - we're going to need state!\n",
    "\n",
    "Let's look at how we've created our state below."
   ]
  },
  {
   "cell_type": "code",
   "execution_count": 46,
   "metadata": {
    "id": "mXminK9d_1fa"
   },
   "outputs": [],
   "source": [
    "import functools\n",
    "import operator\n",
    "\n",
    "from langchain_core.messages import AIMessage, BaseMessage, HumanMessage\n",
    "from langchain_openai.chat_models import ChatOpenAI\n",
    "import functools\n",
    "\n",
    "class ResearchTeamState(TypedDict):\n",
    "    messages: Annotated[List[BaseMessage], operator.add]\n",
    "    team_members: List[str]\n",
    "    next: str"
   ]
  },
  {
   "cell_type": "markdown",
   "metadata": {
    "id": "fvPM5msq_18C"
   },
   "source": [
    "Notice how we've used `messages`, `team_members`, and `next`.\n",
    "\n",
    "These states will help us understand:\n",
    "\n",
    "1. What we've done so far (`messages`)\n",
    "2. Which team members we have access to (`team_members`)\n",
    "3. Which team member is up next! (`next`)"
   ]
  },
  {
   "cell_type": "markdown",
   "metadata": {
    "id": "Mu7B_6qHAFjK"
   },
   "source": [
    "### Research Team LLM\n",
    "\n",
    "We'll be using `gpt-4o-mini` today. This LLM is going to be doing a lot of reasoning - but we also want to keep our costs down, so we'll use a lightweight; but powerful, model!"
   ]
  },
  {
   "cell_type": "code",
   "execution_count": 47,
   "metadata": {
    "id": "dTNqrip8AcKR"
   },
   "outputs": [],
   "source": [
    "llm = ChatOpenAI(model=\"gpt-4o-mini\")"
   ]
  },
  {
   "cell_type": "markdown",
   "metadata": {
    "id": "pfb_VCNKIy9w"
   },
   "source": [
    "##### ❓ Question #1:\n",
    "\n",
    "Why is a \"powerful\" LLM important for this use-case?\n",
    "\n",
    "`Because we're using tools, and many tools can be selected based on context, an LLM with adequate reasoning capabilities is necessary in order to ensure reliable selection of the appropriate tool, especially as the tool list grows`\n",
    "\n",
    "What tasks must our Agent perform that make it such that the LLM's reasoning capability is a potential limiter?\n",
    "\n",
    "`In addition to tool selection described above, it would also need to understand the roles of other team members, passing the baton to them accordingly, as well as knowing when to end the chain.`"
   ]
  },
  {
   "cell_type": "markdown",
   "metadata": {
    "id": "ZR_1LuMKAekf"
   },
   "source": [
    "### Research Team Agents & Nodes\n",
    "\n",
    "Now we can use our helper functions to create our agent nodes, with their related tools.\n",
    "\n",
    "Let's start with our search agent node."
   ]
  },
  {
   "cell_type": "markdown",
   "metadata": {
    "id": "uzx6wuPoAlPq"
   },
   "source": [
    "#### Research Team: Search Agent\n",
    "\n",
    "We're going to give our agent access to the Tavily tool, power it with our GPT-4o Mini model, and then create its node - and name it `Search`."
   ]
  },
  {
   "cell_type": "code",
   "execution_count": 48,
   "metadata": {
    "id": "FIlLPxj7Atpj"
   },
   "outputs": [],
   "source": [
    "search_agent = create_agent(\n",
    "    llm,\n",
    "    [tavily_tool],\n",
    "    \"You are a research assistant who can search for up-to-date info using the tavily search engine.\",\n",
    ")\n",
    "search_node = functools.partial(agent_node, agent=search_agent, name=\"Search\")"
   ]
  },
  {
   "cell_type": "markdown",
   "metadata": {
    "id": "emLtesudA9Dd"
   },
   "source": [
    "#### Research Team: RAG Agent Node\n",
    "\n",
    "Now we can wrap our LCEL RAG pipeline in an agent node as well, using the LCEL RAG pipeline as the tool, as created above."
   ]
  },
  {
   "cell_type": "code",
   "execution_count": 49,
   "metadata": {
    "id": "z-nnAG9XA_p7"
   },
   "outputs": [],
   "source": [
    "research_agent = create_agent(\n",
    "    llm,\n",
    "    [retrieve_information],\n",
    "    \"You are a research assistant who can provide specific information on the student loan policies\",\n",
    ")\n",
    "research_node = functools.partial(agent_node, agent=research_agent, name=\"LoanRetriever\")"
   ]
  },
  {
   "cell_type": "markdown",
   "metadata": {
    "id": "dA5z6T1CBeSc"
   },
   "source": [
    "### Research Team Supervisor Agent\n",
    "\n",
    "Notice that we're not yet creating our supervisor *node*, simply the agent here.\n",
    "\n",
    "Also notice how we need to provide a few extra pieces of information - including which tools we're using.\n",
    "\n",
    "> NOTE: It's important to use the *exact* tool name, as that is how the LLM will reference the tool. Also, it's important that your tool name is all a single alphanumeric string!\n",
    "\n"
   ]
  },
  {
   "cell_type": "code",
   "execution_count": 50,
   "metadata": {
    "id": "J0g8CQMBrtFs"
   },
   "outputs": [
    {
     "name": "stderr",
     "output_type": "stream",
     "text": [
      "/tmp/ipykernel_94980/488856706.py:34: LangChainDeprecationWarning: The method `BaseChatOpenAI.bind_functions` was deprecated in langchain-openai 0.2.1 and will be removed in 1.0.0. Use :meth:`~langchain_openai.chat_models.base.ChatOpenAI.bind_tools` instead.\n",
      "  | llm.bind_functions(functions=[function_def], function_call=\"route\")\n"
     ]
    }
   ],
   "source": [
    "supervisor_agent = create_team_supervisor(\n",
    "    llm,\n",
    "    (\"You are a supervisor tasked with managing a conversation between the\"\n",
    "    \" following workers:  Search, LoanRetriever. Given the following user request,\"\n",
    "    \" determine the subject to be researched and respond with the worker to act next. Each worker will perform a\"\n",
    "    \" task and respond with their results and status. \"\n",
    "    \" You should never ask your team to do anything beyond research. They are not required to write content or posts.\"\n",
    "    \" You should only pass tasks to workers that are specifically research focused.\"\n",
    "    \" When finished, respond with FINISH.\"),\n",
    "    [\"Search\", \"LoanRetriever\"],\n",
    ")"
   ]
  },
  {
   "cell_type": "markdown",
   "metadata": {
    "id": "qohn0DcgB_U1"
   },
   "source": [
    "### Research Team Graph Creation\n",
    "\n",
    "Now that we have our research team agent nodes created, and our supervisor agent - let's finally construct our graph!\n",
    "\n",
    "We'll start by creating our base graph from our state, and then adding the nodes/agent we've created as nodes on our LangGraph."
   ]
  },
  {
   "cell_type": "code",
   "execution_count": 51,
   "metadata": {
    "id": "p0s2GAgJCN8G"
   },
   "outputs": [
    {
     "data": {
      "text/plain": [
       "<langgraph.graph.state.StateGraph at 0x7395b8a2b350>"
      ]
     },
     "execution_count": 51,
     "metadata": {},
     "output_type": "execute_result"
    }
   ],
   "source": [
    "research_graph = StateGraph(ResearchTeamState)\n",
    "\n",
    "research_graph.add_node(\"Search\", search_node)\n",
    "research_graph.add_node(\"LoanRetriever\", research_node)\n",
    "research_graph.add_node(\"supervisor\", supervisor_agent)"
   ]
  },
  {
   "cell_type": "markdown",
   "metadata": {
    "id": "33qixRGNCaAX"
   },
   "source": [
    "Now we can define our edges - include our conditional edge from our supervisor to our agent nodes.\n",
    "\n",
    "Notice how we're always routing our agent nodes back to our supervisor!"
   ]
  },
  {
   "cell_type": "code",
   "execution_count": 52,
   "metadata": {
    "id": "yYSJIhijsGyg"
   },
   "outputs": [
    {
     "data": {
      "text/plain": [
       "<langgraph.graph.state.StateGraph at 0x7395b8a2b350>"
      ]
     },
     "execution_count": 52,
     "metadata": {},
     "output_type": "execute_result"
    }
   ],
   "source": [
    "research_graph.add_edge(\"Search\", \"supervisor\")\n",
    "research_graph.add_edge(\"LoanRetriever\", \"supervisor\")\n",
    "research_graph.add_conditional_edges(\n",
    "    \"supervisor\",\n",
    "    lambda x: x[\"next\"],\n",
    "    {\"Search\": \"Search\", \"LoanRetriever\": \"LoanRetriever\", \"FINISH\": END},\n",
    ")"
   ]
  },
  {
   "cell_type": "markdown",
   "metadata": {
    "id": "hgGcuZzkCj1-"
   },
   "source": [
    "Now we can set our supervisor node as the entry point, and compile our graph!"
   ]
  },
  {
   "cell_type": "code",
   "execution_count": 53,
   "metadata": {
    "id": "1l-1I2Z3CnPX"
   },
   "outputs": [],
   "source": [
    "research_graph.set_entry_point(\"supervisor\")\n",
    "compiled_research_graph = research_graph.compile()"
   ]
  },
  {
   "cell_type": "markdown",
   "metadata": {
    "id": "GDwQpYTSEY13"
   },
   "source": [
    "#### Display Graph"
   ]
  },
  {
   "cell_type": "code",
   "execution_count": 54,
   "metadata": {},
   "outputs": [],
   "source": [
    "import nest_asyncio\n",
    "nest_asyncio.apply()"
   ]
  },
  {
   "cell_type": "code",
   "execution_count": 55,
   "metadata": {
    "colab": {
     "base_uri": "https://localhost:8080/",
     "height": 488
    },
    "id": "l8n6SXhpEa2b",
    "outputId": "6dac5e4e-daed-4d7a-d629-cd83119e7e2c"
   },
   "outputs": [
    {
     "ename": "BrowserError",
     "evalue": "Browser closed unexpectedly:\n",
     "output_type": "error",
     "traceback": [
      "\u001b[31m---------------------------------------------------------------------------\u001b[39m",
      "\u001b[31mBrowserError\u001b[39m                              Traceback (most recent call last)",
      "\u001b[36mCell\u001b[39m\u001b[36m \u001b[39m\u001b[32mIn[55]\u001b[39m\u001b[32m, line 6\u001b[39m\n\u001b[32m      1\u001b[39m \u001b[38;5;28;01mfrom\u001b[39;00m\u001b[38;5;250m \u001b[39m\u001b[34;01mIPython\u001b[39;00m\u001b[34;01m.\u001b[39;00m\u001b[34;01mdisplay\u001b[39;00m\u001b[38;5;250m \u001b[39m\u001b[38;5;28;01mimport\u001b[39;00m Image, display\n\u001b[32m      2\u001b[39m \u001b[38;5;28;01mfrom\u001b[39;00m\u001b[38;5;250m \u001b[39m\u001b[34;01mlangchain_core\u001b[39;00m\u001b[34;01m.\u001b[39;00m\u001b[34;01mrunnables\u001b[39;00m\u001b[34;01m.\u001b[39;00m\u001b[34;01mgraph\u001b[39;00m\u001b[38;5;250m \u001b[39m\u001b[38;5;28;01mimport\u001b[39;00m CurveStyle, MermaidDrawMethod, NodeStyles\n\u001b[32m      4\u001b[39m display(\n\u001b[32m      5\u001b[39m     Image(\n\u001b[32m----> \u001b[39m\u001b[32m6\u001b[39m         \u001b[43mcompiled_research_graph\u001b[49m\u001b[43m.\u001b[49m\u001b[43mget_graph\u001b[49m\u001b[43m(\u001b[49m\u001b[43m)\u001b[49m\u001b[43m.\u001b[49m\u001b[43mdraw_mermaid_png\u001b[49m\u001b[43m(\u001b[49m\n\u001b[32m      7\u001b[39m \u001b[43m            \u001b[49m\u001b[43mcurve_style\u001b[49m\u001b[43m=\u001b[49m\u001b[43mCurveStyle\u001b[49m\u001b[43m.\u001b[49m\u001b[43mLINEAR\u001b[49m\u001b[43m,\u001b[49m\n\u001b[32m      8\u001b[39m \u001b[43m            \u001b[49m\u001b[43mnode_colors\u001b[49m\u001b[43m=\u001b[49m\u001b[43mNodeStyles\u001b[49m\u001b[43m(\u001b[49m\u001b[43mfirst\u001b[49m\u001b[43m=\u001b[49m\u001b[33;43m\"\u001b[39;49m\u001b[33;43m#ffdfba\u001b[39;49m\u001b[33;43m\"\u001b[39;49m\u001b[43m,\u001b[49m\u001b[43m \u001b[49m\u001b[43mlast\u001b[49m\u001b[43m=\u001b[49m\u001b[33;43m\"\u001b[39;49m\u001b[33;43m#baffc9\u001b[39;49m\u001b[33;43m\"\u001b[39;49m\u001b[43m,\u001b[49m\u001b[43m \u001b[49m\u001b[43mdefault\u001b[49m\u001b[43m=\u001b[49m\u001b[33;43m\"\u001b[39;49m\u001b[33;43m#fad7de\u001b[39;49m\u001b[33;43m\"\u001b[39;49m\u001b[43m)\u001b[49m\u001b[43m,\u001b[49m\n\u001b[32m      9\u001b[39m \u001b[43m            \u001b[49m\u001b[43mwrap_label_n_words\u001b[49m\u001b[43m=\u001b[49m\u001b[32;43m9\u001b[39;49m\u001b[43m,\u001b[49m\n\u001b[32m     10\u001b[39m \u001b[43m            \u001b[49m\u001b[43moutput_file_path\u001b[49m\u001b[43m=\u001b[49m\u001b[38;5;28;43;01mNone\u001b[39;49;00m\u001b[43m,\u001b[49m\n\u001b[32m     11\u001b[39m \u001b[43m            \u001b[49m\u001b[43mdraw_method\u001b[49m\u001b[43m=\u001b[49m\u001b[43mMermaidDrawMethod\u001b[49m\u001b[43m.\u001b[49m\u001b[43mPYPPETEER\u001b[49m\u001b[43m,\u001b[49m\n\u001b[32m     12\u001b[39m \u001b[43m            \u001b[49m\u001b[43mbackground_color\u001b[49m\u001b[43m=\u001b[49m\u001b[33;43m\"\u001b[39;49m\u001b[33;43mwhite\u001b[39;49m\u001b[33;43m\"\u001b[39;49m\u001b[43m,\u001b[49m\n\u001b[32m     13\u001b[39m \u001b[43m            \u001b[49m\u001b[43mpadding\u001b[49m\u001b[43m=\u001b[49m\u001b[32;43m10\u001b[39;49m\u001b[43m,\u001b[49m\n\u001b[32m     14\u001b[39m \u001b[43m        \u001b[49m\u001b[43m)\u001b[49m\n\u001b[32m     15\u001b[39m     )\n\u001b[32m     16\u001b[39m )\n",
      "\u001b[36mFile \u001b[39m\u001b[32m~/ml/AIE/06_Multi_Agent_with_LangGraph/.venv/lib/python3.11/site-packages/langchain_core/runnables/graph.py:693\u001b[39m, in \u001b[36mGraph.draw_mermaid_png\u001b[39m\u001b[34m(self, curve_style, node_colors, wrap_label_n_words, output_file_path, draw_method, background_color, padding, max_retries, retry_delay, frontmatter_config)\u001b[39m\n\u001b[32m    685\u001b[39m \u001b[38;5;28;01mfrom\u001b[39;00m\u001b[38;5;250m \u001b[39m\u001b[34;01mlangchain_core\u001b[39;00m\u001b[34;01m.\u001b[39;00m\u001b[34;01mrunnables\u001b[39;00m\u001b[34;01m.\u001b[39;00m\u001b[34;01mgraph_mermaid\u001b[39;00m\u001b[38;5;250m \u001b[39m\u001b[38;5;28;01mimport\u001b[39;00m draw_mermaid_png\n\u001b[32m    687\u001b[39m mermaid_syntax = \u001b[38;5;28mself\u001b[39m.draw_mermaid(\n\u001b[32m    688\u001b[39m     curve_style=curve_style,\n\u001b[32m    689\u001b[39m     node_colors=node_colors,\n\u001b[32m    690\u001b[39m     wrap_label_n_words=wrap_label_n_words,\n\u001b[32m    691\u001b[39m     frontmatter_config=frontmatter_config,\n\u001b[32m    692\u001b[39m )\n\u001b[32m--> \u001b[39m\u001b[32m693\u001b[39m \u001b[38;5;28;01mreturn\u001b[39;00m \u001b[43mdraw_mermaid_png\u001b[49m\u001b[43m(\u001b[49m\n\u001b[32m    694\u001b[39m \u001b[43m    \u001b[49m\u001b[43mmermaid_syntax\u001b[49m\u001b[43m=\u001b[49m\u001b[43mmermaid_syntax\u001b[49m\u001b[43m,\u001b[49m\n\u001b[32m    695\u001b[39m \u001b[43m    \u001b[49m\u001b[43moutput_file_path\u001b[49m\u001b[43m=\u001b[49m\u001b[43moutput_file_path\u001b[49m\u001b[43m,\u001b[49m\n\u001b[32m    696\u001b[39m \u001b[43m    \u001b[49m\u001b[43mdraw_method\u001b[49m\u001b[43m=\u001b[49m\u001b[43mdraw_method\u001b[49m\u001b[43m,\u001b[49m\n\u001b[32m    697\u001b[39m \u001b[43m    \u001b[49m\u001b[43mbackground_color\u001b[49m\u001b[43m=\u001b[49m\u001b[43mbackground_color\u001b[49m\u001b[43m,\u001b[49m\n\u001b[32m    698\u001b[39m \u001b[43m    \u001b[49m\u001b[43mpadding\u001b[49m\u001b[43m=\u001b[49m\u001b[43mpadding\u001b[49m\u001b[43m,\u001b[49m\n\u001b[32m    699\u001b[39m \u001b[43m    \u001b[49m\u001b[43mmax_retries\u001b[49m\u001b[43m=\u001b[49m\u001b[43mmax_retries\u001b[49m\u001b[43m,\u001b[49m\n\u001b[32m    700\u001b[39m \u001b[43m    \u001b[49m\u001b[43mretry_delay\u001b[49m\u001b[43m=\u001b[49m\u001b[43mretry_delay\u001b[49m\u001b[43m,\u001b[49m\n\u001b[32m    701\u001b[39m \u001b[43m\u001b[49m\u001b[43m)\u001b[49m\n",
      "\u001b[36mFile \u001b[39m\u001b[32m~/ml/AIE/06_Multi_Agent_with_LangGraph/.venv/lib/python3.11/site-packages/langchain_core/runnables/graph_mermaid.py:287\u001b[39m, in \u001b[36mdraw_mermaid_png\u001b[39m\u001b[34m(mermaid_syntax, output_file_path, draw_method, background_color, padding, max_retries, retry_delay)\u001b[39m\n\u001b[32m    284\u001b[39m \u001b[38;5;28;01mif\u001b[39;00m draw_method == MermaidDrawMethod.PYPPETEER:\n\u001b[32m    285\u001b[39m     \u001b[38;5;28;01mimport\u001b[39;00m\u001b[38;5;250m \u001b[39m\u001b[34;01masyncio\u001b[39;00m\n\u001b[32m--> \u001b[39m\u001b[32m287\u001b[39m     img_bytes = \u001b[43masyncio\u001b[49m\u001b[43m.\u001b[49m\u001b[43mrun\u001b[49m\u001b[43m(\u001b[49m\n\u001b[32m    288\u001b[39m \u001b[43m        \u001b[49m\u001b[43m_render_mermaid_using_pyppeteer\u001b[49m\u001b[43m(\u001b[49m\n\u001b[32m    289\u001b[39m \u001b[43m            \u001b[49m\u001b[43mmermaid_syntax\u001b[49m\u001b[43m,\u001b[49m\u001b[43m \u001b[49m\u001b[43moutput_file_path\u001b[49m\u001b[43m,\u001b[49m\u001b[43m \u001b[49m\u001b[43mbackground_color\u001b[49m\u001b[43m,\u001b[49m\u001b[43m \u001b[49m\u001b[43mpadding\u001b[49m\n\u001b[32m    290\u001b[39m \u001b[43m        \u001b[49m\u001b[43m)\u001b[49m\n\u001b[32m    291\u001b[39m \u001b[43m    \u001b[49m\u001b[43m)\u001b[49m\n\u001b[32m    292\u001b[39m \u001b[38;5;28;01melif\u001b[39;00m draw_method == MermaidDrawMethod.API:\n\u001b[32m    293\u001b[39m     img_bytes = _render_mermaid_using_api(\n\u001b[32m    294\u001b[39m         mermaid_syntax,\n\u001b[32m    295\u001b[39m         output_file_path=output_file_path,\n\u001b[32m   (...)\u001b[39m\u001b[32m    298\u001b[39m         retry_delay=retry_delay,\n\u001b[32m    299\u001b[39m     )\n",
      "\u001b[36mFile \u001b[39m\u001b[32m~/ml/AIE/06_Multi_Agent_with_LangGraph/.venv/lib/python3.11/site-packages/nest_asyncio.py:30\u001b[39m, in \u001b[36m_patch_asyncio.<locals>.run\u001b[39m\u001b[34m(main, debug)\u001b[39m\n\u001b[32m     28\u001b[39m task = asyncio.ensure_future(main)\n\u001b[32m     29\u001b[39m \u001b[38;5;28;01mtry\u001b[39;00m:\n\u001b[32m---> \u001b[39m\u001b[32m30\u001b[39m     \u001b[38;5;28;01mreturn\u001b[39;00m \u001b[43mloop\u001b[49m\u001b[43m.\u001b[49m\u001b[43mrun_until_complete\u001b[49m\u001b[43m(\u001b[49m\u001b[43mtask\u001b[49m\u001b[43m)\u001b[49m\n\u001b[32m     31\u001b[39m \u001b[38;5;28;01mfinally\u001b[39;00m:\n\u001b[32m     32\u001b[39m     \u001b[38;5;28;01mif\u001b[39;00m \u001b[38;5;129;01mnot\u001b[39;00m task.done():\n",
      "\u001b[36mFile \u001b[39m\u001b[32m~/ml/AIE/06_Multi_Agent_with_LangGraph/.venv/lib/python3.11/site-packages/nest_asyncio.py:98\u001b[39m, in \u001b[36m_patch_loop.<locals>.run_until_complete\u001b[39m\u001b[34m(self, future)\u001b[39m\n\u001b[32m     95\u001b[39m \u001b[38;5;28;01mif\u001b[39;00m \u001b[38;5;129;01mnot\u001b[39;00m f.done():\n\u001b[32m     96\u001b[39m     \u001b[38;5;28;01mraise\u001b[39;00m \u001b[38;5;167;01mRuntimeError\u001b[39;00m(\n\u001b[32m     97\u001b[39m         \u001b[33m'\u001b[39m\u001b[33mEvent loop stopped before Future completed.\u001b[39m\u001b[33m'\u001b[39m)\n\u001b[32m---> \u001b[39m\u001b[32m98\u001b[39m \u001b[38;5;28;01mreturn\u001b[39;00m \u001b[43mf\u001b[49m\u001b[43m.\u001b[49m\u001b[43mresult\u001b[49m\u001b[43m(\u001b[49m\u001b[43m)\u001b[49m\n",
      "\u001b[36mFile \u001b[39m\u001b[32m~/.local/share/uv/python/cpython-3.11.13-linux-x86_64-gnu/lib/python3.11/asyncio/futures.py:203\u001b[39m, in \u001b[36mFuture.result\u001b[39m\u001b[34m(self)\u001b[39m\n\u001b[32m    201\u001b[39m \u001b[38;5;28mself\u001b[39m.__log_traceback = \u001b[38;5;28;01mFalse\u001b[39;00m\n\u001b[32m    202\u001b[39m \u001b[38;5;28;01mif\u001b[39;00m \u001b[38;5;28mself\u001b[39m._exception \u001b[38;5;129;01mis\u001b[39;00m \u001b[38;5;129;01mnot\u001b[39;00m \u001b[38;5;28;01mNone\u001b[39;00m:\n\u001b[32m--> \u001b[39m\u001b[32m203\u001b[39m     \u001b[38;5;28;01mraise\u001b[39;00m \u001b[38;5;28mself\u001b[39m._exception.with_traceback(\u001b[38;5;28mself\u001b[39m._exception_tb)\n\u001b[32m    204\u001b[39m \u001b[38;5;28;01mreturn\u001b[39;00m \u001b[38;5;28mself\u001b[39m._result\n",
      "\u001b[36mFile \u001b[39m\u001b[32m~/.local/share/uv/python/cpython-3.11.13-linux-x86_64-gnu/lib/python3.11/asyncio/tasks.py:277\u001b[39m, in \u001b[36mTask.__step\u001b[39m\u001b[34m(***failed resolving arguments***)\u001b[39m\n\u001b[32m    273\u001b[39m \u001b[38;5;28;01mtry\u001b[39;00m:\n\u001b[32m    274\u001b[39m     \u001b[38;5;28;01mif\u001b[39;00m exc \u001b[38;5;129;01mis\u001b[39;00m \u001b[38;5;28;01mNone\u001b[39;00m:\n\u001b[32m    275\u001b[39m         \u001b[38;5;66;03m# We use the `send` method directly, because coroutines\u001b[39;00m\n\u001b[32m    276\u001b[39m         \u001b[38;5;66;03m# don't have `__iter__` and `__next__` methods.\u001b[39;00m\n\u001b[32m--> \u001b[39m\u001b[32m277\u001b[39m         result = \u001b[43mcoro\u001b[49m\u001b[43m.\u001b[49m\u001b[43msend\u001b[49m\u001b[43m(\u001b[49m\u001b[38;5;28;43;01mNone\u001b[39;49;00m\u001b[43m)\u001b[49m\n\u001b[32m    278\u001b[39m     \u001b[38;5;28;01melse\u001b[39;00m:\n\u001b[32m    279\u001b[39m         result = coro.throw(exc)\n",
      "\u001b[36mFile \u001b[39m\u001b[32m~/ml/AIE/06_Multi_Agent_with_LangGraph/.venv/lib/python3.11/site-packages/langchain_core/runnables/graph_mermaid.py:325\u001b[39m, in \u001b[36m_render_mermaid_using_pyppeteer\u001b[39m\u001b[34m(mermaid_syntax, output_file_path, background_color, padding, device_scale_factor)\u001b[39m\n\u001b[32m    322\u001b[39m     msg = \u001b[33m\"\u001b[39m\u001b[33mInstall Pyppeteer to use the Pyppeteer method: `pip install pyppeteer`.\u001b[39m\u001b[33m\"\u001b[39m\n\u001b[32m    323\u001b[39m     \u001b[38;5;28;01mraise\u001b[39;00m \u001b[38;5;167;01mImportError\u001b[39;00m(msg) \u001b[38;5;28;01mfrom\u001b[39;00m\u001b[38;5;250m \u001b[39m\u001b[34;01me\u001b[39;00m\n\u001b[32m--> \u001b[39m\u001b[32m325\u001b[39m browser = \u001b[38;5;28;01mawait\u001b[39;00m launch()\n\u001b[32m    326\u001b[39m page = \u001b[38;5;28;01mawait\u001b[39;00m browser.newPage()\n\u001b[32m    328\u001b[39m \u001b[38;5;66;03m# Setup Mermaid JS\u001b[39;00m\n",
      "\u001b[36mFile \u001b[39m\u001b[32m~/ml/AIE/06_Multi_Agent_with_LangGraph/.venv/lib/python3.11/site-packages/pyppeteer/launcher.py:307\u001b[39m, in \u001b[36mlaunch\u001b[39m\u001b[34m(options, **kwargs)\u001b[39m\n\u001b[32m    239\u001b[39m \u001b[38;5;28;01masync\u001b[39;00m \u001b[38;5;28;01mdef\u001b[39;00m\u001b[38;5;250m \u001b[39m\u001b[34mlaunch\u001b[39m(options: \u001b[38;5;28mdict\u001b[39m = \u001b[38;5;28;01mNone\u001b[39;00m, **kwargs: Any) -> Browser:\n\u001b[32m    240\u001b[39m \u001b[38;5;250m    \u001b[39m\u001b[33;03m\"\"\"Start chrome process and return :class:`~pyppeteer.browser.Browser`.\u001b[39;00m\n\u001b[32m    241\u001b[39m \u001b[33;03m    This function is a shortcut to :meth:`Launcher(options, **kwargs).launch`.\u001b[39;00m\n\u001b[32m    242\u001b[39m \u001b[33;03m    Available options are:\u001b[39;00m\n\u001b[32m   (...)\u001b[39m\u001b[32m    305\u001b[39m \u001b[33;03m        option with extreme caution.\u001b[39;00m\n\u001b[32m    306\u001b[39m \u001b[33;03m    \"\"\"\u001b[39;00m\n\u001b[32m--> \u001b[39m\u001b[32m307\u001b[39m     \u001b[38;5;28;01mreturn\u001b[39;00m \u001b[38;5;28;01mawait\u001b[39;00m Launcher(options, **kwargs).launch()\n",
      "\u001b[36mFile \u001b[39m\u001b[32m~/ml/AIE/06_Multi_Agent_with_LangGraph/.venv/lib/python3.11/site-packages/pyppeteer/launcher.py:168\u001b[39m, in \u001b[36mLauncher.launch\u001b[39m\u001b[34m(self)\u001b[39m\n\u001b[32m    165\u001b[39m         signal.signal(signal.SIGHUP, _close_process)\n\u001b[32m    167\u001b[39m connectionDelay = \u001b[38;5;28mself\u001b[39m.slowMo\n\u001b[32m--> \u001b[39m\u001b[32m168\u001b[39m \u001b[38;5;28mself\u001b[39m.browserWSEndpoint = \u001b[43mget_ws_endpoint\u001b[49m\u001b[43m(\u001b[49m\u001b[38;5;28;43mself\u001b[39;49m\u001b[43m.\u001b[49m\u001b[43murl\u001b[49m\u001b[43m)\u001b[49m\n\u001b[32m    169\u001b[39m logger.info(\u001b[33mf\u001b[39m\u001b[33m'\u001b[39m\u001b[33mBrowser listening on: \u001b[39m\u001b[38;5;132;01m{\u001b[39;00m\u001b[38;5;28mself\u001b[39m.browserWSEndpoint\u001b[38;5;132;01m}\u001b[39;00m\u001b[33m'\u001b[39m)\n\u001b[32m    170\u001b[39m \u001b[38;5;28mself\u001b[39m.connection = Connection(\u001b[38;5;28mself\u001b[39m.browserWSEndpoint, \u001b[38;5;28mself\u001b[39m._loop, connectionDelay, )\n",
      "\u001b[36mFile \u001b[39m\u001b[32m~/ml/AIE/06_Multi_Agent_with_LangGraph/.venv/lib/python3.11/site-packages/pyppeteer/launcher.py:227\u001b[39m, in \u001b[36mget_ws_endpoint\u001b[39m\u001b[34m(url)\u001b[39m\n\u001b[32m    225\u001b[39m \u001b[38;5;28;01mwhile\u001b[39;00m (\u001b[38;5;28;01mTrue\u001b[39;00m):\n\u001b[32m    226\u001b[39m     \u001b[38;5;28;01mif\u001b[39;00m time.time() > timeout:\n\u001b[32m--> \u001b[39m\u001b[32m227\u001b[39m         \u001b[38;5;28;01mraise\u001b[39;00m BrowserError(\u001b[33m'\u001b[39m\u001b[33mBrowser closed unexpectedly:\u001b[39m\u001b[38;5;130;01m\\n\u001b[39;00m\u001b[33m'\u001b[39m)\n\u001b[32m    228\u001b[39m     \u001b[38;5;28;01mtry\u001b[39;00m:\n\u001b[32m    229\u001b[39m         \u001b[38;5;28;01mwith\u001b[39;00m urlopen(url) \u001b[38;5;28;01mas\u001b[39;00m f:\n",
      "\u001b[31mBrowserError\u001b[39m: Browser closed unexpectedly:\n"
     ]
    }
   ],
   "source": [
    "from IPython.display import Image, display\n",
    "from langchain_core.runnables.graph import CurveStyle, MermaidDrawMethod, NodeStyles\n",
    "\n",
    "display(\n",
    "    Image(\n",
    "        compiled_research_graph.get_graph().draw_mermaid_png(\n",
    "            curve_style=CurveStyle.LINEAR,\n",
    "            node_colors=NodeStyles(first=\"#ffdfba\", last=\"#baffc9\", default=\"#fad7de\"),\n",
    "            wrap_label_n_words=9,\n",
    "            output_file_path=None,\n",
    "            draw_method=MermaidDrawMethod.PYPPETEER,\n",
    "            background_color=\"white\",\n",
    "            padding=10,\n",
    "        )\n",
    "    )\n",
    ")"
   ]
  },
  {
   "cell_type": "markdown",
   "metadata": {
    "id": "bfRvA2QfCqFL"
   },
   "source": [
    "The next part is key - since we need to \"wrap\" our LangGraph in order for it to be compatible in the following steps - let's create an LCEL chain out of it!\n",
    "\n",
    "This allows us to \"broadcast\" messages down to our Research Team LangGraph!"
   ]
  },
  {
   "cell_type": "code",
   "execution_count": 56,
   "metadata": {
    "id": "1G7hmEINCx3i"
   },
   "outputs": [],
   "source": [
    "def enter_chain(message: str):\n",
    "    results = {\n",
    "        \"messages\": [HumanMessage(content=message)],\n",
    "    }\n",
    "    return results\n",
    "\n",
    "research_chain = enter_chain | compiled_research_graph"
   ]
  },
  {
   "cell_type": "markdown",
   "metadata": {
    "id": "EGdoCdXWC7Pi"
   },
   "source": [
    "Now, finally, we can take it for a spin!"
   ]
  },
  {
   "cell_type": "code",
   "execution_count": 57,
   "metadata": {
    "colab": {
     "base_uri": "https://localhost:8080/"
    },
    "id": "xIDpFIg2sRUl",
    "outputId": "bb3803d4-5b32-4b0a-c8a1-1a1917425812"
   },
   "outputs": [
    {
     "name": "stdout",
     "output_type": "stream",
     "text": [
      "{'supervisor': {'next': 'LoanRetriever'}}\n",
      "---\n",
      "{'LoanRetriever': {'messages': [HumanMessage(content='The provided information does not specify a single maximum student loan amount for the entire year 2025. Instead, it discusses loan limits based on factors such as academic progression, year of study, and enrollment hours, along with prorated amounts for specific periods. Consequently, I cannot provide an exact maximum student loan amount for 2025 based on this context.', additional_kwargs={}, response_metadata={}, name='LoanRetriever')]}}\n",
      "---\n",
      "{'supervisor': {'next': 'Search'}}\n",
      "---\n",
      "{'Search': {'messages': [HumanMessage(content=\"For the 2025-2026 academic year, the maximum federal student loan amounts are as follows:\\n\\n1. **Dependent Undergraduates:**\\n   - Total maximum loan limit: **$31,000**, with a maximum subsidized amount of **$23,000**.\\n   - Annual limits:\\n     - First-year: **$5,500** (maximum subsidized: **$3,500**)\\n     - Second-year: **$6,500** (maximum subsidized: **$4,500**)\\n     - Third-year and beyond: **$7,500** (maximum subsidized: **$5,500**)\\n\\n2. **Independent Undergraduates:**\\n   - Total maximum loan limit: **$57,500**, with a maximum subsidized amount of **$23,000**.\\n   - Annual limits are similar to those of dependent undergraduates, but they can borrow additional unsubsidized amounts.\\n\\n3. **Graduate and Professional Students:**\\n   - Maximum annual loans: **$20,500**, not including any undergraduate debt.\\n   - Total aggregate limit: **$138,500** (including any prior borrowed amounts).\\n\\n4. **Parent PLUS Loans:**\\n   - Parents can borrow up to **$20,000 per year**, with a total cap of **$65,000** per student.\\n\\nProfessional degree programs (medical, law, etc.) may have higher limits, typically around **$50,000 per year** and **$200,000 total**.\\n\\nThese limits can vary based on a student's academic progression, enrollment status, and whether loans are subsidized or unsubsidized. For more detailed information, you can refer to the [Federal Student Aid Handbook](https://fsapartners.ed.gov/knowledge-center/fsa-handbook/2025-2026/vol8/ch4-annual-and-aggregate-loan-limits).\", additional_kwargs={}, response_metadata={}, name='Search')]}}\n",
      "---\n",
      "{'supervisor': {'next': 'FINISH'}}\n",
      "---\n"
     ]
    }
   ],
   "source": [
    "for s in research_chain.stream(\n",
    "    \"What is the maximum student loan in 2025?\", {\"recursion_limit\": 100}\n",
    "):\n",
    "    if \"__end__\" not in s:\n",
    "        print(s)\n",
    "        print(\"---\")"
   ]
  },
  {
   "cell_type": "markdown",
   "metadata": {
    "id": "DHAgsbwIIhwj"
   },
   "source": [
    "##### 🏗️ Activity #2:\n",
    "\n",
    "Using whatever drawing application you wish - please label the flow above on a diagram of your graph.\n",
    "\n",
    "![Diagram](image.png)"
   ]
  },
  {
   "cell_type": "markdown",
   "metadata": {
    "id": "eH70eHGlJbq4"
   },
   "source": [
    "##### ❓ Question #2:\n",
    "\n",
    "How could you make sure your Agent uses specific tools that you wish it to use? Are there any ways to concretely set a flow through tools?\n",
    "\n",
    "`You could hardcode triggers/scenarios for tool calls if those conditions are met, and only if those conditions are met.`"
   ]
  },
  {
   "cell_type": "markdown",
   "metadata": {
    "id": "iktcBorGXmAW"
   },
   "source": [
    "# 🤝 BREAKOUT ROOM #2"
   ]
  },
  {
   "cell_type": "markdown",
   "metadata": {
    "id": "ejsHCZZ2EmwM"
   },
   "source": [
    "## Task 4: Document Writing Team - A LangGraph for Planning, Writing, and Editing a Formal Complaint Response.\n",
    "\n",
    "Let's run it all back, this time specifically creating tools, agent nodes, and a graph for Planning, Writing, and Editing a Formal Complaint Response!"
   ]
  },
  {
   "cell_type": "markdown",
   "metadata": {},
   "source": [
    "#### Previous Complaint Data\n",
    "\n",
    "Let's add a retriever for [previous complaint data](./data/complaints.csv) here!\n",
    "\n",
    "This will allow our response writing team reference previous responses!"
   ]
  },
  {
   "cell_type": "code",
   "execution_count": 58,
   "metadata": {},
   "outputs": [
    {
     "data": {
      "text/plain": [
       "Document(metadata={'source': 'data/complaints.csv', 'row': 0}, page_content=\"Consumer complaint narrative: The federal student loan COVID-19 forbearance program ended in XX/XX/XXXX. However, payments were not re-amortized on my federal student loans currently serviced by Nelnet until very recently. The new payment amount that is effective starting with the XX/XX/XXXX payment will nearly double my payment from {$180.00} per month to {$360.00} per month. I'm fortunate that my current financial position allows me to be able to handle the increased payment amount, but I am sure there are likely many borrowers who are not in the same position. The re-amortization should have occurred once the forbearance ended to reduce the impact to borrowers.\\nCompany public response: None\\nCompany response to consumer: Closed with explanation\")"
      ]
     },
     "execution_count": 58,
     "metadata": {},
     "output_type": "execute_result"
    }
   ],
   "source": [
    "from langchain_community.document_loaders import CSVLoader\n",
    "\n",
    "complaint_loader = CSVLoader(\"data/complaints.csv\", content_columns=[\"Consumer complaint narrative\", \"Company public response\", \"Company response to consumer\"])\n",
    "complaints = complaint_loader.load()\n",
    "complaints[0]"
   ]
  },
  {
   "cell_type": "code",
   "execution_count": 59,
   "metadata": {},
   "outputs": [],
   "source": [
    "qdrant_complaint_vectorstore = Qdrant.from_documents(\n",
    "    documents=complaints,\n",
    "    embedding=embedding_model,\n",
    "    location=\":memory:\"\n",
    ")"
   ]
  },
  {
   "cell_type": "code",
   "execution_count": 60,
   "metadata": {},
   "outputs": [],
   "source": [
    "qdrant_complaint_retriever = qdrant_complaint_vectorstore.as_retriever()"
   ]
  },
  {
   "cell_type": "markdown",
   "metadata": {
    "id": "4awQtZ-oFUN-"
   },
   "source": [
    "### Tool Creation\n",
    "\n",
    "Let's create some tools that will help us understand, open, work with, and edit documents to our liking!"
   ]
  },
  {
   "cell_type": "code",
   "execution_count": 61,
   "metadata": {
    "id": "ptXilgparOkq"
   },
   "outputs": [],
   "source": [
    "from pathlib import Path\n",
    "from tempfile import TemporaryDirectory\n",
    "from typing import Dict, Optional\n",
    "from typing_extensions import TypedDict\n",
    "import uuid\n",
    "import os\n",
    "\n",
    "os.makedirs('./content/data', exist_ok=True)\n",
    "\n",
    "def create_random_subdirectory():\n",
    "    random_id = str(uuid.uuid4())[:8]  # Use first 8 characters of a UUID\n",
    "    subdirectory_path = os.path.join('./content/data', random_id)\n",
    "    os.makedirs(subdirectory_path, exist_ok=True)\n",
    "    return subdirectory_path\n",
    "\n",
    "WORKING_DIRECTORY = Path(create_random_subdirectory())\n",
    "\n",
    "@tool\n",
    "def create_outline(\n",
    "    points: Annotated[List[str], \"List of main points or sections.\"],\n",
    "    file_name: Annotated[str, \"File path to save the outline.\"],\n",
    ") -> Annotated[str, \"Path of the saved outline file.\"]:\n",
    "    \"\"\"Create and save an outline.\"\"\"\n",
    "    with (WORKING_DIRECTORY / file_name).open(\"w\") as file:\n",
    "        for i, point in enumerate(points):\n",
    "            file.write(f\"{i + 1}. {point}\\n\")\n",
    "    return f\"Outline saved to {file_name}\"\n",
    "\n",
    "\n",
    "@tool\n",
    "def read_document(\n",
    "    file_name: Annotated[str, \"File path to save the document.\"],\n",
    "    start: Annotated[Optional[int], \"The start line. Default is 0\"] = None,\n",
    "    end: Annotated[Optional[int], \"The end line. Default is None\"] = None,\n",
    ") -> str:\n",
    "    \"\"\"Read the specified document.\"\"\"\n",
    "    with (WORKING_DIRECTORY / file_name).open(\"r\") as file:\n",
    "        lines = file.readlines()\n",
    "    if start is not None:\n",
    "        start = 0\n",
    "    return \"\\n\".join(lines[start:end])\n",
    "\n",
    "@tool\n",
    "def write_document(\n",
    "    content: Annotated[str, \"Text content to be written into the document.\"],\n",
    "    file_name: Annotated[str, \"File path to save the document.\"],\n",
    ") -> Annotated[str, \"Path of the saved document file.\"]:\n",
    "    \"\"\"Create and save a text document.\"\"\"\n",
    "    with (WORKING_DIRECTORY / file_name).open(\"w\") as file:\n",
    "        file.write(content)\n",
    "    return f\"Document saved to {file_name}\"\n",
    "\n",
    "### Previous Complaint Data\n",
    "@tool \n",
    "def reference_previous_responses(\n",
    "    query: Annotated[str, \"The query to search for in the previous responses.\"],\n",
    ") -> Annotated[str, \"The previous responses that match the query.\"]:\n",
    "    \"\"\"Search for previous responses that match the query.\"\"\"\n",
    "    return qdrant_complaint_retriever.invoke(query)\n",
    "\n",
    "\n",
    "@tool\n",
    "def edit_document(\n",
    "    file_name: Annotated[str, \"Path of the document to be edited.\"],\n",
    "    inserts: Annotated[\n",
    "        Dict[int, str],\n",
    "        \"Dictionary where key is the line number (1-indexed) and value is the text to be inserted at that line.\",\n",
    "    ] = {},\n",
    ") -> Annotated[str, \"Path of the edited document file.\"]:\n",
    "    \"\"\"Edit a document by inserting text at specific line numbers.\"\"\"\n",
    "\n",
    "    with (WORKING_DIRECTORY / file_name).open(\"r\") as file:\n",
    "        lines = file.readlines()\n",
    "\n",
    "    sorted_inserts = sorted(inserts.items())\n",
    "\n",
    "    for line_number, text in sorted_inserts:\n",
    "        if 1 <= line_number <= len(lines) + 1:\n",
    "            lines.insert(line_number - 1, text + \"\\n\")\n",
    "        else:\n",
    "            return f\"Error: Line number {line_number} is out of range.\"\n",
    "\n",
    "    with (WORKING_DIRECTORY / file_name).open(\"w\") as file:\n",
    "        file.writelines(lines)\n",
    "\n",
    "    return f\"Document edited and saved to {file_name}\""
   ]
  },
  {
   "cell_type": "markdown",
   "metadata": {
    "id": "n8yH1IAYK7nL"
   },
   "source": [
    "##### 🏗️ Activity #3:\n",
    "\n",
    "Describe, briefly, what each of these tools is doing in your own words.\n",
    "\n",
    "1. `create_outline`: writes a list of main points into an outline file\n",
    "\n",
    "2. `read_document`: can read all or a part of a given file\n",
    "\n",
    "3. `write_document`: creates a new doc file with provided content\n",
    "\n",
    "4. `reference_previous_responses`: searches complaint responses for similar cases\n",
    "\n",
    "5. `edit_document`: modifies existing documents by inserting new text at specified lines\n"
   ]
  },
  {
   "cell_type": "markdown",
   "metadata": {
    "id": "__Jw_XBIFwwa"
   },
   "source": [
    "### Document Writing State\n",
    "\n",
    "Just like with our Research Team state - we want to keep track of a few things, however this time - we also want to keep track of which files we've created - so let's add that here!"
   ]
  },
  {
   "cell_type": "code",
   "execution_count": 62,
   "metadata": {
    "id": "DoU2YwJRu7wD"
   },
   "outputs": [],
   "source": [
    "import operator\n",
    "from pathlib import Path\n",
    "\n",
    "class DocWritingState(TypedDict):\n",
    "    messages: Annotated[List[BaseMessage], operator.add]\n",
    "    team_members: str\n",
    "    next: str\n",
    "    current_files: str"
   ]
  },
  {
   "cell_type": "markdown",
   "metadata": {
    "id": "4p1kQShmGHCh"
   },
   "source": [
    "### Document Writing Prelude Function\n",
    "\n",
    "Since we have a working directory - we want to be clear about what our current working directory looks like - this helper function will allow us to do that cleanly!"
   ]
  },
  {
   "cell_type": "code",
   "execution_count": 63,
   "metadata": {
    "id": "G79mUggQGLVq"
   },
   "outputs": [],
   "source": [
    "def prelude(state):\n",
    "    written_files = []\n",
    "    if not WORKING_DIRECTORY.exists():\n",
    "        WORKING_DIRECTORY.mkdir()\n",
    "    try:\n",
    "        written_files = [\n",
    "            f.relative_to(WORKING_DIRECTORY) for f in WORKING_DIRECTORY.rglob(\"*\")\n",
    "        ]\n",
    "    except:\n",
    "        pass\n",
    "    if not written_files:\n",
    "        return {**state, \"current_files\": \"No files written.\"}\n",
    "    return {\n",
    "        **state,\n",
    "        \"current_files\": \"\\nBelow are files your team has written to the directory:\\n\"\n",
    "        + \"\\n\".join([f\" - {f}\" for f in written_files]),\n",
    "    }"
   ]
  },
  {
   "cell_type": "markdown",
   "metadata": {
    "id": "wbSre9agT9Gb"
   },
   "source": [
    "### Document Writing Node Creation\n",
    "\n"
   ]
  },
  {
   "cell_type": "code",
   "execution_count": 64,
   "metadata": {
    "id": "v7oso327T_wa"
   },
   "outputs": [],
   "source": [
    "doc_writer_agent = create_agent(\n",
    "    llm,\n",
    "    [write_document, edit_document, read_document],\n",
    "    (\"You are an expert writing customer assistance responses.\\n\"\n",
    "    \"Below are files currently in your directory:\\n{current_files}\"),\n",
    ")\n",
    "context_aware_doc_writer_agent = prelude | doc_writer_agent\n",
    "doc_writing_node = functools.partial(\n",
    "    agent_node, agent=context_aware_doc_writer_agent, name=\"DocWriter\"\n",
    ")\n",
    "\n",
    "note_taking_agent = create_agent(\n",
    "    llm,\n",
    "    [create_outline, read_document, reference_previous_responses],\n",
    "    (\"You are an expert senior researcher tasked with writing a customer assistance outline and\"\n",
    "    \" taking notes to craft a customer assistance response.\\n{current_files}\"),\n",
    ")\n",
    "context_aware_note_taking_agent = prelude | note_taking_agent\n",
    "note_taking_node = functools.partial(\n",
    "    agent_node, agent=context_aware_note_taking_agent, name=\"NoteTaker\"\n",
    ")\n",
    "\n",
    "copy_editor_agent = create_agent(\n",
    "    llm,\n",
    "    [write_document, edit_document, read_document],\n",
    "    (\"You are an expert copy editor who focuses on fixing grammar, spelling, and tone issues\\n\"\n",
    "    \"Below are files currently in your directory:\\n{current_files}\"),\n",
    ")\n",
    "context_aware_copy_editor_agent = prelude | copy_editor_agent\n",
    "copy_editing_node = functools.partial(\n",
    "    agent_node, agent=context_aware_copy_editor_agent, name=\"CopyEditor\"\n",
    ")\n",
    "\n",
    "empathy_editor_agent = create_agent(\n",
    "    llm,\n",
    "    [write_document, edit_document, read_document],\n",
    "    (\"You are an expert in empathy, compassion, and understanding - you edit the document to make sure it's empathetic and compassionate.\"\n",
    "    \"Below are files currently in your directory:\\n{current_files}\"),\n",
    ")\n",
    "empathy_editor_agent = prelude | empathy_editor_agent\n",
    "empathy_node = functools.partial(\n",
    "    agent_node, agent=empathy_editor_agent, name=\"EmpathyEditor\"\n",
    ")\n",
    "\n",
    "doc_writing_supervisor = create_team_supervisor(\n",
    "    llm,\n",
    "    (\"You are a supervisor tasked with managing a conversation between the\"\n",
    "    \" following workers: {team_members}. You should always verify the technical\"\n",
    "    \" contents after any edits are made. \"\n",
    "    \"Given the following user request,\"\n",
    "    \" respond with the worker to act next. Each worker will perform a\"\n",
    "    \" task and respond with their results and status. When each team is finished,\"\n",
    "    \" you must respond with FINISH.\"),\n",
    "    [\"DocWriter\", \"NoteTaker\", \"EmpathyEditor\", \"CopyEditor\"],\n",
    ")"
   ]
  },
  {
   "cell_type": "markdown",
   "metadata": {
    "id": "AUiNMpJBGXN0"
   },
   "source": [
    "### Document Writing Team LangGraph Construction\n",
    "\n",
    "This part is almost exactly the same (with a few extra nodes) as our Research Team LangGraph construction - so we'll leave it as one block!"
   ]
  },
  {
   "cell_type": "code",
   "execution_count": 65,
   "metadata": {
    "id": "Q6n8A1ytxVTv"
   },
   "outputs": [],
   "source": [
    "authoring_graph = StateGraph(DocWritingState)\n",
    "authoring_graph.add_node(\"DocWriter\", doc_writing_node)\n",
    "authoring_graph.add_node(\"NoteTaker\", note_taking_node)\n",
    "authoring_graph.add_node(\"CopyEditor\", copy_editing_node)\n",
    "authoring_graph.add_node(\"EmpathyEditor\", empathy_node)\n",
    "authoring_graph.add_node(\"supervisor\", doc_writing_supervisor)\n",
    "\n",
    "authoring_graph.add_edge(\"DocWriter\", \"supervisor\")\n",
    "authoring_graph.add_edge(\"NoteTaker\", \"supervisor\")\n",
    "authoring_graph.add_edge(\"CopyEditor\", \"supervisor\")\n",
    "authoring_graph.add_edge(\"EmpathyEditor\", \"supervisor\")\n",
    "\n",
    "authoring_graph.add_conditional_edges(\n",
    "    \"supervisor\",\n",
    "    lambda x: x[\"next\"],\n",
    "    {\n",
    "        \"DocWriter\": \"DocWriter\",\n",
    "        \"NoteTaker\": \"NoteTaker\",\n",
    "        \"CopyEditor\" : \"CopyEditor\",\n",
    "        \"EmpathyEditor\" : \"EmpathyEditor\",\n",
    "        \"FINISH\": END,\n",
    "    },\n",
    ")\n",
    "\n",
    "authoring_graph.set_entry_point(\"supervisor\")\n",
    "compiled_authoring_graph = authoring_graph.compile()"
   ]
  },
  {
   "cell_type": "markdown",
   "metadata": {
    "id": "Zx-EKGkHKUBO"
   },
   "source": [
    "#### Display Graph"
   ]
  },
  {
   "cell_type": "code",
   "execution_count": 66,
   "metadata": {
    "colab": {
     "base_uri": "https://localhost:8080/",
     "height": 488
    },
    "id": "AZdOb3GZKSM7",
    "outputId": "6b64588d-5568-4234-d062-4dc83ea9abec"
   },
   "outputs": [
    {
     "ename": "BrowserError",
     "evalue": "Browser closed unexpectedly:\n",
     "output_type": "error",
     "traceback": [
      "\u001b[31m---------------------------------------------------------------------------\u001b[39m",
      "\u001b[31mBrowserError\u001b[39m                              Traceback (most recent call last)",
      "\u001b[36mCell\u001b[39m\u001b[36m \u001b[39m\u001b[32mIn[66]\u001b[39m\u001b[32m, line 5\u001b[39m\n\u001b[32m      1\u001b[39m \u001b[38;5;28;01mfrom\u001b[39;00m\u001b[38;5;250m \u001b[39m\u001b[34;01mIPython\u001b[39;00m\u001b[34;01m.\u001b[39;00m\u001b[34;01mdisplay\u001b[39;00m\u001b[38;5;250m \u001b[39m\u001b[38;5;28;01mimport\u001b[39;00m Image, display\n\u001b[32m      3\u001b[39m display(\n\u001b[32m      4\u001b[39m     Image(\n\u001b[32m----> \u001b[39m\u001b[32m5\u001b[39m         \u001b[43mcompiled_authoring_graph\u001b[49m\u001b[43m.\u001b[49m\u001b[43mget_graph\u001b[49m\u001b[43m(\u001b[49m\u001b[43m)\u001b[49m\u001b[43m.\u001b[49m\u001b[43mdraw_mermaid_png\u001b[49m\u001b[43m(\u001b[49m\n\u001b[32m      6\u001b[39m \u001b[43m            \u001b[49m\u001b[43mcurve_style\u001b[49m\u001b[43m=\u001b[49m\u001b[43mCurveStyle\u001b[49m\u001b[43m.\u001b[49m\u001b[43mLINEAR\u001b[49m\u001b[43m,\u001b[49m\n\u001b[32m      7\u001b[39m \u001b[43m            \u001b[49m\u001b[43mnode_colors\u001b[49m\u001b[43m=\u001b[49m\u001b[43mNodeStyles\u001b[49m\u001b[43m(\u001b[49m\u001b[43mfirst\u001b[49m\u001b[43m=\u001b[49m\u001b[33;43m\"\u001b[39;49m\u001b[33;43m#ffdfba\u001b[39;49m\u001b[33;43m\"\u001b[39;49m\u001b[43m,\u001b[49m\u001b[43m \u001b[49m\u001b[43mlast\u001b[49m\u001b[43m=\u001b[49m\u001b[33;43m\"\u001b[39;49m\u001b[33;43m#baffc9\u001b[39;49m\u001b[33;43m\"\u001b[39;49m\u001b[43m,\u001b[49m\u001b[43m \u001b[49m\u001b[43mdefault\u001b[49m\u001b[43m=\u001b[49m\u001b[33;43m\"\u001b[39;49m\u001b[33;43m#fad7de\u001b[39;49m\u001b[33;43m\"\u001b[39;49m\u001b[43m)\u001b[49m\u001b[43m,\u001b[49m\n\u001b[32m      8\u001b[39m \u001b[43m            \u001b[49m\u001b[43mwrap_label_n_words\u001b[49m\u001b[43m=\u001b[49m\u001b[32;43m9\u001b[39;49m\u001b[43m,\u001b[49m\n\u001b[32m      9\u001b[39m \u001b[43m            \u001b[49m\u001b[43moutput_file_path\u001b[49m\u001b[43m=\u001b[49m\u001b[38;5;28;43;01mNone\u001b[39;49;00m\u001b[43m,\u001b[49m\n\u001b[32m     10\u001b[39m \u001b[43m            \u001b[49m\u001b[43mdraw_method\u001b[49m\u001b[43m=\u001b[49m\u001b[43mMermaidDrawMethod\u001b[49m\u001b[43m.\u001b[49m\u001b[43mPYPPETEER\u001b[49m\u001b[43m,\u001b[49m\n\u001b[32m     11\u001b[39m \u001b[43m            \u001b[49m\u001b[43mbackground_color\u001b[49m\u001b[43m=\u001b[49m\u001b[33;43m\"\u001b[39;49m\u001b[33;43mwhite\u001b[39;49m\u001b[33;43m\"\u001b[39;49m\u001b[43m,\u001b[49m\n\u001b[32m     12\u001b[39m \u001b[43m            \u001b[49m\u001b[43mpadding\u001b[49m\u001b[43m=\u001b[49m\u001b[32;43m10\u001b[39;49m\u001b[43m,\u001b[49m\n\u001b[32m     13\u001b[39m \u001b[43m        \u001b[49m\u001b[43m)\u001b[49m\n\u001b[32m     14\u001b[39m     )\n\u001b[32m     15\u001b[39m )\n",
      "\u001b[36mFile \u001b[39m\u001b[32m~/ml/AIE/06_Multi_Agent_with_LangGraph/.venv/lib/python3.11/site-packages/langchain_core/runnables/graph.py:693\u001b[39m, in \u001b[36mGraph.draw_mermaid_png\u001b[39m\u001b[34m(self, curve_style, node_colors, wrap_label_n_words, output_file_path, draw_method, background_color, padding, max_retries, retry_delay, frontmatter_config)\u001b[39m\n\u001b[32m    685\u001b[39m \u001b[38;5;28;01mfrom\u001b[39;00m\u001b[38;5;250m \u001b[39m\u001b[34;01mlangchain_core\u001b[39;00m\u001b[34;01m.\u001b[39;00m\u001b[34;01mrunnables\u001b[39;00m\u001b[34;01m.\u001b[39;00m\u001b[34;01mgraph_mermaid\u001b[39;00m\u001b[38;5;250m \u001b[39m\u001b[38;5;28;01mimport\u001b[39;00m draw_mermaid_png\n\u001b[32m    687\u001b[39m mermaid_syntax = \u001b[38;5;28mself\u001b[39m.draw_mermaid(\n\u001b[32m    688\u001b[39m     curve_style=curve_style,\n\u001b[32m    689\u001b[39m     node_colors=node_colors,\n\u001b[32m    690\u001b[39m     wrap_label_n_words=wrap_label_n_words,\n\u001b[32m    691\u001b[39m     frontmatter_config=frontmatter_config,\n\u001b[32m    692\u001b[39m )\n\u001b[32m--> \u001b[39m\u001b[32m693\u001b[39m \u001b[38;5;28;01mreturn\u001b[39;00m \u001b[43mdraw_mermaid_png\u001b[49m\u001b[43m(\u001b[49m\n\u001b[32m    694\u001b[39m \u001b[43m    \u001b[49m\u001b[43mmermaid_syntax\u001b[49m\u001b[43m=\u001b[49m\u001b[43mmermaid_syntax\u001b[49m\u001b[43m,\u001b[49m\n\u001b[32m    695\u001b[39m \u001b[43m    \u001b[49m\u001b[43moutput_file_path\u001b[49m\u001b[43m=\u001b[49m\u001b[43moutput_file_path\u001b[49m\u001b[43m,\u001b[49m\n\u001b[32m    696\u001b[39m \u001b[43m    \u001b[49m\u001b[43mdraw_method\u001b[49m\u001b[43m=\u001b[49m\u001b[43mdraw_method\u001b[49m\u001b[43m,\u001b[49m\n\u001b[32m    697\u001b[39m \u001b[43m    \u001b[49m\u001b[43mbackground_color\u001b[49m\u001b[43m=\u001b[49m\u001b[43mbackground_color\u001b[49m\u001b[43m,\u001b[49m\n\u001b[32m    698\u001b[39m \u001b[43m    \u001b[49m\u001b[43mpadding\u001b[49m\u001b[43m=\u001b[49m\u001b[43mpadding\u001b[49m\u001b[43m,\u001b[49m\n\u001b[32m    699\u001b[39m \u001b[43m    \u001b[49m\u001b[43mmax_retries\u001b[49m\u001b[43m=\u001b[49m\u001b[43mmax_retries\u001b[49m\u001b[43m,\u001b[49m\n\u001b[32m    700\u001b[39m \u001b[43m    \u001b[49m\u001b[43mretry_delay\u001b[49m\u001b[43m=\u001b[49m\u001b[43mretry_delay\u001b[49m\u001b[43m,\u001b[49m\n\u001b[32m    701\u001b[39m \u001b[43m\u001b[49m\u001b[43m)\u001b[49m\n",
      "\u001b[36mFile \u001b[39m\u001b[32m~/ml/AIE/06_Multi_Agent_with_LangGraph/.venv/lib/python3.11/site-packages/langchain_core/runnables/graph_mermaid.py:287\u001b[39m, in \u001b[36mdraw_mermaid_png\u001b[39m\u001b[34m(mermaid_syntax, output_file_path, draw_method, background_color, padding, max_retries, retry_delay)\u001b[39m\n\u001b[32m    284\u001b[39m \u001b[38;5;28;01mif\u001b[39;00m draw_method == MermaidDrawMethod.PYPPETEER:\n\u001b[32m    285\u001b[39m     \u001b[38;5;28;01mimport\u001b[39;00m\u001b[38;5;250m \u001b[39m\u001b[34;01masyncio\u001b[39;00m\n\u001b[32m--> \u001b[39m\u001b[32m287\u001b[39m     img_bytes = \u001b[43masyncio\u001b[49m\u001b[43m.\u001b[49m\u001b[43mrun\u001b[49m\u001b[43m(\u001b[49m\n\u001b[32m    288\u001b[39m \u001b[43m        \u001b[49m\u001b[43m_render_mermaid_using_pyppeteer\u001b[49m\u001b[43m(\u001b[49m\n\u001b[32m    289\u001b[39m \u001b[43m            \u001b[49m\u001b[43mmermaid_syntax\u001b[49m\u001b[43m,\u001b[49m\u001b[43m \u001b[49m\u001b[43moutput_file_path\u001b[49m\u001b[43m,\u001b[49m\u001b[43m \u001b[49m\u001b[43mbackground_color\u001b[49m\u001b[43m,\u001b[49m\u001b[43m \u001b[49m\u001b[43mpadding\u001b[49m\n\u001b[32m    290\u001b[39m \u001b[43m        \u001b[49m\u001b[43m)\u001b[49m\n\u001b[32m    291\u001b[39m \u001b[43m    \u001b[49m\u001b[43m)\u001b[49m\n\u001b[32m    292\u001b[39m \u001b[38;5;28;01melif\u001b[39;00m draw_method == MermaidDrawMethod.API:\n\u001b[32m    293\u001b[39m     img_bytes = _render_mermaid_using_api(\n\u001b[32m    294\u001b[39m         mermaid_syntax,\n\u001b[32m    295\u001b[39m         output_file_path=output_file_path,\n\u001b[32m   (...)\u001b[39m\u001b[32m    298\u001b[39m         retry_delay=retry_delay,\n\u001b[32m    299\u001b[39m     )\n",
      "\u001b[36mFile \u001b[39m\u001b[32m~/ml/AIE/06_Multi_Agent_with_LangGraph/.venv/lib/python3.11/site-packages/nest_asyncio.py:30\u001b[39m, in \u001b[36m_patch_asyncio.<locals>.run\u001b[39m\u001b[34m(main, debug)\u001b[39m\n\u001b[32m     28\u001b[39m task = asyncio.ensure_future(main)\n\u001b[32m     29\u001b[39m \u001b[38;5;28;01mtry\u001b[39;00m:\n\u001b[32m---> \u001b[39m\u001b[32m30\u001b[39m     \u001b[38;5;28;01mreturn\u001b[39;00m \u001b[43mloop\u001b[49m\u001b[43m.\u001b[49m\u001b[43mrun_until_complete\u001b[49m\u001b[43m(\u001b[49m\u001b[43mtask\u001b[49m\u001b[43m)\u001b[49m\n\u001b[32m     31\u001b[39m \u001b[38;5;28;01mfinally\u001b[39;00m:\n\u001b[32m     32\u001b[39m     \u001b[38;5;28;01mif\u001b[39;00m \u001b[38;5;129;01mnot\u001b[39;00m task.done():\n",
      "\u001b[36mFile \u001b[39m\u001b[32m~/ml/AIE/06_Multi_Agent_with_LangGraph/.venv/lib/python3.11/site-packages/nest_asyncio.py:98\u001b[39m, in \u001b[36m_patch_loop.<locals>.run_until_complete\u001b[39m\u001b[34m(self, future)\u001b[39m\n\u001b[32m     95\u001b[39m \u001b[38;5;28;01mif\u001b[39;00m \u001b[38;5;129;01mnot\u001b[39;00m f.done():\n\u001b[32m     96\u001b[39m     \u001b[38;5;28;01mraise\u001b[39;00m \u001b[38;5;167;01mRuntimeError\u001b[39;00m(\n\u001b[32m     97\u001b[39m         \u001b[33m'\u001b[39m\u001b[33mEvent loop stopped before Future completed.\u001b[39m\u001b[33m'\u001b[39m)\n\u001b[32m---> \u001b[39m\u001b[32m98\u001b[39m \u001b[38;5;28;01mreturn\u001b[39;00m \u001b[43mf\u001b[49m\u001b[43m.\u001b[49m\u001b[43mresult\u001b[49m\u001b[43m(\u001b[49m\u001b[43m)\u001b[49m\n",
      "\u001b[36mFile \u001b[39m\u001b[32m~/.local/share/uv/python/cpython-3.11.13-linux-x86_64-gnu/lib/python3.11/asyncio/futures.py:203\u001b[39m, in \u001b[36mFuture.result\u001b[39m\u001b[34m(self)\u001b[39m\n\u001b[32m    201\u001b[39m \u001b[38;5;28mself\u001b[39m.__log_traceback = \u001b[38;5;28;01mFalse\u001b[39;00m\n\u001b[32m    202\u001b[39m \u001b[38;5;28;01mif\u001b[39;00m \u001b[38;5;28mself\u001b[39m._exception \u001b[38;5;129;01mis\u001b[39;00m \u001b[38;5;129;01mnot\u001b[39;00m \u001b[38;5;28;01mNone\u001b[39;00m:\n\u001b[32m--> \u001b[39m\u001b[32m203\u001b[39m     \u001b[38;5;28;01mraise\u001b[39;00m \u001b[38;5;28mself\u001b[39m._exception.with_traceback(\u001b[38;5;28mself\u001b[39m._exception_tb)\n\u001b[32m    204\u001b[39m \u001b[38;5;28;01mreturn\u001b[39;00m \u001b[38;5;28mself\u001b[39m._result\n",
      "\u001b[36mFile \u001b[39m\u001b[32m~/.local/share/uv/python/cpython-3.11.13-linux-x86_64-gnu/lib/python3.11/asyncio/tasks.py:277\u001b[39m, in \u001b[36mTask.__step\u001b[39m\u001b[34m(***failed resolving arguments***)\u001b[39m\n\u001b[32m    273\u001b[39m \u001b[38;5;28;01mtry\u001b[39;00m:\n\u001b[32m    274\u001b[39m     \u001b[38;5;28;01mif\u001b[39;00m exc \u001b[38;5;129;01mis\u001b[39;00m \u001b[38;5;28;01mNone\u001b[39;00m:\n\u001b[32m    275\u001b[39m         \u001b[38;5;66;03m# We use the `send` method directly, because coroutines\u001b[39;00m\n\u001b[32m    276\u001b[39m         \u001b[38;5;66;03m# don't have `__iter__` and `__next__` methods.\u001b[39;00m\n\u001b[32m--> \u001b[39m\u001b[32m277\u001b[39m         result = \u001b[43mcoro\u001b[49m\u001b[43m.\u001b[49m\u001b[43msend\u001b[49m\u001b[43m(\u001b[49m\u001b[38;5;28;43;01mNone\u001b[39;49;00m\u001b[43m)\u001b[49m\n\u001b[32m    278\u001b[39m     \u001b[38;5;28;01melse\u001b[39;00m:\n\u001b[32m    279\u001b[39m         result = coro.throw(exc)\n",
      "\u001b[36mFile \u001b[39m\u001b[32m~/ml/AIE/06_Multi_Agent_with_LangGraph/.venv/lib/python3.11/site-packages/langchain_core/runnables/graph_mermaid.py:325\u001b[39m, in \u001b[36m_render_mermaid_using_pyppeteer\u001b[39m\u001b[34m(mermaid_syntax, output_file_path, background_color, padding, device_scale_factor)\u001b[39m\n\u001b[32m    322\u001b[39m     msg = \u001b[33m\"\u001b[39m\u001b[33mInstall Pyppeteer to use the Pyppeteer method: `pip install pyppeteer`.\u001b[39m\u001b[33m\"\u001b[39m\n\u001b[32m    323\u001b[39m     \u001b[38;5;28;01mraise\u001b[39;00m \u001b[38;5;167;01mImportError\u001b[39;00m(msg) \u001b[38;5;28;01mfrom\u001b[39;00m\u001b[38;5;250m \u001b[39m\u001b[34;01me\u001b[39;00m\n\u001b[32m--> \u001b[39m\u001b[32m325\u001b[39m browser = \u001b[38;5;28;01mawait\u001b[39;00m launch()\n\u001b[32m    326\u001b[39m page = \u001b[38;5;28;01mawait\u001b[39;00m browser.newPage()\n\u001b[32m    328\u001b[39m \u001b[38;5;66;03m# Setup Mermaid JS\u001b[39;00m\n",
      "\u001b[36mFile \u001b[39m\u001b[32m~/ml/AIE/06_Multi_Agent_with_LangGraph/.venv/lib/python3.11/site-packages/pyppeteer/launcher.py:307\u001b[39m, in \u001b[36mlaunch\u001b[39m\u001b[34m(options, **kwargs)\u001b[39m\n\u001b[32m    239\u001b[39m \u001b[38;5;28;01masync\u001b[39;00m \u001b[38;5;28;01mdef\u001b[39;00m\u001b[38;5;250m \u001b[39m\u001b[34mlaunch\u001b[39m(options: \u001b[38;5;28mdict\u001b[39m = \u001b[38;5;28;01mNone\u001b[39;00m, **kwargs: Any) -> Browser:\n\u001b[32m    240\u001b[39m \u001b[38;5;250m    \u001b[39m\u001b[33;03m\"\"\"Start chrome process and return :class:`~pyppeteer.browser.Browser`.\u001b[39;00m\n\u001b[32m    241\u001b[39m \u001b[33;03m    This function is a shortcut to :meth:`Launcher(options, **kwargs).launch`.\u001b[39;00m\n\u001b[32m    242\u001b[39m \u001b[33;03m    Available options are:\u001b[39;00m\n\u001b[32m   (...)\u001b[39m\u001b[32m    305\u001b[39m \u001b[33;03m        option with extreme caution.\u001b[39;00m\n\u001b[32m    306\u001b[39m \u001b[33;03m    \"\"\"\u001b[39;00m\n\u001b[32m--> \u001b[39m\u001b[32m307\u001b[39m     \u001b[38;5;28;01mreturn\u001b[39;00m \u001b[38;5;28;01mawait\u001b[39;00m Launcher(options, **kwargs).launch()\n",
      "\u001b[36mFile \u001b[39m\u001b[32m~/ml/AIE/06_Multi_Agent_with_LangGraph/.venv/lib/python3.11/site-packages/pyppeteer/launcher.py:168\u001b[39m, in \u001b[36mLauncher.launch\u001b[39m\u001b[34m(self)\u001b[39m\n\u001b[32m    165\u001b[39m         signal.signal(signal.SIGHUP, _close_process)\n\u001b[32m    167\u001b[39m connectionDelay = \u001b[38;5;28mself\u001b[39m.slowMo\n\u001b[32m--> \u001b[39m\u001b[32m168\u001b[39m \u001b[38;5;28mself\u001b[39m.browserWSEndpoint = \u001b[43mget_ws_endpoint\u001b[49m\u001b[43m(\u001b[49m\u001b[38;5;28;43mself\u001b[39;49m\u001b[43m.\u001b[49m\u001b[43murl\u001b[49m\u001b[43m)\u001b[49m\n\u001b[32m    169\u001b[39m logger.info(\u001b[33mf\u001b[39m\u001b[33m'\u001b[39m\u001b[33mBrowser listening on: \u001b[39m\u001b[38;5;132;01m{\u001b[39;00m\u001b[38;5;28mself\u001b[39m.browserWSEndpoint\u001b[38;5;132;01m}\u001b[39;00m\u001b[33m'\u001b[39m)\n\u001b[32m    170\u001b[39m \u001b[38;5;28mself\u001b[39m.connection = Connection(\u001b[38;5;28mself\u001b[39m.browserWSEndpoint, \u001b[38;5;28mself\u001b[39m._loop, connectionDelay, )\n",
      "\u001b[36mFile \u001b[39m\u001b[32m~/ml/AIE/06_Multi_Agent_with_LangGraph/.venv/lib/python3.11/site-packages/pyppeteer/launcher.py:227\u001b[39m, in \u001b[36mget_ws_endpoint\u001b[39m\u001b[34m(url)\u001b[39m\n\u001b[32m    225\u001b[39m \u001b[38;5;28;01mwhile\u001b[39;00m (\u001b[38;5;28;01mTrue\u001b[39;00m):\n\u001b[32m    226\u001b[39m     \u001b[38;5;28;01mif\u001b[39;00m time.time() > timeout:\n\u001b[32m--> \u001b[39m\u001b[32m227\u001b[39m         \u001b[38;5;28;01mraise\u001b[39;00m BrowserError(\u001b[33m'\u001b[39m\u001b[33mBrowser closed unexpectedly:\u001b[39m\u001b[38;5;130;01m\\n\u001b[39;00m\u001b[33m'\u001b[39m)\n\u001b[32m    228\u001b[39m     \u001b[38;5;28;01mtry\u001b[39;00m:\n\u001b[32m    229\u001b[39m         \u001b[38;5;28;01mwith\u001b[39;00m urlopen(url) \u001b[38;5;28;01mas\u001b[39;00m f:\n",
      "\u001b[31mBrowserError\u001b[39m: Browser closed unexpectedly:\n"
     ]
    }
   ],
   "source": [
    "from IPython.display import Image, display\n",
    "\n",
    "display(\n",
    "    Image(\n",
    "        compiled_authoring_graph.get_graph().draw_mermaid_png(\n",
    "            curve_style=CurveStyle.LINEAR,\n",
    "            node_colors=NodeStyles(first=\"#ffdfba\", last=\"#baffc9\", default=\"#fad7de\"),\n",
    "            wrap_label_n_words=9,\n",
    "            output_file_path=None,\n",
    "            draw_method=MermaidDrawMethod.PYPPETEER,\n",
    "            background_color=\"white\",\n",
    "            padding=10,\n",
    "        )\n",
    "    )\n",
    ")"
   ]
  },
  {
   "cell_type": "markdown",
   "metadata": {
    "id": "yB_rOw1hGpwd"
   },
   "source": [
    "Just as before - we'll need to create an \"interface\" between the level above, and our graph."
   ]
  },
  {
   "cell_type": "code",
   "execution_count": 67,
   "metadata": {
    "id": "G-RbbCKoG_nt"
   },
   "outputs": [],
   "source": [
    "def enter_chain(message: str, members: List[str]):\n",
    "    results = {\n",
    "        \"messages\": [HumanMessage(content=message)],\n",
    "        \"team_members\": \", \".join(members),\n",
    "    }\n",
    "    return results\n",
    "\n",
    "authoring_chain = (\n",
    "    functools.partial(enter_chain, members=authoring_graph.nodes)\n",
    "    | authoring_graph.compile()\n",
    ")"
   ]
  },
  {
   "cell_type": "markdown",
   "metadata": {
    "id": "GgyhpTrRNgQd"
   },
   "source": [
    "Now we can test this out!\n",
    "\n",
    "> NOTE: It is possible you may see an error here - rerun the cell to clear."
   ]
  },
  {
   "cell_type": "code",
   "execution_count": 68,
   "metadata": {
    "colab": {
     "base_uri": "https://localhost:8080/"
    },
    "id": "IWUxv4XDx3kg",
    "outputId": "62ee7d3d-31ba-4348-b852-7fd96f6875ff"
   },
   "outputs": [
    {
     "name": "stdout",
     "output_type": "stream",
     "text": [
      "{'supervisor': {'next': 'DocWriter'}}\n",
      "---\n",
      "{'DocWriter': {'messages': [HumanMessage(content='I have written a customer assistance response regarding the positioning of student loans as it relates to low-income students. If you need any adjustments or additional information, please let me know! \\n\\nYou can find the document saved as **Student_Loans_Low_Income_Students_Response.txt**.', additional_kwargs={}, response_metadata={}, name='DocWriter')]}}\n",
      "---\n",
      "{'supervisor': {'next': 'NoteTaker'}}\n",
      "---\n",
      "{'NoteTaker': {'messages': [HumanMessage(content=\"Here’s the customer assistance response regarding the positioning of student loans for low-income students:\\n\\n---\\n\\n**Subject: Understanding Student Loans for Low-Income Students**\\n\\nDear [Customer's Name],\\n\\nThank you for reaching out with your questions about student loans and how they relate to low-income students. We understand that navigating the financial landscape of higher education can be challenging, especially for those on a limited income.\\n\\nStudent loans can play a significant role in helping low-income students access higher education by bridging the gap between tuition costs and what families can afford. Here are some key points to consider:\\n\\n1. **Federal Student Loans**: Low-income students often qualify for federal student loans, which offer more favorable terms compared to private loans. These loans typically have lower interest rates, income-driven repayment plans, and options for loan forgiveness, particularly for graduates in public service fields.\\n\\n2. **Need-Based Financial Aid**: In addition to federal loans, low-income students may be eligible for need-based financial aid programs. Completing the Free Application for Federal Student Aid (FAFSA) is a crucial step in determining eligibility for various forms of aid, including grants and subsidized loans, which do not require repayment.\\n\\n3. **Grants and Scholarships**: It is vital for low-income students to explore grants and scholarships, which do not need to be repaid. Many organizations and educational institutions provide financial assistance based on academic merit, financial need, or specific demographics, which can significantly reduce the overall cost of education.\\n\\n4. **Budgeting and Financial Planning**: Proper financial planning and budgeting can help low-income students manage their loan amounts effectively. Resources such as financial literacy workshops offered by schools can equip students with the knowledge needed to handle their finances responsibly during and after their education.\\n\\n5. **Long-Term Investment**: While taking on student loans can be daunting, it's essential to view them as an investment in your future. Many graduates find that their earning potential increases significantly with a degree, making loan repayment more manageable over time.\\n\\nWe encourage you to reach out to our financial aid office or consult a financial advisor who specializes in student funding for personalized guidance and support. Your education is an important step, and we are here to help you every step of the way.\\n\\nBest regards,\\n\\n[Your Name]  \\n[Your Position]  \\n[Company Name]  \\n[Contact Information]\\n\\n--- \\n\\nLet me know if you need any adjustments!\", additional_kwargs={}, response_metadata={}, name='NoteTaker')]}}\n",
      "---\n",
      "{'supervisor': {'next': 'EmpathyEditor'}}\n",
      "---\n",
      "{'EmpathyEditor': {'messages': [HumanMessage(content='I have saved the customer assistance response regarding the positioning of student loans for low-income students with an empathetic and supportive tone. If there are any further modifications needed or additional documents to create, please let me know!', additional_kwargs={}, response_metadata={}, name='EmpathyEditor')]}}\n",
      "---\n",
      "{'supervisor': {'next': 'CopyEditor'}}\n",
      "---\n",
      "{'CopyEditor': {'messages': [HumanMessage(content='I have reviewed and made necessary edits to the customer assistance response regarding student loans for low-income students. The document is now polished and saved as **Student_Loans_Low_Income_Students_Response.txt**. If you need further modifications or additional documents, please let me know!', additional_kwargs={}, response_metadata={}, name='CopyEditor')]}}\n",
      "---\n",
      "{'supervisor': {'next': 'FINISH'}}\n",
      "---\n"
     ]
    }
   ],
   "source": [
    "for s in authoring_chain.stream(\n",
    "    \"Write a customer assistance response on the positioning of Student Loans as it relates to low income students.\",\n",
    "    {\"recursion_limit\": 100},\n",
    "):\n",
    "    if \"__end__\" not in s:\n",
    "        print(s)\n",
    "        print(\"---\")"
   ]
  },
  {
   "cell_type": "markdown",
   "metadata": {
    "id": "zpW2R9SUHGUq"
   },
   "source": [
    "## Task 5: Meta-Supervisor and Full Graph\n",
    "\n",
    "Finally, now that we have our two LangGraph agents (some of which are already multi-agent), we can build a supervisor that sits above all of them!\n",
    "\n",
    "The final process, surprisingly, is quite straight forward!\n",
    "\n",
    "Let's jump in!\n",
    "\n",
    "First off - we'll need to create our supervisor agent node."
   ]
  },
  {
   "cell_type": "code",
   "execution_count": 69,
   "metadata": {
    "id": "wkpxeUf9ygKp"
   },
   "outputs": [],
   "source": [
    "from langchain_core.messages import AIMessage, BaseMessage, HumanMessage\n",
    "from langchain_openai.chat_models import ChatOpenAI\n",
    "\n",
    "llm = ChatOpenAI(model=\"gpt-4o-mini\")\n",
    "\n",
    "supervisor_node = create_team_supervisor(\n",
    "    llm,\n",
    "    \"You are a supervisor tasked with managing a conversation between the\"\n",
    "    \" following teams: {team_members}. Given the following user request,\"\n",
    "    \" respond with the worker to act next. Each worker will perform a\"\n",
    "    \" task and respond with their results and status. When all workers are finished,\"\n",
    "    \" you must respond with FINISH.\",\n",
    "    [\"Research team\", \"Response team\"],\n",
    ")"
   ]
  },
  {
   "cell_type": "markdown",
   "metadata": {
    "id": "hUvOh_xWIKig"
   },
   "source": [
    "We'll also create our new state - as well as some methods to help us navigate the new state and the subgraphs.\n",
    "\n",
    "> NOTE: We only pass the most recent message from the parent graph to the subgraph, and we only extract the most recent message from the subgraph to include in the state of the parent graph."
   ]
  },
  {
   "cell_type": "code",
   "execution_count": 70,
   "metadata": {
    "id": "O7HJ8MF0yh_i"
   },
   "outputs": [],
   "source": [
    "class State(TypedDict):\n",
    "    messages: Annotated[List[BaseMessage], operator.add]\n",
    "    next: str\n",
    "\n",
    "def get_last_message(state: State) -> str:\n",
    "    return state[\"messages\"][-1].content\n",
    "\n",
    "def join_graph(response: dict):\n",
    "    return {\"messages\": [response[\"messages\"][-1]]}"
   ]
  },
  {
   "cell_type": "markdown",
   "metadata": {
    "id": "B5RHao1sIanG"
   },
   "source": [
    "Next, we'll create our base graph.\n",
    "\n",
    "Notice how each node we're adding is *AN ENTIRE LANGGRAPH AGENT* (wrapped into an LCEL chain with our helper functions above)."
   ]
  },
  {
   "cell_type": "code",
   "execution_count": 71,
   "metadata": {
    "id": "PfCWABCMIaFy"
   },
   "outputs": [
    {
     "data": {
      "text/plain": [
       "<langgraph.graph.state.StateGraph at 0x7395b8f48f50>"
      ]
     },
     "execution_count": 71,
     "metadata": {},
     "output_type": "execute_result"
    }
   ],
   "source": [
    "super_graph = StateGraph(State)\n",
    "\n",
    "super_graph.add_node(\"Research team\", get_last_message | research_chain | join_graph)\n",
    "super_graph.add_node(\"Response team\", get_last_message | authoring_chain | join_graph)\n",
    "super_graph.add_node(\"supervisor\", supervisor_node)"
   ]
  },
  {
   "cell_type": "markdown",
   "metadata": {
    "id": "dpwpUXMtI62E"
   },
   "source": [
    "Next, we'll create our edges!\n",
    "\n",
    "This process is completely idenctical to what we've seen before - just addressing the LangGraph subgraph nodes instead of individual nodes."
   ]
  },
  {
   "cell_type": "code",
   "execution_count": 72,
   "metadata": {
    "id": "tLtjRuUYI-fx"
   },
   "outputs": [],
   "source": [
    "super_graph.add_edge(\"Research team\", \"supervisor\")\n",
    "super_graph.add_edge(\"Response team\", \"supervisor\")\n",
    "super_graph.add_conditional_edges(\n",
    "    \"supervisor\",\n",
    "    lambda x: x[\"next\"],\n",
    "    {\n",
    "        \"Response team\": \"Response team\",\n",
    "        \"Research team\": \"Research team\",\n",
    "        \"FINISH\": END,\n",
    "    },\n",
    ")\n",
    "super_graph.set_entry_point(\"supervisor\")\n",
    "compiled_super_graph = super_graph.compile()"
   ]
  },
  {
   "cell_type": "markdown",
   "metadata": {
    "id": "K1KMfFqgJKw8"
   },
   "source": [
    "That's it!\n",
    "\n",
    "Now we can finally use our full agent!"
   ]
  },
  {
   "cell_type": "code",
   "execution_count": 73,
   "metadata": {
    "colab": {
     "base_uri": "https://localhost:8080/"
    },
    "id": "3M6wUDR-yk8s",
    "outputId": "056fe89e-5a81-4852-f0cb-35367da8cef0"
   },
   "outputs": [
    {
     "name": "stdout",
     "output_type": "stream",
     "text": [
      "{'supervisor': {'next': 'Research team'}}\n",
      "---\n",
      "{'Research team': {'messages': [HumanMessage(content=\"**Customer Assistance Response: Positioning of Student Loans for Low-Income Students**\\n\\nDear [Customer's Name],\\n\\nThank you for reaching out to us regarding the implications of student loans for low-income students. We appreciate your inquiry and understand the importance of this topic.\\n\\nStudent loans play a critical role in providing educational opportunities for students from low-income backgrounds. They allow these individuals to pursue higher education, which can ultimately lead to improved economic prospects and overall well-being. However, the burden of debt can be particularly challenging for low-income borrowers.\\n\\nRecent studies highlight that borrowers with incomes below certain thresholds are more likely to benefit from income-driven repayment plans (IDR). For instance, a significant increase in the probability of $0 scheduled payments is observed for borrowers just below 150% of the federal poverty line. This translates to a substantial reduction in monthly payments for eligible low-income individuals, thus making education more financially manageable.\\n\\nThe Consumer Financial Protection Bureau (CFPB) recently conducted a survey detailing the impact of debt relief programs and the ongoing challenges faced by borrowers as they resume repayments. This study emphasizes the need for continued support to ensure that low-income students can navigate their student loan obligations without undue financial stress.\\n\\nFurthermore, the increasing trend of student loan debt, which has climbed significantly over the years, poses a risk to low-income families. As of 2024, a striking 4.86% of federal student loans are in default. This statistic underscores the importance of having robust loan forgiveness options and tailored repayment plans that can alleviate the financial burdens faced by low-income students.\\n\\nIn summary, while student loans are vital in bridging the educational gap for low-income students, they also necessitate careful management and supportive measures to ensure these borrowers can thrive post-graduation. \\n\\nWe encourage you to explore available resources related to income-driven repayment plans and other forms of financial assistance. Should you have any further questions or need assistance with your student loan situation, feel free to reach out.\\n\\nBest regards,\\n\\n[Your Name]  \\n[Your Position]  \\n[Your Contact Information]  \\n[Your Organization]  \\n\\n---\\n\\nThis response has been carefully crafted and edited to ensure clarity and conciseness. If further edits or improvements are needed, please let me know! \\n\\nAdditionally, I will save this file to disk as per your request.\", additional_kwargs={}, response_metadata={}, name='Search')]}}\n",
      "---\n",
      "{'supervisor': {'next': 'Research team'}}\n",
      "---\n",
      "{'Research team': {'messages': [HumanMessage(content=\"Here's an updated response incorporating the latest information regarding student loans, especially for low-income students:\\n\\n---\\n\\n**Customer Assistance Response: Positioning of Student Loans for Low-Income Students**\\n\\nDear [Customer's Name],\\n\\nThank you for reaching out to us regarding the implications of student loans for low-income students. We appreciate your inquiry and understand the importance of this topic.\\n\\nStudent loans play a critical role in providing educational opportunities for students from low-income backgrounds. They allow these individuals to pursue higher education, ultimately leading to improved economic prospects and overall well-being. However, the burden of debt can particularly challenge low-income borrowers.\\n\\nRecent studies highlight that borrowers with incomes below certain thresholds are more likely to benefit from income-driven repayment plans (IDR). For instance, borrowers with incomes just below 150% of the federal poverty line have a significantly increased probability of $0 scheduled payments—approximately a 70 percentage-point increase compared to those just above this threshold. This translates to a substantial reduction in monthly payments for eligible low-income individuals, thus making education more financially manageable.\\n\\nThe Consumer Financial Protection Bureau (CFPB) conducted a survey revealing that about 63% of student loan borrowers experienced difficulty making payments, with significantly higher rates among low-income and minority borrowers. Continued support structures, including comprehensive debt relief programs, are crucial for ensuring low-income students can meet their student loan obligations without undue financial stress.\\n\\nAdditionally, as of early 2024, reports indicate that approximately 4.86% of federal student loans are in default, which poses a considerable concern for low-income families. This statistic highlights the critical need for robust loan forgiveness options and tailored repayment plans to alleviate financial burdens.\\n\\nCurrent policies also allow for increases in loan amounts for students who progress in their grade levels during the academic year, emphasizing the importance of maintaining satisfactory academic progress. Students can receive additional loans if they advance to higher grade levels, ensuring they have adequate resources to continue their education.\\n\\nIn summary, while student loans are vital in bridging the educational gap for low-income students, they necessitate careful management and supportive measures to ensure these borrowers can thrive post-graduation. We encourage you to explore available resources related to income-driven repayment plans and other forms of financial assistance.\\n\\nShould you have further questions or need assistance with your student loan situation, feel free to reach out.\\n\\nBest regards,\\n\\n[Your Name]  \\n[Your Position]  \\n[Your Contact Information]  \\n[Your Organization]  \\n\\n---\\n\\nIf you require any other modifications or additional information, let me know!\", additional_kwargs={}, response_metadata={}, name='LoanRetriever')]}}\n",
      "---\n",
      "{'supervisor': {'next': 'Response team'}}\n",
      "---\n",
      "{'Response team': {'messages': [HumanMessage(content='The updated response has been successfully created and saved in the file \"student_loans_response_low_income_students.txt.\" If you need any further modifications or additional information, please feel free to reach out!', additional_kwargs={}, response_metadata={}, name='DocWriter')]}}\n",
      "---\n",
      "{'supervisor': {'next': 'FINISH'}}\n",
      "---\n"
     ]
    }
   ],
   "source": [
    "WORKING_DIRECTORY = Path(create_random_subdirectory())\n",
    "\n",
    "for s in compiled_super_graph.stream(\n",
    "    {\n",
    "        \"messages\": [\n",
    "            HumanMessage(\n",
    "                content=\"Write a customer assistance response on the positioning of Student Loans as it relates to low income students. First consult the research team. Then make sure you consult the response team, and check for copy editing and dopeness, and write the file to disk.\"\n",
    "            )\n",
    "        ],\n",
    "    },\n",
    "    {\"recursion_limit\": 30},\n",
    "):\n",
    "    if \"__end__\" not in s:\n",
    "        print(s)\n",
    "        print(\"---\")"
   ]
  },
  {
   "cell_type": "markdown",
   "metadata": {
    "id": "PuZAvSlJJpPP"
   },
   "source": [
    "## SAMPLE POST!"
   ]
  },
  {
   "cell_type": "markdown",
   "metadata": {
    "id": "lOEMCrXTJaxW"
   },
   "source": [
    "**Subject: Assistance Regarding Student Loans for Low-Income Students**\n",
    "\n",
    "Dear [Customer's Name],\n",
    "\n",
    "Thank you for reaching out regarding student loans and their implications for low-income students. We understand that navigating the financial aid landscape can be daunting, and we’re here to provide guidance and support.\n",
    "\n",
    "Student loans are instrumental in granting low-income students access to higher education, especially when scholarships and grants may fall short of covering the full cost of attendance. The federal student loan program presents various options designed to make borrowing more manageable for those in need.\n",
    "\n",
    "**1. Understanding Loan Types:**\n",
    "   - **Subsidized Loans**: These loans are available to undergraduate students who demonstrate financial need. The government covers the interest while the borrower is enrolled at least half-time, which can significantly alleviate the overall debt burden upon graduation.\n",
    "   - **Unsubsidized Loans**: Accessible to both undergraduate and graduate students, these loans do not require a demonstration of financial need. However, interest starts accruing from the moment the loan is disbursed.\n",
    "\n",
    "**2. Income-Based Repayment Options:**\n",
    "For low-income borrowers, Income-Based Repayment (IBR) plans can be especially advantageous. These plans ensure that monthly payments are based on income and family size, which helps keep payments manageable. Additionally, after 20-25 years of qualifying payments, any remaining loan balance may be eligible for forgiveness. \n",
    "\n",
    "**3. Key Benefits:**\n",
    "   - **Lower Payments**: IBR plans decrease the monthly payment amount, making it easier for low-income students to manage their loans successfully.\n",
    "   - **Forgiveness Opportunities**: Those who pursue careers in public service may qualify for further loan forgiveness options.\n",
    "\n",
    "**4. The Importance of Financial Aid Awareness:**\n",
    "It is vital for low-income students to be aware of their options concerning financial aid and student loans. We recommend that students and families familiarize themselves with the array of resources available, such as [Federal Student Aid](https://studentaid.gov), which provides comprehensive information on eligibility and application processes.\n",
    "\n",
    "If you need further assistance or have specific questions, please don’t hesitate to reach out. Our goal is to ensure that every student can pursue their educational aspirations without the fear of overwhelming debt.\n",
    "\n",
    "Best regards,\n",
    "\n",
    "[Your Name]  \n",
    "[Your Position]  \n",
    "[Your Contact Information]  \n",
    "[Your Organization]"
   ]
  }
 ],
 "metadata": {
  "colab": {
   "provenance": []
  },
  "kernelspec": {
   "display_name": ".venv",
   "language": "python",
   "name": "python3"
  },
  "language_info": {
   "codemirror_mode": {
    "name": "ipython",
    "version": 3
   },
   "file_extension": ".py",
   "mimetype": "text/x-python",
   "name": "python",
   "nbconvert_exporter": "python",
   "pygments_lexer": "ipython3",
   "version": "3.11.13"
  }
 },
 "nbformat": 4,
 "nbformat_minor": 0
}
