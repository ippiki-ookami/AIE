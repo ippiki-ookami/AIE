{
 "cells": [
  {
   "cell_type": "markdown",
   "metadata": {
    "id": "lElF3o5PR6ys"
   },
   "source": [
    "# Your First RAG Application\n",
    "\n",
    "In this notebook, we'll walk you through each of the components that are involved in a simple RAG application.\n",
    "\n",
    "We won't be leveraging any fancy tools, just the OpenAI Python SDK, Numpy, and some classic Python.\n",
    "\n",
    "> NOTE: This was done with Python 3.11.4.\n",
    "\n",
    "> NOTE: There might be [compatibility issues](https://github.com/wandb/wandb/issues/7683) if you're on NVIDIA driver >552.44 As an interim solution - you can rollback your drivers to the 552.44."
   ]
  },
  {
   "cell_type": "markdown",
   "metadata": {
    "id": "5CtcL8P8R6yt"
   },
   "source": [
    "## Table of Contents:\n",
    "\n",
    "- Task 1: Imports and Utilities\n",
    "- Task 2: Documents\n",
    "- Task 3: Embeddings and Vectors\n",
    "- Task 4: Prompts\n",
    "- Task 5: Retrieval Augmented Generation\n",
    "  - 🚧 Activity #1: Augment RAG"
   ]
  },
  {
   "cell_type": "markdown",
   "metadata": {
    "id": "1Dz6GYilR6yt"
   },
   "source": [
    "Let's look at a rather complicated looking visual representation of a basic RAG application.\n",
    "\n",
    "<img src=\"https://i.imgur.com/vD8b016.png\" />"
   ]
  },
  {
   "cell_type": "markdown",
   "metadata": {
    "id": "PjmC0KFtR6yt"
   },
   "source": [
    "## Task 1: Imports and Utility\n",
    "\n",
    "We're just doing some imports and enabling `async` to work within the Jupyter environment here, nothing too crazy!"
   ]
  },
  {
   "cell_type": "code",
   "execution_count": 53,
   "metadata": {
    "id": "Z1dyrG4hR6yt"
   },
   "outputs": [],
   "source": [
    "from aimakerspace.text_utils import TextFileLoader, CharacterTextSplitter\n",
    "from aimakerspace.vectordatabase import VectorDatabase\n",
    "import asyncio"
   ]
  },
  {
   "cell_type": "code",
   "execution_count": 54,
   "metadata": {
    "id": "9OrFZRnER6yt"
   },
   "outputs": [],
   "source": [
    "import nest_asyncio\n",
    "nest_asyncio.apply()"
   ]
  },
  {
   "cell_type": "markdown",
   "metadata": {
    "id": "M0jGnpQsR6yu"
   },
   "source": [
    "## Task 2: Documents\n",
    "\n",
    "We'll be concerning ourselves with this part of the flow in the following section:\n",
    "\n",
    "<img src=\"https://i.imgur.com/jTm9gjk.png\" />"
   ]
  },
  {
   "cell_type": "markdown",
   "metadata": {
    "id": "-SFPWvRUR6yu"
   },
   "source": [
    "### Loading Source Documents\n",
    "\n",
    "So, first things first, we need some documents to work with.\n",
    "\n",
    "While we could work directly with the `.txt` files (or whatever file-types you wanted to extend this to) we can instead do some batch processing of those documents at the beginning in order to store them in a more machine compatible format.\n",
    "\n",
    "In this case, we're going to parse our text file into a single document in memory.\n",
    "\n",
    "Let's look at the relevant bits of the `TextFileLoader` class:\n",
    "\n",
    "```python\n",
    "def load_file(self):\n",
    "        with open(self.path, \"r\", encoding=self.encoding) as f:\n",
    "            self.documents.append(f.read())\n",
    "```\n",
    "\n",
    "We're simply loading the document using the built in `open` method, and storing that output in our `self.documents` list.\n",
    "\n",
    "> NOTE: We're using blogs from PMarca (Marc Andreessen) as our sample data. This data is largely irrelevant as we want to focus on the mechanisms of RAG, which includes out data's shape and quality - but not specifically what the contents of the data are. \n"
   ]
  },
  {
   "cell_type": "code",
   "execution_count": 55,
   "metadata": {
    "colab": {
     "base_uri": "https://localhost:8080/"
    },
    "id": "Ia2sUEuGR6yu",
    "outputId": "84937ecc-c35f-4c4a-a4ab-9da72625954c"
   },
   "outputs": [
    {
     "data": {
      "text/plain": [
       "1"
      ]
     },
     "execution_count": 55,
     "metadata": {},
     "output_type": "execute_result"
    }
   ],
   "source": [
    "text_loader = TextFileLoader(\"data/PMarcaBlogs.txt\")\n",
    "documents = text_loader.load_documents()\n",
    "len(documents)"
   ]
  },
  {
   "cell_type": "code",
   "execution_count": 56,
   "metadata": {
    "colab": {
     "base_uri": "https://localhost:8080/"
    },
    "id": "bV-tj5WFR6yu",
    "outputId": "674eb315-1ff3-4597-bcf5-38ece0a812ac"
   },
   "outputs": [
    {
     "name": "stdout",
     "output_type": "stream",
     "text": [
      "\n",
      "The Pmarca Blog Archives\n",
      "(select posts from 2007-2009)\n",
      "Marc Andreessen\n",
      "copyright: Andreessen Horow\n"
     ]
    }
   ],
   "source": [
    "print(documents[0][:100])"
   ]
  },
  {
   "cell_type": "markdown",
   "metadata": {
    "id": "nHlTvCzYR6yu"
   },
   "source": [
    "### Splitting Text Into Chunks\n",
    "\n",
    "As we can see, there is one massive document.\n",
    "\n",
    "We'll want to chunk the document into smaller parts so it's easier to pass the most relevant snippets to the LLM.\n",
    "\n",
    "There is no fixed way to split/chunk documents - and you'll need to rely on some intuition as well as knowing your data *very* well in order to build the most robust system.\n",
    "\n",
    "For this toy example, we'll just split blindly on length.\n",
    "\n",
    ">There's an opportunity to clear up some terminology here, for this course we will be stick to the following:\n",
    ">\n",
    ">- \"source documents\" : The `.txt`, `.pdf`, `.html`, ..., files that make up the files and information we start with in its raw format\n",
    ">- \"document(s)\" : single (or more) text object(s)\n",
    ">- \"corpus\" : the combination of all of our documents"
   ]
  },
  {
   "cell_type": "markdown",
   "metadata": {
    "id": "2G6Voc0jR6yv"
   },
   "source": [
    "As you can imagine (though it's not specifically true in this toy example) the idea of splitting documents is to break them into managable sized chunks that retain the most relevant local context."
   ]
  },
  {
   "cell_type": "code",
   "execution_count": 57,
   "metadata": {
    "colab": {
     "base_uri": "https://localhost:8080/"
    },
    "id": "UMC4tsEmR6yv",
    "outputId": "08689c0b-57cd-4040-942a-8193e997f5cb"
   },
   "outputs": [
    {
     "data": {
      "text/plain": [
       "373"
      ]
     },
     "execution_count": 57,
     "metadata": {},
     "output_type": "execute_result"
    }
   ],
   "source": [
    "text_splitter = CharacterTextSplitter()\n",
    "split_documents = text_splitter.split_texts(documents)\n",
    "len(split_documents)"
   ]
  },
  {
   "cell_type": "markdown",
   "metadata": {
    "id": "W2wKT0WLR6yv"
   },
   "source": [
    "Let's take a look at some of the documents we've managed to split."
   ]
  },
  {
   "cell_type": "code",
   "execution_count": 58,
   "metadata": {
    "colab": {
     "base_uri": "https://localhost:8080/"
    },
    "id": "vcYMwWJoR6yv",
    "outputId": "20d69876-feca-4826-b4be-32915276987a"
   },
   "outputs": [
    {
     "data": {
      "text/plain": [
       "['\\ufeff\\nThe Pmarca Blog Archives\\n(select posts from 2007-2009)\\nMarc Andreessen\\ncopyright: Andreessen Horowitz\\ncover design: Jessica Hagy\\nproduced using: Pressbooks\\nContents\\nTHE PMARCA GUIDE TO STARTUPS\\nPart 1: Why not to do a startup 2\\nPart 2: When the VCs say \"no\" 10\\nPart 3: \"But I don\\'t know any VCs!\" 18\\nPart 4: The only thing that matters 25\\nPart 5: The Moby Dick theory of big companies 33\\nPart 6: How much funding is too little? Too much? 41\\nPart 7: Why a startup\\'s initial business plan doesn\\'t\\nmatter that much\\n49\\nTHE PMARCA GUIDE TO HIRING\\nPart 8: Hiring, managing, promoting, and Dring\\nexecutives\\n54\\nPart 9: How to hire a professional CEO 68\\nHow to hire the best people you\\'ve ever worked\\nwith\\n69\\nTHE PMARCA GUIDE TO BIG COMPANIES\\nPart 1: Turnaround! 82\\nPart 2: Retaining great people 86\\nTHE PMARCA GUIDE TO CAREER, PRODUCTIVITY,\\nAND SOME OTHER THINGS\\nIntroduction 97\\nPart 1: Opportunity 99\\nPart 2: Skills and education 107\\nPart 3: Where to go and why 120\\nThe Pmarca Guide to Personal Productivi']"
      ]
     },
     "execution_count": 58,
     "metadata": {},
     "output_type": "execute_result"
    }
   ],
   "source": [
    "split_documents[0:1]"
   ]
  },
  {
   "cell_type": "markdown",
   "metadata": {
    "id": "HOU-RFP_R6yv"
   },
   "source": [
    "## Task 3: Embeddings and Vectors\n",
    "\n",
    "Next, we have to convert our corpus into a \"machine readable\" format as we explored in the Embedding Primer notebook.\n",
    "\n",
    "Today, we're going to talk about the actual process of creating, and then storing, these embeddings, and how we can leverage that to intelligently add context to our queries."
   ]
  },
  {
   "cell_type": "markdown",
   "metadata": {},
   "source": [
    "### OpenAI API Key\n",
    "\n",
    "In order to access OpenAI's APIs, we'll need to provide our OpenAI API Key!\n",
    "\n",
    "You can work through the folder \"OpenAI API Key Setup\" for more information on this process if you don't already have an API Key!"
   ]
  },
  {
   "cell_type": "code",
   "execution_count": 59,
   "metadata": {},
   "outputs": [],
   "source": [
    "import os\n",
    "import openai\n",
    "from getpass import getpass\n",
    "\n",
    "openai.api_key = getpass(\"OpenAI API Key: \")\n",
    "os.environ[\"OPENAI_API_KEY\"] = openai.api_key"
   ]
  },
  {
   "cell_type": "markdown",
   "metadata": {},
   "source": [
    "### Vector Database\n",
    "\n",
    "Let's set up our vector database to hold all our documents and their embeddings!"
   ]
  },
  {
   "cell_type": "markdown",
   "metadata": {
    "id": "kDQrfAR1R6yv"
   },
   "source": [
    "While this is all baked into 1 call - we can look at some of the code that powers this process to get a better understanding:\n",
    "\n",
    "Let's look at our `VectorDatabase().__init__()`:\n",
    "\n",
    "```python\n",
    "def __init__(self, embedding_model: EmbeddingModel = None):\n",
    "        self.vectors = defaultdict(np.array)\n",
    "        self.embedding_model = embedding_model or EmbeddingModel()\n",
    "```\n",
    "\n",
    "As you can see - our vectors are merely stored as a dictionary of `np.array` objects.\n",
    "\n",
    "Secondly, our `VectorDatabase()` has a default `EmbeddingModel()` which is a wrapper for OpenAI's `text-embedding-3-small` model.\n",
    "\n",
    "> **Quick Info About `text-embedding-3-small`**:\n",
    "> - It has a context window of **8191** tokens\n",
    "> - It returns vectors with dimension **1536**"
   ]
  },
  {
   "cell_type": "markdown",
   "metadata": {
    "id": "L273pRdeR6yv"
   },
   "source": [
    "#### ❓Question #1:\n",
    "\n",
    "The default embedding dimension of `text-embedding-3-small` is 1536, as noted above. \n",
    "\n",
    "1. Is there any way to modify this dimension?\n",
    "2. What technique does OpenAI use to achieve this?\n",
    "\n",
    "> NOTE: Check out this [API documentation](https://platform.openai.com/docs/api-reference/embeddings/create) for the answer to question #1, and [this documentation](https://platform.openai.com/docs/guides/embeddings/use-cases) for an answer to question #2!"
   ]
  },
  {
   "cell_type": "markdown",
   "metadata": {},
   "source": [
    "#### Answer #1\n",
    "\n",
    "1. Yes, by using the optional *dimensions* parameter when calling https://api.openai.com/v1/embeddings\n",
    "\n",
    "2. The Matryoshka Representation Learning technique that the v3 embedding models were trained on are what enables developers to shorten embeddings and trade-off performance and embeddings usage costs.\n",
    "\n",
    "\n",
    "---"
   ]
  },
  {
   "cell_type": "markdown",
   "metadata": {
    "id": "w5FZY7K3R6yv"
   },
   "source": [
    "We can call the `async_get_embeddings` method of our `EmbeddingModel()` on a list of `str` and receive a list of `float` back!\n",
    "\n",
    "```python\n",
    "async def async_get_embeddings(self, list_of_text: List[str]) -> List[List[float]]:\n",
    "        return await aget_embeddings(\n",
    "            list_of_text=list_of_text, engine=self.embeddings_model_name\n",
    "        )\n",
    "```"
   ]
  },
  {
   "cell_type": "markdown",
   "metadata": {
    "id": "cSct6X0aR6yv"
   },
   "source": [
    "We cast those to `np.array` when we build our `VectorDatabase()`:\n",
    "\n",
    "```python\n",
    "async def abuild_from_list(self, list_of_text: List[str]) -> \"VectorDatabase\":\n",
    "        embeddings = await self.embedding_model.async_get_embeddings(list_of_text)\n",
    "        for text, embedding in zip(list_of_text, embeddings):\n",
    "            self.insert(text, np.array(embedding))\n",
    "        return self\n",
    "```\n",
    "\n",
    "And that's all we need to do!"
   ]
  },
  {
   "cell_type": "code",
   "execution_count": 60,
   "metadata": {
    "id": "O4KoLbVDR6yv"
   },
   "outputs": [
    {
     "name": "stdout",
     "output_type": "stream",
     "text": [
      "Original documents: 373\n",
      "Cleaned documents: 373\n",
      "Sample cleaned text: The Pmarca Blog Archives (select posts from 2007-2009) Marc Andreessen copyright: Andreessen Horowit...\n"
     ]
    }
   ],
   "source": [
    "# Clean the documents to remove problematic Unicode characters\n",
    "def clean_text_for_embedding(text):\n",
    "    \"\"\"Clean text to avoid Unicode encoding issues\"\"\"\n",
    "    import re\n",
    "    # Remove emojis and other non-ASCII characters\n",
    "    cleaned = re.sub(r'[^\\x00-\\x7F]+', ' ', text)\n",
    "    # Remove extra whitespace\n",
    "    cleaned = ' '.join(cleaned.split())\n",
    "    return cleaned\n",
    "\n",
    "# Clean all split documents\n",
    "cleaned_split_documents = [clean_text_for_embedding(doc) for doc in split_documents]\n",
    "\n",
    "print(f\"Original documents: {len(split_documents)}\")\n",
    "print(f\"Cleaned documents: {len(cleaned_split_documents)}\")\n",
    "print(f\"Sample cleaned text: {cleaned_split_documents[0][:100]}...\")\n",
    "\n",
    "vector_db = VectorDatabase()\n",
    "vector_db = asyncio.run(vector_db.abuild_from_list(cleaned_split_documents))"
   ]
  },
  {
   "cell_type": "markdown",
   "metadata": {
    "id": "SSZwaGvpR6yv"
   },
   "source": [
    "#### ❓Question #2:\n",
    "\n",
    "What are the benefits of using an `async` approach to collecting our embeddings?\n",
    "\n",
    "> NOTE: Determining the core difference between `async` and `sync` will be useful! If you get stuck - ask ChatGPT!"
   ]
  },
  {
   "cell_type": "markdown",
   "metadata": {},
   "source": [
    "#### Answer #2\n",
    "\n",
    "1. To put it simply, synchronous operations are performed sequentially whereas asynchronous operations can occur concurrently, allowing other processes to take priority if some are awaiting continuation\n",
    "\n",
    "\n",
    "---"
   ]
  },
  {
   "cell_type": "markdown",
   "metadata": {
    "id": "nRBdIt-xR6yw"
   },
   "source": [
    "So, to review what we've done so far in natural language:\n",
    "\n",
    "1. We load source documents\n",
    "2. We split those source documents into smaller chunks (documents)\n",
    "3. We send each of those documents to the `text-embedding-3-small` OpenAI API endpoint\n",
    "4. We store each of the text representations with the vector representations as keys/values in a dictionary"
   ]
  },
  {
   "cell_type": "markdown",
   "metadata": {
    "id": "4-vWANZyR6yw"
   },
   "source": [
    "### Semantic Similarity\n",
    "\n",
    "The next step is to be able to query our `VectorDatabase()` with a `str` and have it return to us vectors and text that is most relevant from our corpus.\n",
    "\n",
    "We're going to use the following process to achieve this in our toy example:\n",
    "\n",
    "1. We need to embed our query with the same `EmbeddingModel()` as we used to construct our `VectorDatabase()`\n",
    "2. We loop through every vector in our `VectorDatabase()` and use a distance measure to compare how related they are\n",
    "3. We return a list of the top `k` closest vectors, with their text representations\n",
    "\n",
    "There's some very heavy optimization that can be done at each of these steps - but let's just focus on the basic pattern in this notebook.\n",
    "\n",
    "> We are using [cosine similarity](https://www.engati.com/glossary/cosine-similarity) as a distance metric in this example - but there are many many distance metrics you could use - like [these](https://flavien-vidal.medium.com/similarity-distances-for-natural-language-processing-16f63cd5ba55)\n",
    "\n",
    "> We are using a rather inefficient way of calculating relative distance between the query vector and all other vectors - there are more advanced approaches that are much more efficient, like [ANN](https://towardsdatascience.com/comprehensive-guide-to-approximate-nearest-neighbors-algorithms-8b94f057d6b6)"
   ]
  },
  {
   "cell_type": "code",
   "execution_count": 61,
   "metadata": {
    "colab": {
     "base_uri": "https://localhost:8080/"
    },
    "id": "76d96uavR6yw",
    "outputId": "bbfccc31-20a2-41c7-c14d-46554a43ed2d"
   },
   "outputs": [
    {
     "data": {
      "text/plain": [
       "[('ordingly. Seventh, when hiring the executive to run your former specialty, be careful you don t hire someone weak on purpose. This sounds silly, but you wouldn t believe how oaen it happens. The CEO who used to be a product manager who has a weak product management executive. The CEO who used to be in sales who has a weak sales executive. The CEO who used to be in marketing who has a weak marketing executive. I call this the Michael Eisner Memorial Weak Executive Problem aaer the CEO of Disney who had previously been a brilliant TV network executive. When he bought ABC at Disney, it promptly fell to fourth place. His response? If I had an extra two days a week, I could turn around ABC myself. Well, guess what, he didn t have an extra two days a week. A CEO or a startup founder oaen has a hard time letting go of the function that brought him to the party. The result: you hire someone weak into the executive role for that function so that you can continue to be the man cons',\n",
       "  np.float64(0.6884040513093334)),\n",
       " ('m. They have areas where they are truly deXcient in judgment or skill set. That s just life. Almost nobody is brilliant at everything. When hiring and when Hring executives, you must therefore focus on strength rather than lack of weakness. Everybody has severe weaknesses even if you can t see them yet. When managing, it s oaen useful to micromanage and to provide remedial training around these weaknesses. Doing so may make the diWerence between an executive succeeding or failing. For example, you might have a brilliant engineering executive who generates excellent team loyalty, has terriXc product judgment and makes the trains run on time. This same executive may be very poor at relating to the other functions in the company. She may generate far more than her share of cross-functional conYicts, cut herself oW from critical information, and signiXcantly impede your ability to sell and market eWectively. Your alternatives are: (a) Macro-manage and give her an annual or quarterly object',\n",
       "  np.float64(0.505590063234497)),\n",
       " ('ed? In reality as opposed to Marc s warped view of reality it will be extremely helpful for Marc [if he were actually the CEO, which he is not] to meet with the new head of engineering daily when she comes on board and review all of her thinking and decisions. This level of micromanagement will accelerate her training and improve her long-term eWectiveness. It will make her seem smarter to the rest of the organization which will build credibility and conXdence while she comes up to speed. Micromanaging new executives is generally a good idea for a limited period of time. However, that is not the only time that it makes sense to micro66 The Pmarca Blog Archives manage executives. It turns out that just about every executive in the world has a few things that are seriously wrong with them. They have areas where they are truly deXcient in judgment or skill set. That s just life. Almost nobody is brilliant at everything. When hiring and when Hring executives, you must therefore focus o',\n",
       "  np.float64(0.49193583024200166))]"
      ]
     },
     "execution_count": 61,
     "metadata": {},
     "output_type": "execute_result"
    }
   ],
   "source": [
    "vector_db.search_by_text(\"What is the Michael Eisner Memorial Weak Executive Problem?\", k=3)"
   ]
  },
  {
   "cell_type": "markdown",
   "metadata": {
    "id": "TehsfIiKR6yw"
   },
   "source": [
    "## Task 4: Prompts\n",
    "\n",
    "In the following section, we'll be looking at the role of prompts - and how they help us to guide our application in the right direction.\n",
    "\n",
    "In this notebook, we're going to rely on the idea of \"zero-shot in-context learning\".\n",
    "\n",
    "This is a lot of words to say: \"We will ask it to perform our desired task in the prompt, and provide no examples.\""
   ]
  },
  {
   "cell_type": "markdown",
   "metadata": {
    "id": "yXpA0UveR6yw"
   },
   "source": [
    "### XYZRolePrompt\n",
    "\n",
    "Before we do that, let's stop and think a bit about how OpenAI's chat models work.\n",
    "\n",
    "We know they have roles - as is indicated in the following API [documentation](https://platform.openai.com/docs/api-reference/chat/create#chat/create-messages)\n",
    "\n",
    "There are three roles, and they function as follows (taken directly from [OpenAI](https://platform.openai.com/docs/guides/gpt/chat-completions-api)):\n",
    "\n",
    "- `{\"role\" : \"system\"}` : The system message helps set the behavior of the assistant. For example, you can modify the personality of the assistant or provide specific instructions about how it should behave throughout the conversation. However note that the system message is optional and the model’s behavior without a system message is likely to be similar to using a generic message such as \"You are a helpful assistant.\"\n",
    "- `{\"role\" : \"user\"}` : The user messages provide requests or comments for the assistant to respond to.\n",
    "- `{\"role\" : \"assistant\"}` : Assistant messages store previous assistant responses, but can also be written by you to give examples of desired behavior.\n",
    "\n",
    "The main idea is this:\n",
    "\n",
    "1. You start with a system message that outlines how the LLM should respond, what kind of behaviours you can expect from it, and more\n",
    "2. Then, you can provide a few examples in the form of \"assistant\"/\"user\" pairs\n",
    "3. Then, you prompt the model with the true \"user\" message.\n",
    "\n",
    "In this example, we'll be forgoing the 2nd step for simplicities sake."
   ]
  },
  {
   "cell_type": "markdown",
   "metadata": {
    "id": "gdZ2KWKSR6yw"
   },
   "source": [
    "#### Utility Functions\n",
    "\n",
    "You'll notice that we're using some utility functions from the `aimakerspace` module - let's take a peek at these and see what they're doing!"
   ]
  },
  {
   "cell_type": "markdown",
   "metadata": {
    "id": "GFbeJDDsR6yw"
   },
   "source": [
    "##### XYZRolePrompt"
   ]
  },
  {
   "cell_type": "markdown",
   "metadata": {
    "id": "5mojJSE3R6yw"
   },
   "source": [
    "Here we have our `system`, `user`, and `assistant` role prompts.\n",
    "\n",
    "Let's take a peek at what they look like:\n",
    "\n",
    "```python\n",
    "class BasePrompt:\n",
    "    def __init__(self, prompt):\n",
    "        \"\"\"\n",
    "        Initializes the BasePrompt object with a prompt template.\n",
    "\n",
    "        :param prompt: A string that can contain placeholders within curly braces\n",
    "        \"\"\"\n",
    "        self.prompt = prompt\n",
    "        self._pattern = re.compile(r\"\\{([^}]+)\\}\")\n",
    "\n",
    "    def format_prompt(self, **kwargs):\n",
    "        \"\"\"\n",
    "        Formats the prompt string using the keyword arguments provided.\n",
    "\n",
    "        :param kwargs: The values to substitute into the prompt string\n",
    "        :return: The formatted prompt string\n",
    "        \"\"\"\n",
    "        matches = self._pattern.findall(self.prompt)\n",
    "        return self.prompt.format(**{match: kwargs.get(match, \"\") for match in matches})\n",
    "\n",
    "    def get_input_variables(self):\n",
    "        \"\"\"\n",
    "        Gets the list of input variable names from the prompt string.\n",
    "\n",
    "        :return: List of input variable names\n",
    "        \"\"\"\n",
    "        return self._pattern.findall(self.prompt)\n",
    "```\n",
    "\n",
    "Then we have our `RolePrompt` which laser focuses us on the role pattern found in most API endpoints for LLMs.\n",
    "\n",
    "```python\n",
    "class RolePrompt(BasePrompt):\n",
    "    def __init__(self, prompt, role: str):\n",
    "        \"\"\"\n",
    "        Initializes the RolePrompt object with a prompt template and a role.\n",
    "\n",
    "        :param prompt: A string that can contain placeholders within curly braces\n",
    "        :param role: The role for the message ('system', 'user', or 'assistant')\n",
    "        \"\"\"\n",
    "        super().__init__(prompt)\n",
    "        self.role = role\n",
    "\n",
    "    def create_message(self, **kwargs):\n",
    "        \"\"\"\n",
    "        Creates a message dictionary with a role and a formatted message.\n",
    "\n",
    "        :param kwargs: The values to substitute into the prompt string\n",
    "        :return: Dictionary containing the role and the formatted message\n",
    "        \"\"\"\n",
    "        return {\"role\": self.role, \"content\": self.format_prompt(**kwargs)}\n",
    "```\n",
    "\n",
    "We'll look at how the `SystemRolePrompt` is constructed to get a better idea of how that extension works:\n",
    "\n",
    "```python\n",
    "class SystemRolePrompt(RolePrompt):\n",
    "    def __init__(self, prompt: str):\n",
    "        super().__init__(prompt, \"system\")\n",
    "```\n",
    "\n",
    "That pattern is repeated for our `UserRolePrompt` and our `AssistantRolePrompt` as well."
   ]
  },
  {
   "cell_type": "markdown",
   "metadata": {
    "id": "D361R6sMR6yw"
   },
   "source": [
    "##### ChatOpenAI"
   ]
  },
  {
   "cell_type": "markdown",
   "metadata": {
    "id": "HJVQ2Pm8R6yw"
   },
   "source": [
    "Next we have our model, which is converted to a format analagous to libraries like LangChain and LlamaIndex.\n",
    "\n",
    "Let's take a peek at how that is constructed:\n",
    "\n",
    "```python\n",
    "class ChatOpenAI:\n",
    "    def __init__(self, model_name: str = \"gpt-4o-mini\"):\n",
    "        self.model_name = model_name\n",
    "        self.openai_api_key = os.getenv(\"OPENAI_API_KEY\")\n",
    "        if self.openai_api_key is None:\n",
    "            raise ValueError(\"OPENAI_API_KEY is not set\")\n",
    "\n",
    "    def run(self, messages, text_only: bool = True):\n",
    "        if not isinstance(messages, list):\n",
    "            raise ValueError(\"messages must be a list\")\n",
    "\n",
    "        openai.api_key = self.openai_api_key\n",
    "        response = openai.ChatCompletion.create(\n",
    "            model=self.model_name, messages=messages\n",
    "        )\n",
    "\n",
    "        if text_only:\n",
    "            return response.choices[0].message.content\n",
    "\n",
    "        return response\n",
    "```"
   ]
  },
  {
   "cell_type": "markdown",
   "metadata": {
    "id": "qCU7FfhIR6yw"
   },
   "source": [
    "#### ❓ Question #3:\n",
    "\n",
    "When calling the OpenAI API - are there any ways we can achieve more reproducible outputs?\n",
    "\n",
    "> NOTE: Check out [this section](https://platform.openai.com/docs/guides/text-generation/) of the OpenAI documentation for the answer!"
   ]
  },
  {
   "cell_type": "markdown",
   "metadata": {},
   "source": [
    "#### Answer #3\n",
    "\n",
    "1. A combination of the below would help with reproducing similar outputs:\n",
    "- pinning to specific model snapshots, as different snapshots of models can produce different results\n",
    "- consistent instruction helps to produce desired responses\n",
    "- consider using resuable prompts to keep format and tone consistent\n",
    "- few-shot learning can help make responses more reliable by helping the model know what sort of response you're expecting\n",
    "- if available, opting for a lower temperature would help keep responses less random\n",
    "\n",
    "\n",
    "---"
   ]
  },
  {
   "cell_type": "markdown",
   "metadata": {
    "id": "c5wcjMLCR6yw"
   },
   "source": [
    "### Creating and Prompting OpenAI's `gpt-4o-mini`!\n",
    "\n",
    "Let's tie all these together and use it to prompt `gpt-4o-mini`!"
   ]
  },
  {
   "cell_type": "code",
   "execution_count": 62,
   "metadata": {
    "id": "WIfpIot7R6yw"
   },
   "outputs": [],
   "source": [
    "from aimakerspace.openai_utils.prompts import (\n",
    "    UserRolePrompt,\n",
    "    SystemRolePrompt,\n",
    "    AssistantRolePrompt,\n",
    ")\n",
    "\n",
    "from aimakerspace.openai_utils.chatmodel import ChatOpenAI\n",
    "\n",
    "chat_openai = ChatOpenAI()\n",
    "user_prompt_template = \"{content}\"\n",
    "user_role_prompt = UserRolePrompt(user_prompt_template)\n",
    "system_prompt_template = (\n",
    "    \"You are an expert in {expertise}, you always answer in a kind way.\"\n",
    ")\n",
    "system_role_prompt = SystemRolePrompt(system_prompt_template)\n",
    "\n",
    "messages = [\n",
    "    system_role_prompt.create_message(expertise=\"Python\"),\n",
    "    user_role_prompt.create_message(\n",
    "        content=\"What is the best way to write a loop?\"\n",
    "    ),\n",
    "]\n",
    "\n",
    "response = chat_openai.run(messages)"
   ]
  },
  {
   "cell_type": "code",
   "execution_count": 63,
   "metadata": {
    "colab": {
     "base_uri": "https://localhost:8080/"
    },
    "id": "dHo7lssNR6yw",
    "outputId": "1d3823fa-bb6b-45f6-ddba-b41686388324"
   },
   "outputs": [
    {
     "name": "stdout",
     "output_type": "stream",
     "text": [
      "The best way to write a loop in Python largely depends on the specific task you're trying to accomplish and the structure of your data. There are different types of loops you can use in Python: `for` loops and `while` loops. Here are some guidelines and examples for each type:\n",
      "\n",
      "### For Loop\n",
      "A `for` loop is generally used when you want to iterate over a sequence (like a list, tuple, or string).\n",
      "\n",
      "**Example: Looping through a list**\n",
      "```python\n",
      "fruits = ['apple', 'banana', 'cherry']\n",
      "for fruit in fruits:\n",
      "    print(fruit)\n",
      "```\n",
      "\n",
      "### While Loop\n",
      "A `while` loop is useful when you want to repeat an action as long as a condition is true.\n",
      "\n",
      "**Example: Using a while loop**\n",
      "```python\n",
      "count = 0\n",
      "while count < 5:\n",
      "    print(count)\n",
      "    count += 1\n",
      "```\n",
      "\n",
      "### Tips for Writing Loops\n",
      "1. **Keep it Simple**: Aim to make your loops as simple and readable as possible.\n",
      "2. **Use Built-in Functions**: Consider using built-in functions like `enumerate()` or `zip()` when dealing with loops to make your code more elegant.\n",
      "   - Example with `enumerate()`:\n",
      "     ```python\n",
      "     for index, fruit in enumerate(fruits):\n",
      "         print(f\"{index}: {fruit}\")\n",
      "     ```\n",
      "3. **Avoid Infinite Loops**: Make sure your loop has a clear exit condition to avoid running indefinitely.\n",
      "4. **List Comprehensions**: If you're transforming data, consider using list comprehensions as a more Pythonic way to handle iterations.\n",
      "   - Example of list comprehension:\n",
      "     ```python\n",
      "     squared_numbers = [x**2 for x in range(10)]\n",
      "     ```\n",
      "\n",
      "5. **Use Break and Continue Wisely**: You can control the flow within loops using `break` to exit the loop and `continue` to skip to the next iteration, but use these sparingly to maintain clarity.\n",
      "\n",
      "### Conclusion\n",
      "Ultimately, the best loop structure will depend on your programming goals. Taking advantage of Python’s syntax and built-in features, while keeping your code clean and readable, is the best practice. If you have a specific case in mind, feel free to share, and I can provide more tailored advice!\n"
     ]
    }
   ],
   "source": [
    "print(response)"
   ]
  },
  {
   "cell_type": "markdown",
   "metadata": {
    "id": "r2nxxhB2R6yy"
   },
   "source": [
    "## Task 5: Retrieval Augmented Generation\n",
    "\n",
    "Now we can create a RAG prompt - which will help our system behave in a way that makes sense!\n",
    "\n",
    "There is much you could do here, many tweaks and improvements to be made!"
   ]
  },
  {
   "cell_type": "code",
   "execution_count": 64,
   "metadata": {
    "id": "D1hamzGaR6yy"
   },
   "outputs": [],
   "source": [
    "RAG_SYSTEM_TEMPLATE = \"\"\"You are a knowledgeable assistant that answers questions based strictly on provided context.\n",
    "\n",
    "Instructions:\n",
    "- Only answer questions using information from the provided context\n",
    "- If the context doesn't contain relevant information, respond with \"I don't know\"\n",
    "- Be accurate and cite specific parts of the context when possible\n",
    "- Keep responses {response_style} and {response_length}\n",
    "- Only use the provided context. Do not use external knowledge.\n",
    "- Only provide answers when you are confident the context supports your response.\"\"\"\n",
    "\n",
    "RAG_USER_TEMPLATE = \"\"\"Context Information:\n",
    "{context}\n",
    "\n",
    "Number of relevant sources found: {context_count}\n",
    "{similarity_scores}\n",
    "\n",
    "Question: {user_query}\n",
    "\n",
    "Please provide your answer based solely on the context above.\"\"\"\n",
    "\n",
    "rag_system_prompt = SystemRolePrompt(\n",
    "    RAG_SYSTEM_TEMPLATE,\n",
    "    strict=True,\n",
    "    defaults={\n",
    "        \"response_style\": \"concise\",\n",
    "        \"response_length\": \"brief\"\n",
    "    }\n",
    ")\n",
    "\n",
    "rag_user_prompt = UserRolePrompt(\n",
    "    RAG_USER_TEMPLATE,\n",
    "    strict=True,\n",
    "    defaults={\n",
    "        \"context_count\": \"\",\n",
    "        \"similarity_scores\": \"\"\n",
    "    }\n",
    ")"
   ]
  },
  {
   "cell_type": "markdown",
   "metadata": {},
   "source": [
    "Now we can create our pipeline!"
   ]
  },
  {
   "cell_type": "code",
   "execution_count": 65,
   "metadata": {},
   "outputs": [],
   "source": [
    "class RetrievalAugmentedQAPipeline:\n",
    "    def __init__(self, llm: ChatOpenAI(), vector_db_retriever: VectorDatabase, \n",
    "                 response_style: str = \"detailed\", include_scores: bool = False) -> None:\n",
    "        self.llm = llm\n",
    "        self.vector_db_retriever = vector_db_retriever\n",
    "        self.response_style = response_style\n",
    "        self.include_scores = include_scores\n",
    "\n",
    "    def run_pipeline(self, user_query: str, k: int = 4, **system_kwargs) -> dict:\n",
    "        # Retrieve relevant contexts\n",
    "        context_list = self.vector_db_retriever.search_by_text(user_query, k=k)\n",
    "        \n",
    "        context_prompt = \"\"\n",
    "        similarity_scores = []\n",
    "        \n",
    "        for i, (context, score) in enumerate(context_list, 1):\n",
    "            context_prompt += f\"[Source {i}]: {context}\\n\\n\"\n",
    "            similarity_scores.append(f\"Source {i}: {score:.3f}\")\n",
    "        \n",
    "        # Create system message with parameters\n",
    "        system_params = {\n",
    "            \"response_style\": self.response_style,\n",
    "            \"response_length\": system_kwargs.get(\"response_length\", \"detailed\")\n",
    "        }\n",
    "        \n",
    "        formatted_system_prompt = rag_system_prompt.create_message(**system_params)\n",
    "        \n",
    "        user_params = {\n",
    "            \"user_query\": user_query,\n",
    "            \"context\": context_prompt.strip(),\n",
    "            \"context_count\": len(context_list),\n",
    "            \"similarity_scores\": f\"Relevance scores: {', '.join(similarity_scores)}\" if self.include_scores else \"\"\n",
    "        }\n",
    "        \n",
    "        formatted_user_prompt = rag_user_prompt.create_message(**user_params)\n",
    "\n",
    "        return {\n",
    "            \"response\": self.llm.run([formatted_system_prompt, formatted_user_prompt]), \n",
    "            \"context\": context_list,\n",
    "            \"context_count\": len(context_list),\n",
    "            \"similarity_scores\": similarity_scores if self.include_scores else None,\n",
    "            \"prompts_used\": {\n",
    "                \"system\": formatted_system_prompt,\n",
    "                \"user\": formatted_user_prompt\n",
    "            }\n",
    "        }"
   ]
  },
  {
   "cell_type": "code",
   "execution_count": 66,
   "metadata": {},
   "outputs": [
    {
     "name": "stdout",
     "output_type": "stream",
     "text": [
      "Response: The 'Michael Eisner Memorial Weak Executive Problem' refers to the tendency of CEOs or startup founders to hire executives who are weak in the core functional areas that the CEO is familiar with or has expertise in. This phenomenon occurs when a CEO, who might have a background as a strong executive in a specific area, hires a weak individual to fill that role, allowing the CEO to maintain control and continue to influence that function. The example given is of Michael Eisner, the former CEO of Disney, who, despite being a brilliant TV network executive, oversaw the decline of ABC after acquiring it, ultimately expressing dissatisfaction about not having enough time to manage it himself. This reflects the challenge leaders often face in relinquishing control and the potential negative impact of hiring weaker executives in their areas of expertise (Source 1).\n",
      "\n",
      "Context Count: 3\n",
      "Similarity Scores: ['Source 1: 0.691', 'Source 2: 0.510', 'Source 3: 0.491']\n"
     ]
    }
   ],
   "source": [
    "rag_pipeline = RetrievalAugmentedQAPipeline(\n",
    "    vector_db_retriever=vector_db,\n",
    "    llm=chat_openai,\n",
    "    response_style=\"detailed\",\n",
    "    include_scores=True\n",
    ")\n",
    "\n",
    "result = rag_pipeline.run_pipeline(\n",
    "    \"What is the 'Michael Eisner Memorial Weak Executive Problem'?\",\n",
    "    k=3,\n",
    "    response_length=\"comprehensive\", \n",
    "    include_warnings=True,\n",
    "    confidence_required=True\n",
    ")\n",
    "\n",
    "print(f\"Response: {result['response']}\")\n",
    "print(f\"\\nContext Count: {result['context_count']}\")\n",
    "print(f\"Similarity Scores: {result['similarity_scores']}\")\n"
   ]
  },
  {
   "cell_type": "markdown",
   "metadata": {
    "id": "zZIJI19uR6yz"
   },
   "source": [
    "#### ❓ Question #4:\n",
    "\n",
    "What prompting strategies could you use to make the LLM have a more thoughtful, detailed response?\n",
    "\n",
    "What is that strategy called?\n",
    "\n",
    "> NOTE: You can look through [\"Accessing GPT-3.5-turbo Like a Developer\"](https://colab.research.google.com/drive/1mOzbgf4a2SP5qQj33ZxTz2a01-5eXqk2?usp=sharing) for an answer to this question if you get stuck!"
   ]
  },
  {
   "cell_type": "markdown",
   "metadata": {},
   "source": [
    "#### Answer #4\n",
    "\n",
    "- have the LLM take the \"role\" of the type of person who would ideally provide the type of answer you're looking for, such a professor, or a field expert, etc.\n",
    "- CoT reasoning and prompting the model to think through its answers\n",
    "\n",
    "\n",
    "---"
   ]
  },
  {
   "cell_type": "markdown",
   "metadata": {},
   "source": [
    "### 🏗️ Activity #1:\n",
    "\n",
    "Enhance your RAG application in some way! \n",
    "\n",
    "Suggestions are: \n",
    "\n",
    "- Allow it to work with PDF files\n",
    "- Implement a new distance metric\n",
    "- Add metadata support to the vector database\n",
    "\n",
    "While these are suggestions, you should feel free to make whatever augmentations you desire! \n",
    "\n",
    "> NOTE: These additions might require you to work within the `aimakerspace` library - that's expected!\n",
    "\n",
    "> NOTE: If you're not sure where to start - ask Cursor (CMD/CTRL+L) to guide you through the changes!"
   ]
  },
  {
   "cell_type": "code",
   "execution_count": 67,
   "metadata": {},
   "outputs": [
    {
     "name": "stdout",
     "output_type": "stream",
     "text": [
      "Setting up Enhanced RAG Comparison...\n"
     ]
    }
   ],
   "source": [
    "# Enhanced RAG Comparison: Testing Three Different Chunking Strategies\n",
    "# Based on the comprehensive comparison functionality from the handler.py\n",
    "# Updated for modern OpenAI API compatibility and Unicode handling\n",
    "\n",
    "import numpy as np\n",
    "from collections import defaultdict\n",
    "\n",
    "# First, let's create a larger chunk version of our vector database for comparison\n",
    "class LargeChunkVectorDB:\n",
    "    \"\"\"Vector database with larger chunks for comparison\"\"\"\n",
    "    \n",
    "    def __init__(self, embedding_model, chunk_size=3000, chunk_overlap=200):\n",
    "        self.vectors = defaultdict(np.array)\n",
    "        self.embedding_model = embedding_model\n",
    "        self.chunk_size = chunk_size\n",
    "        self.chunk_overlap = chunk_overlap\n",
    "        \n",
    "    async def build_from_documents(self, documents):\n",
    "        \"\"\"Build vector database with large chunks\"\"\"\n",
    "        large_splitter = CharacterTextSplitter(\n",
    "            chunk_size=self.chunk_size,\n",
    "            chunk_overlap=self.chunk_overlap\n",
    "        )\n",
    "        large_chunks = large_splitter.split_texts(documents)\n",
    "        \n",
    "        # Clean the large chunks to avoid Unicode issues\n",
    "        cleaned_large_chunks = [clean_text_for_embedding(chunk) for chunk in large_chunks]\n",
    "        \n",
    "        # Get embeddings for large chunks using the embedding model\n",
    "        embeddings = await self.embedding_model.async_get_embeddings(cleaned_large_chunks)\n",
    "        \n",
    "        # Store in vectors dictionary (using cleaned text)\n",
    "        for text, embedding in zip(cleaned_large_chunks, embeddings):\n",
    "            self.vectors[text] = np.array(embedding)\n",
    "            \n",
    "        return cleaned_large_chunks\n",
    "    \n",
    "    def search_by_text(self, query_text, k=5):\n",
    "        \"\"\"Search for similar chunks - SYNCHRONOUS version for RAG pipeline compatibility\"\"\"\n",
    "        if not self.vectors:\n",
    "            return []\n",
    "            \n",
    "        # For synchronous compatibility, we'll use a simpler approach\n",
    "        # Note: This is a limitation - ideally we'd want async throughout\n",
    "        try:\n",
    "            # Try to use the embedding model synchronously if possible\n",
    "            import openai\n",
    "            import os\n",
    "            \n",
    "            # Clean the query text too\n",
    "            clean_query = clean_text_for_embedding(query_text)\n",
    "            \n",
    "            # Get query embedding synchronously \n",
    "            client = openai.OpenAI(api_key=os.environ.get(\"OPENAI_API_KEY\"))\n",
    "            response = client.embeddings.create(\n",
    "                input=[clean_query],\n",
    "                model=\"text-embedding-3-small\"\n",
    "            )\n",
    "            query_embedding = np.array(response.data[0].embedding)\n",
    "            \n",
    "            # Calculate similarities\n",
    "            similarities = []\n",
    "            for text, vector in self.vectors.items():\n",
    "                similarity = np.dot(query_embedding, vector)\n",
    "                similarities.append((text, similarity))\n",
    "            \n",
    "            # Sort by similarity and return top k\n",
    "            similarities.sort(key=lambda x: x[1], reverse=True)\n",
    "            return similarities[:k]\n",
    "            \n",
    "        except Exception as e:\n",
    "            print(f\"Error in synchronous search: {e}\")\n",
    "            return []\n",
    "    \n",
    "    async def async_search_by_text(self, query_text, k=5):\n",
    "        \"\"\"Async version of search for when we can use it\"\"\"\n",
    "        if not self.vectors:\n",
    "            return []\n",
    "            \n",
    "        # Clean the query text\n",
    "        clean_query = clean_text_for_embedding(query_text)\n",
    "        \n",
    "        # Get query embedding using the embedding model (async)\n",
    "        query_embedding = np.array(await self.embedding_model.async_get_embedding(clean_query))\n",
    "        \n",
    "        # Calculate similarities\n",
    "        similarities = []\n",
    "        for text, vector in self.vectors.items():\n",
    "            similarity = np.dot(query_embedding, vector)\n",
    "            similarities.append((text, similarity))\n",
    "        \n",
    "        # Sort by similarity and return top k\n",
    "        similarities.sort(key=lambda x: x[1], reverse=True)\n",
    "        return similarities[:k]\n",
    "\n",
    "\n",
    "class EnhancedRAGComparison:\n",
    "    \"\"\"Compare three different RAG strategies\"\"\"\n",
    "    \n",
    "    def __init__(self, documents, embedding_model, chat_model):\n",
    "        self.documents = documents\n",
    "        self.embedding_model = embedding_model\n",
    "        self.chat_model = chat_model\n",
    "        \n",
    "        # Strategy 1: Small chunks (already exists) - use cleaned documents\n",
    "        self.small_vector_db = vector_db\n",
    "        \n",
    "        # Strategy 2: We'll create adjacent chunk functionality using cleaned documents\n",
    "        self.chunk_metadata = {}\n",
    "        self.build_chunk_metadata()\n",
    "        \n",
    "        # Strategy 3: Large chunks\n",
    "        self.large_vector_db = None\n",
    "        \n",
    "    def build_chunk_metadata(self):\n",
    "        \"\"\"Build metadata for adjacent chunk functionality using cleaned documents\"\"\"\n",
    "        for i, chunk in enumerate(cleaned_split_documents):\n",
    "            self.chunk_metadata[i] = {\n",
    "                'text': chunk,\n",
    "                'index': i,\n",
    "                'total_chunks': len(cleaned_split_documents)\n",
    "            }\n",
    "    \n",
    "    async def setup_large_chunks(self):\n",
    "        \"\"\"Setup large chunk vector database\"\"\"\n",
    "        self.large_vector_db = LargeChunkVectorDB(self.embedding_model)\n",
    "        large_chunks = await self.large_vector_db.build_from_documents(self.documents)\n",
    "        print(f\"Created {len(large_chunks)} large chunks (vs {len(cleaned_split_documents)} small chunks)\")\n",
    "        \n",
    "    def get_adjacent_chunks(self, center_idx, adjacent_count=1):\n",
    "        \"\"\"Get adjacent chunks around a center chunk\"\"\"\n",
    "        start_idx = max(0, center_idx - adjacent_count)\n",
    "        end_idx = min(len(cleaned_split_documents), center_idx + adjacent_count + 1)\n",
    "        \n",
    "        adjacent_texts = []\n",
    "        for i in range(start_idx, end_idx):\n",
    "            if i < len(cleaned_split_documents):\n",
    "                adjacent_texts.append(cleaned_split_documents[i])\n",
    "        \n",
    "        return \"\\n\\n\".join(adjacent_texts)\n",
    "    \n",
    "    async def strategy_1_small_chunks(self, query, k=5):\n",
    "        \"\"\"Strategy 1: Regular small chunks\"\"\"\n",
    "        results = self.small_vector_db.search_by_text(query, k=k)\n",
    "        return [{\n",
    "            'text': text,\n",
    "            'score': float(score),\n",
    "            'strategy': 'Small Chunks',\n",
    "            'full_text': text,\n",
    "            'original_rank': i + 1  # Track original rank for comparison\n",
    "        } for i, (text, score) in enumerate(results)]\n",
    "    \n",
    "    async def strategy_2_adjacent_expansion(self, query, k=5, adjacent_count=1):\n",
    "        \"\"\"Strategy 2: Small chunks + adjacent expansion with re-embedding\"\"\"\n",
    "        # First get initial results\n",
    "        initial_results = self.small_vector_db.search_by_text(query, k=k)\n",
    "        \n",
    "        enhanced_results = []\n",
    "        for i, (text, score) in enumerate(initial_results):\n",
    "            # Find the chunk index\n",
    "            chunk_idx = -1\n",
    "            for j, chunk in enumerate(cleaned_split_documents):\n",
    "                if chunk == text:\n",
    "                    chunk_idx = j\n",
    "                    break\n",
    "            \n",
    "            if chunk_idx != -1:\n",
    "                # Get adjacent chunks\n",
    "                expanded_text = self.get_adjacent_chunks(chunk_idx, adjacent_count)\n",
    "                \n",
    "                # Clean the expanded text before embedding\n",
    "                clean_expanded = clean_text_for_embedding(expanded_text)\n",
    "                clean_query = clean_text_for_embedding(query)\n",
    "                \n",
    "                # Re-embed the expanded text\n",
    "                expanded_embedding = await self.embedding_model.async_get_embedding(clean_expanded)\n",
    "                query_embedding = await self.embedding_model.async_get_embedding(clean_query)\n",
    "                \n",
    "                # Calculate new similarity\n",
    "                new_score = float(np.dot(expanded_embedding, query_embedding))\n",
    "                \n",
    "                enhanced_results.append({\n",
    "                    'text': text,  # Original chunk for comparison\n",
    "                    'score': new_score,\n",
    "                    'original_score': float(score),\n",
    "                    'original_rank': i + 1,  # Original rank before re-scoring\n",
    "                    'strategy': f'Adjacent Expansion ({adjacent_count})',\n",
    "                    'full_text': clean_expanded,\n",
    "                    'chunks_used': 2 * adjacent_count + 1,\n",
    "                    'score_change': new_score - float(score)\n",
    "                })\n",
    "        \n",
    "        # Re-sort by new scores and calculate rank changes\n",
    "        enhanced_results.sort(key=lambda x: x['score'], reverse=True)\n",
    "        \n",
    "        # Add new ranks and calculate rank changes\n",
    "        for i, result in enumerate(enhanced_results):\n",
    "            result['new_rank'] = i + 1\n",
    "            result['rank_change'] = result['original_rank'] - result['new_rank']  # Positive means improved (moved up)\n",
    "            \n",
    "        return enhanced_results\n",
    "    \n",
    "    async def strategy_3_large_chunks(self, query, k=5):\n",
    "        \"\"\"Strategy 3: Large chunks from the start\"\"\"\n",
    "        if not self.large_vector_db:\n",
    "            await self.setup_large_chunks()\n",
    "            \n",
    "        results = await self.large_vector_db.async_search_by_text(query, k=k)\n",
    "        return [{\n",
    "            'text': text[:200] + \"...\" if len(text) > 200 else text,  # Truncate for display\n",
    "            'score': float(score),\n",
    "            'strategy': 'Large Chunks',\n",
    "            'full_text': text,\n",
    "            'chunk_size': len(text),\n",
    "            'original_rank': i + 1  # Track rank\n",
    "        } for i, (text, score) in enumerate(results)]\n",
    "    \n",
    "    async def compare_all_strategies(self, query, k=5, adjacent_count=1, display_chars=200):\n",
    "        \"\"\"Compare all three strategies side by side\"\"\"\n",
    "        print(f\"🔍 COMPREHENSIVE RAG STRATEGY COMPARISON\")\n",
    "        print(f\"Query: '{query}'\")\n",
    "        print(f\"Results per strategy: {k}\")\n",
    "        print(\"=\" * 100)\n",
    "        \n",
    "        # Get results from all strategies\n",
    "        small_results = await self.strategy_1_small_chunks(query, k)\n",
    "        adjacent_results = await self.strategy_2_adjacent_expansion(query, k, adjacent_count)\n",
    "        large_results = await self.strategy_3_large_chunks(query, k)\n",
    "        \n",
    "        # Compare rank by rank\n",
    "        for rank in range(k):\n",
    "            print(f\"\\n🏆 RANK #{rank + 1} COMPARISON\")\n",
    "            print(\"-\" * 50)\n",
    "            \n",
    "            # Small chunks\n",
    "            if rank < len(small_results):\n",
    "                result = small_results[rank]\n",
    "                text_preview = result['text'][:display_chars] + \"...\" if len(result['text']) > display_chars else result['text']\n",
    "                print(f\"📄 SMALL CHUNKS: Score {result['score']:.4f}\")\n",
    "                print(f\"   {text_preview}\")\n",
    "            else:\n",
    "                print(f\"📄 SMALL CHUNKS: [No result at rank {rank + 1}]\")\n",
    "            \n",
    "            print()\n",
    "            \n",
    "            # Adjacent expansion\n",
    "            if rank < len(adjacent_results):\n",
    "                result = adjacent_results[rank]\n",
    "                text_preview = result['text'][:display_chars] + \"...\" if len(result['text']) > display_chars else result['text']\n",
    "                \n",
    "                # Show rank change information\n",
    "                rank_change_info = \"\"\n",
    "                if 'rank_change' in result:\n",
    "                    rank_change = result['rank_change']\n",
    "                    if rank_change > 0:\n",
    "                        rank_change_info = f\" (was rank #{result['original_rank']}, ↑{rank_change})\"\n",
    "                    elif rank_change < 0:\n",
    "                        rank_change_info = f\" (was rank #{result['original_rank']}, ↓{abs(rank_change)})\"\n",
    "                    else:\n",
    "                        rank_change_info = f\" (rank unchanged from #{result['original_rank']})\"\n",
    "                \n",
    "                score_change = result.get('score_change', 0)\n",
    "                print(f\"🔗 ADJACENT EXPANSION: Score {result['score']:.4f} (was {result['original_score']:.4f}, {score_change:+.4f}){rank_change_info}\")\n",
    "                print(f\"   {text_preview}\")\n",
    "                print(f\"   (Expanded to {result['chunks_used']} chunks)\")\n",
    "            else:\n",
    "                print(f\"🔗 ADJACENT EXPANSION: [No result at rank {rank + 1}]\")\n",
    "            \n",
    "            print()\n",
    "            \n",
    "            # Large chunks\n",
    "            if rank < len(large_results):\n",
    "                result = large_results[rank]\n",
    "                text_preview = result['text'][:display_chars] + \"...\" if len(result['text']) > display_chars else result['text']\n",
    "                print(f\"📚 LARGE CHUNKS: Score {result['score']:.4f}\")\n",
    "                print(f\"   {text_preview}\")\n",
    "                print(f\"   (Chunk size: {result.get('chunk_size', 'Unknown')} chars)\")\n",
    "            else:\n",
    "                print(f\"📚 LARGE CHUNKS: [No result at rank {rank + 1}]\")\n",
    "        \n",
    "        # Calculate average scores\n",
    "        small_avg = sum(r['score'] for r in small_results) / len(small_results) if small_results else 0\n",
    "        adjacent_avg = sum(r['score'] for r in adjacent_results) / len(adjacent_results) if adjacent_results else 0\n",
    "        large_avg = sum(r['score'] for r in large_results) / len(large_results) if large_results else 0\n",
    "        \n",
    "        print(f\"\\n📊 AVERAGE SCORES\")\n",
    "        print(\"-\" * 40)\n",
    "        print(f\"Small Chunks:      {small_avg:.4f}\")\n",
    "        print(f\"Adjacent Expanded: {adjacent_avg:.4f} ({adjacent_avg - small_avg:+.4f})\")\n",
    "        print(f\"Large Chunks:      {large_avg:.4f} ({large_avg - small_avg:+.4f})\")\n",
    "        \n",
    "        # Add rank change summary for adjacent expansion\n",
    "        if adjacent_results and any('rank_change' in r for r in adjacent_results):\n",
    "            print(f\"\\n📈 RANK CHANGE ANALYSIS (Adjacent Expansion)\")\n",
    "            print(\"-\" * 40)\n",
    "            improved = sum(1 for r in adjacent_results if r.get('rank_change', 0) > 0)\n",
    "            worsened = sum(1 for r in adjacent_results if r.get('rank_change', 0) < 0)\n",
    "            unchanged = sum(1 for r in adjacent_results if r.get('rank_change', 0) == 0)\n",
    "            \n",
    "            print(f\"Rank improvements: {improved} results moved up\")\n",
    "            print(f\"Rank degradations: {worsened} results moved down\") \n",
    "            print(f\"Rank unchanged:    {unchanged} results stayed same\")\n",
    "            \n",
    "            # Average rank change\n",
    "            avg_rank_change = sum(r.get('rank_change', 0) for r in adjacent_results) / len(adjacent_results)\n",
    "            print(f\"Average rank change: {avg_rank_change:+.2f} positions\")\n",
    "        \n",
    "        # Determine winner\n",
    "        strategies = [\n",
    "            ('Small Chunks', small_avg),\n",
    "            ('Adjacent Expanded', adjacent_avg), \n",
    "            ('Large Chunks', large_avg)\n",
    "        ]\n",
    "        best_strategy = max(strategies, key=lambda x: x[1])\n",
    "        print(f\"\\n🏆 BEST STRATEGY: {best_strategy[0]} (avg score: {best_strategy[1]:.4f})\")\n",
    "        \n",
    "        return {\n",
    "            'small_results': small_results,\n",
    "            'adjacent_results': adjacent_results,\n",
    "            'large_results': large_results,\n",
    "            'average_scores': {\n",
    "                'small': small_avg,\n",
    "                'adjacent': adjacent_avg,\n",
    "                'large': large_avg\n",
    "            },\n",
    "            'best_strategy': best_strategy[0]\n",
    "        }\n",
    "\n",
    "# Initialize the comparison system\n",
    "print(\"Setting up Enhanced RAG Comparison...\")\n",
    "comparison = EnhancedRAGComparison(documents, vector_db.embedding_model, chat_openai)"
   ]
  },
  {
   "cell_type": "code",
   "execution_count": 68,
   "metadata": {},
   "outputs": [
    {
     "name": "stdout",
     "output_type": "stream",
     "text": [
      "🚀 Running Enhanced RAG Strategy Comparison\n",
      "============================================================\n",
      "\n",
      "Testing with query: 'What is the Michael Eisner Memorial Weak Executive Problem?'\n",
      "🔍 COMPREHENSIVE RAG STRATEGY COMPARISON\n",
      "Query: 'What is the Michael Eisner Memorial Weak Executive Problem?'\n",
      "Results per strategy: 5\n",
      "====================================================================================================\n",
      "Created 107 large chunks (vs 373 small chunks)\n",
      "\n",
      "🏆 RANK #1 COMPARISON\n",
      "--------------------------------------------------\n",
      "📄 SMALL CHUNKS: Score 0.6884\n",
      "   ordingly. Seventh, when hiring the executive to run your former specialty, be careful you don t hire someone weak on purpose. This sounds silly, but you wouldn t believe how oaen it happens. The CEO w...\n",
      "\n",
      "🔗 ADJACENT EXPANSION: Score 0.5223 (was 0.5056, +0.0167) (was rank #2, ↑1)\n",
      "   m. They have areas where they are truly deXcient in judgment or skill set. That s just life. Almost nobody is brilliant at everything. When hiring and when Hring executives, you must therefore focus o...\n",
      "   (Expanded to 3 chunks)\n",
      "\n",
      "📚 LARGE CHUNKS: Score 0.5447\n",
      "   g executive. I call this the Michael Eisner Memorial Weak Executive Problem aaer the CEO of Disney who had previously been a brilliant TV network executive. When he bought ABC at Disney, it promptly f...\n",
      "   (Chunk size: 2978 chars)\n",
      "\n",
      "🏆 RANK #2 COMPARISON\n",
      "--------------------------------------------------\n",
      "📄 SMALL CHUNKS: Score 0.5056\n",
      "   m. They have areas where they are truly deXcient in judgment or skill set. That s just life. Almost nobody is brilliant at everything. When hiring and when Hring executives, you must therefore focus o...\n",
      "\n",
      "🔗 ADJACENT EXPANSION: Score 0.5111 (was 0.4791, +0.0319) (was rank #4, ↑2)\n",
      "   nYicts, cut herself oW from critical information, and signiXcantly impede your ability to sell and market eWectively. Your alternatives are: (a) Macro-manage and give her an annual or quarterly object...\n",
      "   (Expanded to 3 chunks)\n",
      "\n",
      "📚 LARGE CHUNKS: Score 0.5274\n",
      "   world, Part 8: Hiring, managing, promoting, and Dring executives 57 competitive situation where they don t start every day with 80% market share. Back in the 80 s, you oaen heard, never hire anyone st...\n",
      "   (Chunk size: 2981 chars)\n",
      "\n",
      "🏆 RANK #3 COMPARISON\n",
      "--------------------------------------------------\n",
      "📄 SMALL CHUNKS: Score 0.4920\n",
      "   ed? In reality as opposed to Marc s warped view of reality it will be extremely helpful for Marc [if he were actually the CEO, which he is not] to meet with the new head of engineering daily when she ...\n",
      "\n",
      "🔗 ADJACENT EXPANSION: Score 0.5106 (was 0.4919, +0.0187) (rank unchanged from #3)\n",
      "   ed? In reality as opposed to Marc s warped view of reality it will be extremely helpful for Marc [if he were actually the CEO, which he is not] to meet with the new head of engineering daily when she ...\n",
      "   (Expanded to 3 chunks)\n",
      "\n",
      "📚 LARGE CHUNKS: Score 0.4983\n",
      "   m. They have areas where they are truly deXcient in judgment or skill set. That s just life. Almost nobody is brilliant at everything. When hiring and when Hring executives, you must therefore focus o...\n",
      "   (Chunk size: 2987 chars)\n",
      "\n",
      "🏆 RANK #4 COMPARISON\n",
      "--------------------------------------------------\n",
      "📄 SMALL CHUNKS: Score 0.4792\n",
      "   nYicts, cut herself oW from critical information, and signiXcantly impede your ability to sell and market eWectively. Your alternatives are: (a) Macro-manage and give her an annual or quarterly object...\n",
      "\n",
      "🔗 ADJACENT EXPANSION: Score 0.5104 (was 0.6884, -0.1780) (was rank #1, ↓3)\n",
      "   ordingly. Seventh, when hiring the executive to run your former specialty, be careful you don t hire someone weak on purpose. This sounds silly, but you wouldn t believe how oaen it happens. The CEO w...\n",
      "   (Expanded to 3 chunks)\n",
      "\n",
      "📚 LARGE CHUNKS: Score 0.4724\n",
      "   ting to my recent post about hiring, managing, promoting, and Fring executives. I have italicized the parts where he really tears into me for your added humor value.] While I enjoyed Marc s post on hi...\n",
      "   (Chunk size: 2986 chars)\n",
      "\n",
      "🏆 RANK #5 COMPARISON\n",
      "--------------------------------------------------\n",
      "📄 SMALL CHUNKS: Score 0.4686\n",
      "   tartup, an executive is hired to take over a function that s already been started, at least in rudimentary form. The people in that function should be noticeably better at their jobs, and highly respe...\n",
      "\n",
      "🔗 ADJACENT EXPANSION: Score 0.4568 (was 0.4686, -0.0118) (rank unchanged from #5)\n",
      "   tartup, an executive is hired to take over a function that s already been started, at least in rudimentary form. The people in that function should be noticeably better at their jobs, and highly respe...\n",
      "   (Expanded to 3 chunks)\n",
      "\n",
      "📚 LARGE CHUNKS: Score 0.4350\n",
      "   tartup, an executive is hired to take over a function that s already been started, at least in rudimentary form. The people in that function should be noticeably better at their jobs, and highly respe...\n",
      "   (Chunk size: 2981 chars)\n",
      "\n",
      "📊 AVERAGE SCORES\n",
      "----------------------------------------\n",
      "Small Chunks:      0.5268\n",
      "Adjacent Expanded: 0.5022 (-0.0245)\n",
      "Large Chunks:      0.4956 (-0.0312)\n",
      "\n",
      "📈 RANK CHANGE ANALYSIS (Adjacent Expansion)\n",
      "----------------------------------------\n",
      "Rank improvements: 2 results moved up\n",
      "Rank degradations: 1 results moved down\n",
      "Rank unchanged:    2 results stayed same\n",
      "Average rank change: +0.00 positions\n",
      "\n",
      "🏆 BEST STRATEGY: Small Chunks (avg score: 0.5268)\n",
      "\n",
      "================================================================================\n",
      "🏁 COMPARISON COMPLETE!\n",
      "Best performing strategy: Small Chunks\n",
      "================================================================================\n"
     ]
    }
   ],
   "source": [
    "# Run the comprehensive comparison on PMarcaBlogs.txt\n",
    "# This will test all three strategies against the same query\n",
    "\n",
    "# Example usage - test different queries to see how each strategy performs\n",
    "test_queries = [\n",
    "    \"What is the Michael Eisner Memorial Weak Executive Problem?\",\n",
    "    \"What does Marc Andreessen think about technology and startups?\",\n",
    "    \"How should companies approach innovation and disruption?\"\n",
    "]\n",
    "\n",
    "print(\"🚀 Running Enhanced RAG Strategy Comparison\")\n",
    "print(\"=\" * 60)\n",
    "\n",
    "# Run comparison for the first query\n",
    "query = test_queries[0]\n",
    "print(f\"\\nTesting with query: '{query}'\")\n",
    "\n",
    "# Run the comparison\n",
    "comparison_results = asyncio.run(\n",
    "    comparison.compare_all_strategies(\n",
    "        query=query,\n",
    "        k=5,                    # Number of results per strategy\n",
    "        adjacent_count=1,       # Number of adjacent chunks on each side\n",
    "        display_chars=200       # Characters to display in preview\n",
    "    )\n",
    ")\n",
    "\n",
    "print(\"\\n\" + \"=\"*80)\n",
    "print(\"🏁 COMPARISON COMPLETE!\")\n",
    "print(f\"Best performing strategy: {comparison_results['best_strategy']}\")\n",
    "print(\"=\"*80)"
   ]
  },
  {
   "cell_type": "code",
   "execution_count": 75,
   "metadata": {},
   "outputs": [
    {
     "name": "stdout",
     "output_type": "stream",
     "text": [
      "Testing RAG pipeline responses with all three strategies...\n",
      "This will show how each chunking method affects the final answer quality.\n",
      "🤖 RAG PIPELINE RESPONSE COMPARISON\n",
      "================================================================================\n",
      "Query: What are the 3 most valuable advice for startups to succeed? Rank them in order of importance. Format your reply to be between 75 and 100 words.\n",
      "Retrieved chunks per method: 3\n",
      "================================================================================\n",
      "\n",
      "📄 STRATEGY 1: SMALL CHUNKS RAG RESPONSE\n",
      "------------------------------------------------------------\n",
      "📝 Response:\n",
      "Based on the provided context, the three most valuable pieces of advice for startups to succeed, ranked in order of importance, are:\n",
      "\n",
      "1. **Market**: A great market with potential customers is crucial, as it can drive product development (Source 3).\n",
      "2. **Product**: Building a strong product is essential, as it directly correlates to a startup's viability and ability to attract customers (Source 3).\n",
      "3. **Team**: While important, the team is secondary to market and product, as even in successful startups, the quality of the team can vary widely (Source 1, Source 2). \n",
      "\n",
      "Therefore, focusing first on market needs, then product development, followed by assembling a capable team will enhance a startup's chances for success.\n",
      "\n",
      "📊 Context Count: 3\n",
      "📊 Similarity Scores: ['Source 1: 0.574', 'Source 2: 0.560', 'Source 3: 0.536']\n",
      "\n",
      "\n",
      "🔗 STRATEGY 2: ADJACENT EXPANSION RAG RESPONSE\n",
      "------------------------------------------------------------\n",
      "📝 Response:\n",
      "1. **Focus on Product/Market Fit**: Prioritize achieving product/market fit (APMF) as it is critical for success; many startups fail before reaching this stage (Source 2).\n",
      "\n",
      "2. **Market Importance**: A great market is crucial; a market with strong potential customers will drive product demand. The product only needs to function adequately to satisfy market needs (Source 3).\n",
      "\n",
      "3. **Team Quality**: While the team is essential, it can often be upgraded on the go if the market is strong. Effective execution matters more than having prior experience (Source 1 & 3).\n",
      "\n",
      "📊 Context Count: 3\n",
      "📊 Similarity Scores: ['Source 1: 0.558', 'Source 2: 0.532', 'Source 3: 0.530']\n",
      "📊 Note: Using expanded chunks (3 chunks each = ~3000 chars per context)\n",
      "\n",
      "\n",
      "📚 STRATEGY 3: LARGE CHUNKS RAG RESPONSE\n",
      "------------------------------------------------------------\n",
      "📝 Response:\n",
      "Based on the provided context, the three most valuable pieces of advice for startups to succeed, ranked in order of importance, are:\n",
      "\n",
      "1. **Minimize Founder Risk** - Ensure that the founding team has a strong balance of technical and business expertise and consider swapping out or adding founders if necessary (Source 2).\n",
      "2. **Validate Market Risk** - Conduct detailed market research and acquire paying customers to demonstrate that a viable market exists for the product (Source 3).\n",
      "3. **Differentiate from Competition** - Clearly articulate how the startup's offering is unique compared to competitors, as a lack of differentiation can hinder success (Source 3).\n",
      "\n",
      "📊 Context Count: 3\n",
      "📊 Similarity Scores: ['Source 1: 0.593', 'Source 2: 0.543', 'Source 3: 0.540']\n",
      "📊 Note: Using large chunks (~3000 chars each)\n",
      "\n",
      "\n",
      "📈 RESPONSE COMPARISON SUMMARY\n",
      "==================================================\n",
      "🔍 Query: What are the 3 most valuable advice for startups to succeed? Rank them in order of importance. Format your reply to be between 75 and 100 words.\n",
      "\n",
      "📄 Small Chunks: 724 characters\n",
      "🔗 Adjacent Expansion: 564 characters\n",
      "📚 Large Chunks: 665 characters\n",
      "\n",
      "📊 Context Analysis:\n",
      "Small Chunks - Average similarity: 0.557\n",
      "Adjacent Expansion - Average similarity: 0.540\n",
      "Large Chunks - Average similarity: 0.559\n",
      "\n",
      "💡 RESPONSE QUALITY INSIGHTS:\n",
      "📊 Response lengths give us a hint about detail level\n",
      "📊 Similarity scores show retrieval relevance\n",
      "📊 Compare the actual responses above to see which strategy\n",
      "   provides the most comprehensive and accurate answer!\n"
     ]
    }
   ],
   "source": [
    "# RAG Pipeline Comparison: Test Actual Response Quality\n",
    "# Run the full RAG pipeline with each chunking strategy to compare final responses\n",
    "\n",
    "async def test_rag_pipeline_with_all_strategies():\n",
    "    \"\"\"Test RAG pipeline responses using all three chunking strategies\"\"\"\n",
    "    \n",
    "    query = \"What are the 3 most valuable advice for startups to succeed? Rank them in order of importance. Format your reply to be between 75 and 100 words.\"\n",
    "    k = 3\n",
    "    \n",
    "    print(\"🤖 RAG PIPELINE RESPONSE COMPARISON\")\n",
    "    print(\"=\" * 80)\n",
    "    print(f\"Query: {query}\")\n",
    "    print(f\"Retrieved chunks per method: {k}\")\n",
    "    print(\"=\" * 80)\n",
    "    \n",
    "    # Strategy 1: Original Small Chunks\n",
    "    print(f\"\\n📄 STRATEGY 1: SMALL CHUNKS RAG RESPONSE\")\n",
    "    print(\"-\" * 60)\n",
    "    \n",
    "    rag_pipeline_small = RetrievalAugmentedQAPipeline(\n",
    "        vector_db_retriever=vector_db,\n",
    "        llm=chat_openai,\n",
    "        response_style=\"detailed\",\n",
    "        include_scores=True\n",
    "    )\n",
    "    \n",
    "    result_small = rag_pipeline_small.run_pipeline(\n",
    "        query,\n",
    "        k=k,\n",
    "        response_length=\"comprehensive\"\n",
    "    )\n",
    "    \n",
    "    print(f\"📝 Response:\")\n",
    "    print(result_small['response'])\n",
    "    print(f\"\\n📊 Context Count: {result_small['context_count']}\")\n",
    "    print(f\"📊 Similarity Scores: {result_small['similarity_scores']}\")\n",
    "    \n",
    "    # Strategy 2: Adjacent Expansion (simulate by getting expanded context)\n",
    "    print(f\"\\n\\n🔗 STRATEGY 2: ADJACENT EXPANSION RAG RESPONSE\")\n",
    "    print(\"-\" * 60)\n",
    "    \n",
    "    # Get the small chunks first\n",
    "    small_results = vector_db.search_by_text(query, k=k)\n",
    "    \n",
    "    # Create expanded context by getting adjacent chunks\n",
    "    expanded_contexts = []\n",
    "    expanded_scores = []\n",
    "    \n",
    "    for i, (text, score) in enumerate(small_results):\n",
    "        # Find chunk index in cleaned documents\n",
    "        chunk_idx = -1\n",
    "        for j, chunk in enumerate(cleaned_split_documents):\n",
    "            if chunk == text:\n",
    "                chunk_idx = j\n",
    "                break\n",
    "        \n",
    "        if chunk_idx != -1:\n",
    "            # Get adjacent chunks (1 on each side)\n",
    "            expanded_text = comparison.get_adjacent_chunks(chunk_idx, 1)\n",
    "            \n",
    "            # Clean the text before embedding\n",
    "            clean_expanded = clean_text_for_embedding(expanded_text)\n",
    "            clean_query = clean_text_for_embedding(query)\n",
    "            \n",
    "            # Re-calculate similarity for expanded text\n",
    "            expanded_embedding = await vector_db.embedding_model.async_get_embedding(clean_expanded)\n",
    "            query_embedding = await vector_db.embedding_model.async_get_embedding(clean_query)\n",
    "            new_score = float(np.dot(expanded_embedding, query_embedding))\n",
    "            \n",
    "            expanded_contexts.append((clean_expanded, new_score))\n",
    "            expanded_scores.append(f\"Source {i+1}: {new_score:.3f}\")\n",
    "    \n",
    "    # Sort by new scores\n",
    "    expanded_contexts.sort(key=lambda x: x[1], reverse=True)\n",
    "    \n",
    "    # Create expanded context prompt\n",
    "    expanded_context_prompt = \"\"\n",
    "    for i, (context, score) in enumerate(expanded_contexts, 1):\n",
    "        expanded_context_prompt += f\"[Source {i}]: {context}\\n\\n\"\n",
    "    \n",
    "    # Format expanded user prompt manually\n",
    "    expanded_user_params = {\n",
    "        \"user_query\": query,\n",
    "        \"context\": expanded_context_prompt.strip(),\n",
    "        \"context_count\": len(expanded_contexts),\n",
    "        \"similarity_scores\": f\"Relevance scores: {', '.join(expanded_scores)}\"\n",
    "    }\n",
    "    \n",
    "    formatted_user_prompt_expanded = rag_user_prompt.create_message(**expanded_user_params)\n",
    "    formatted_system_prompt = rag_system_prompt.create_message(\n",
    "        response_style=\"detailed\",\n",
    "        response_length=\"comprehensive\"\n",
    "    )\n",
    "    \n",
    "    # Get response from LLM\n",
    "    response_expanded = chat_openai.run([formatted_system_prompt, formatted_user_prompt_expanded])\n",
    "    \n",
    "    print(f\"📝 Response:\")\n",
    "    print(response_expanded)\n",
    "    print(f\"\\n📊 Context Count: {len(expanded_contexts)}\")\n",
    "    print(f\"📊 Similarity Scores: {expanded_scores}\")\n",
    "    print(f\"📊 Note: Using expanded chunks (3 chunks each = ~3000 chars per context)\")\n",
    "    \n",
    "    # Strategy 3: Large Chunks - Create a synchronous wrapper\n",
    "    print(f\"\\n\\n📚 STRATEGY 3: LARGE CHUNKS RAG RESPONSE\")\n",
    "    print(\"-\" * 60)\n",
    "    \n",
    "    # Ensure large chunk vector DB is set up\n",
    "    if not comparison.large_vector_db:\n",
    "        await comparison.setup_large_chunks()\n",
    "    \n",
    "    # Get large chunk results manually and create a mock vector DB for RAG pipeline\n",
    "    large_chunk_results = await comparison.large_vector_db.async_search_by_text(query, k=k)\n",
    "    \n",
    "    # Create a temporary mock vector DB that returns the large chunk results\n",
    "    class MockLargeChunkVectorDB:\n",
    "        def __init__(self, results):\n",
    "            self.cached_results = results\n",
    "            \n",
    "        def search_by_text(self, query_text, k=5):\n",
    "            # Return the pre-computed results\n",
    "            return self.cached_results[:k]\n",
    "    \n",
    "    mock_large_db = MockLargeChunkVectorDB(large_chunk_results)\n",
    "    \n",
    "    # Create RAG pipeline with mock DB\n",
    "    rag_pipeline_large = RetrievalAugmentedQAPipeline(\n",
    "        vector_db_retriever=mock_large_db,\n",
    "        llm=chat_openai,\n",
    "        response_style=\"detailed\", \n",
    "        include_scores=True\n",
    "    )\n",
    "    \n",
    "    result_large = rag_pipeline_large.run_pipeline(\n",
    "        query,\n",
    "        k=k,\n",
    "        response_length=\"comprehensive\"\n",
    "    )\n",
    "    \n",
    "    print(f\"📝 Response:\")\n",
    "    print(result_large['response'])\n",
    "    print(f\"\\n📊 Context Count: {result_large['context_count']}\")\n",
    "    print(f\"📊 Similarity Scores: {result_large['similarity_scores']}\")\n",
    "    print(f\"📊 Note: Using large chunks (~3000 chars each)\")\n",
    "    \n",
    "    # Summary comparison\n",
    "    print(f\"\\n\\n📈 RESPONSE COMPARISON SUMMARY\")\n",
    "    print(\"=\" * 50)\n",
    "    print(f\"🔍 Query: {query}\")\n",
    "    print(f\"\\n📄 Small Chunks: {len(result_small['response'])} characters\")\n",
    "    print(f\"🔗 Adjacent Expansion: {len(response_expanded)} characters\") \n",
    "    print(f\"📚 Large Chunks: {len(result_large['response'])} characters\")\n",
    "    \n",
    "    # Analyze which contexts were most useful\n",
    "    print(f\"\\n📊 Context Analysis:\")\n",
    "    print(f\"Small Chunks - Average similarity: {sum([float(s.split(': ')[1]) for s in result_small['similarity_scores']]) / len(result_small['similarity_scores']):.3f}\")\n",
    "    print(f\"Adjacent Expansion - Average similarity: {sum([float(s.split(': ')[1]) for s in expanded_scores]) / len(expanded_scores):.3f}\")\n",
    "    print(f\"Large Chunks - Average similarity: {sum([float(s.split(': ')[1]) for s in result_large['similarity_scores']]) / len(result_large['similarity_scores']):.3f}\")\n",
    "    \n",
    "    print(f\"\\n💡 RESPONSE QUALITY INSIGHTS:\")\n",
    "    print(f\"📊 Response lengths give us a hint about detail level\")\n",
    "    print(f\"📊 Similarity scores show retrieval relevance\")\n",
    "    print(f\"📊 Compare the actual responses above to see which strategy\")\n",
    "    print(f\"   provides the most comprehensive and accurate answer!\")\n",
    "    \n",
    "    return {\n",
    "        'small_response': result_small,\n",
    "        'expanded_response': response_expanded,\n",
    "        'large_response': result_large,\n",
    "        'query': query,\n",
    "        'comparison_summary': {\n",
    "            'small_length': len(result_small['response']),\n",
    "            'expanded_length': len(response_expanded),\n",
    "            'large_length': len(result_large['response'])\n",
    "        }\n",
    "    }\n",
    "\n",
    "# Run the RAG pipeline comparison\n",
    "print(\"Testing RAG pipeline responses with all three strategies...\")\n",
    "print(\"This will show how each chunking method affects the final answer quality.\")\n",
    "pipeline_results = await test_rag_pipeline_with_all_strategies()"
   ]
  }
 ],
 "metadata": {
  "colab": {
   "provenance": []
  },
  "kernelspec": {
   "display_name": ".venv",
   "language": "python",
   "name": "python3"
  },
  "language_info": {
   "codemirror_mode": {
    "name": "ipython",
    "version": 3
   },
   "file_extension": ".py",
   "mimetype": "text/x-python",
   "name": "python",
   "nbconvert_exporter": "python",
   "pygments_lexer": "ipython3",
   "version": "3.13.2"
  },
  "orig_nbformat": 4,
  "widgets": {
   "application/vnd.jupyter.widget-state+json": {
    "1ce393d9afcf427d9d352259c5d32678": {
     "model_module": "@jupyter-widgets/controls",
     "model_module_version": "1.5.0",
     "model_name": "FloatProgressModel",
     "state": {
      "_dom_classes": [],
      "_model_module": "@jupyter-widgets/controls",
      "_model_module_version": "1.5.0",
      "_model_name": "FloatProgressModel",
      "_view_count": null,
      "_view_module": "@jupyter-widgets/controls",
      "_view_module_version": "1.5.0",
      "_view_name": "ProgressView",
      "bar_style": "",
      "description": "",
      "description_tooltip": null,
      "layout": "IPY_MODEL_4e6efd99f7d346e485b002fb0fa85cc7",
      "max": 1,
      "min": 0,
      "orientation": "horizontal",
      "style": "IPY_MODEL_3dfb67c39958461da6071e4c19c3fa41",
      "value": 1
     }
    },
    "3a4ba348cb004f8ab7b2b1395539c81b": {
     "model_module": "@jupyter-widgets/controls",
     "model_module_version": "1.5.0",
     "model_name": "LabelModel",
     "state": {
      "_dom_classes": [],
      "_model_module": "@jupyter-widgets/controls",
      "_model_module_version": "1.5.0",
      "_model_name": "LabelModel",
      "_view_count": null,
      "_view_module": "@jupyter-widgets/controls",
      "_view_module_version": "1.5.0",
      "_view_name": "LabelView",
      "description": "",
      "description_tooltip": null,
      "layout": "IPY_MODEL_d2ea5009dd16442cb5d8a0ac468e50a8",
      "placeholder": "​",
      "style": "IPY_MODEL_5f00135fe1044051a50ee5e841cbb8e3",
      "value": "0.018 MB of 0.018 MB uploaded\r"
     }
    },
    "3dfb67c39958461da6071e4c19c3fa41": {
     "model_module": "@jupyter-widgets/controls",
     "model_module_version": "1.5.0",
     "model_name": "ProgressStyleModel",
     "state": {
      "_model_module": "@jupyter-widgets/controls",
      "_model_module_version": "1.5.0",
      "_model_name": "ProgressStyleModel",
      "_view_count": null,
      "_view_module": "@jupyter-widgets/base",
      "_view_module_version": "1.2.0",
      "_view_name": "StyleView",
      "bar_color": null,
      "description_width": ""
     }
    },
    "4e6efd99f7d346e485b002fb0fa85cc7": {
     "model_module": "@jupyter-widgets/base",
     "model_module_version": "1.2.0",
     "model_name": "LayoutModel",
     "state": {
      "_model_module": "@jupyter-widgets/base",
      "_model_module_version": "1.2.0",
      "_model_name": "LayoutModel",
      "_view_count": null,
      "_view_module": "@jupyter-widgets/base",
      "_view_module_version": "1.2.0",
      "_view_name": "LayoutView",
      "align_content": null,
      "align_items": null,
      "align_self": null,
      "border": null,
      "bottom": null,
      "display": null,
      "flex": null,
      "flex_flow": null,
      "grid_area": null,
      "grid_auto_columns": null,
      "grid_auto_flow": null,
      "grid_auto_rows": null,
      "grid_column": null,
      "grid_gap": null,
      "grid_row": null,
      "grid_template_areas": null,
      "grid_template_columns": null,
      "grid_template_rows": null,
      "height": null,
      "justify_content": null,
      "justify_items": null,
      "left": null,
      "margin": null,
      "max_height": null,
      "max_width": null,
      "min_height": null,
      "min_width": null,
      "object_fit": null,
      "object_position": null,
      "order": null,
      "overflow": null,
      "overflow_x": null,
      "overflow_y": null,
      "padding": null,
      "right": null,
      "top": null,
      "visibility": null,
      "width": null
     }
    },
    "56a8e24025594e5e9ff3b8581c344691": {
     "model_module": "@jupyter-widgets/base",
     "model_module_version": "1.2.0",
     "model_name": "LayoutModel",
     "state": {
      "_model_module": "@jupyter-widgets/base",
      "_model_module_version": "1.2.0",
      "_model_name": "LayoutModel",
      "_view_count": null,
      "_view_module": "@jupyter-widgets/base",
      "_view_module_version": "1.2.0",
      "_view_name": "LayoutView",
      "align_content": null,
      "align_items": null,
      "align_self": null,
      "border": null,
      "bottom": null,
      "display": null,
      "flex": null,
      "flex_flow": null,
      "grid_area": null,
      "grid_auto_columns": null,
      "grid_auto_flow": null,
      "grid_auto_rows": null,
      "grid_column": null,
      "grid_gap": null,
      "grid_row": null,
      "grid_template_areas": null,
      "grid_template_columns": null,
      "grid_template_rows": null,
      "height": null,
      "justify_content": null,
      "justify_items": null,
      "left": null,
      "margin": null,
      "max_height": null,
      "max_width": null,
      "min_height": null,
      "min_width": null,
      "object_fit": null,
      "object_position": null,
      "order": null,
      "overflow": null,
      "overflow_x": null,
      "overflow_y": null,
      "padding": null,
      "right": null,
      "top": null,
      "visibility": null,
      "width": null
     }
    },
    "5f00135fe1044051a50ee5e841cbb8e3": {
     "model_module": "@jupyter-widgets/controls",
     "model_module_version": "1.5.0",
     "model_name": "DescriptionStyleModel",
     "state": {
      "_model_module": "@jupyter-widgets/controls",
      "_model_module_version": "1.5.0",
      "_model_name": "DescriptionStyleModel",
      "_view_count": null,
      "_view_module": "@jupyter-widgets/base",
      "_view_module_version": "1.2.0",
      "_view_name": "StyleView",
      "description_width": ""
     }
    },
    "bb904e05ece143c79ecc4f20de482f45": {
     "model_module": "@jupyter-widgets/controls",
     "model_module_version": "1.5.0",
     "model_name": "VBoxModel",
     "state": {
      "_dom_classes": [],
      "_model_module": "@jupyter-widgets/controls",
      "_model_module_version": "1.5.0",
      "_model_name": "VBoxModel",
      "_view_count": null,
      "_view_module": "@jupyter-widgets/controls",
      "_view_module_version": "1.5.0",
      "_view_name": "VBoxView",
      "box_style": "",
      "children": [
       "IPY_MODEL_3a4ba348cb004f8ab7b2b1395539c81b",
       "IPY_MODEL_1ce393d9afcf427d9d352259c5d32678"
      ],
      "layout": "IPY_MODEL_56a8e24025594e5e9ff3b8581c344691"
     }
    },
    "d2ea5009dd16442cb5d8a0ac468e50a8": {
     "model_module": "@jupyter-widgets/base",
     "model_module_version": "1.2.0",
     "model_name": "LayoutModel",
     "state": {
      "_model_module": "@jupyter-widgets/base",
      "_model_module_version": "1.2.0",
      "_model_name": "LayoutModel",
      "_view_count": null,
      "_view_module": "@jupyter-widgets/base",
      "_view_module_version": "1.2.0",
      "_view_name": "LayoutView",
      "align_content": null,
      "align_items": null,
      "align_self": null,
      "border": null,
      "bottom": null,
      "display": null,
      "flex": null,
      "flex_flow": null,
      "grid_area": null,
      "grid_auto_columns": null,
      "grid_auto_flow": null,
      "grid_auto_rows": null,
      "grid_column": null,
      "grid_gap": null,
      "grid_row": null,
      "grid_template_areas": null,
      "grid_template_columns": null,
      "grid_template_rows": null,
      "height": null,
      "justify_content": null,
      "justify_items": null,
      "left": null,
      "margin": null,
      "max_height": null,
      "max_width": null,
      "min_height": null,
      "min_width": null,
      "object_fit": null,
      "object_position": null,
      "order": null,
      "overflow": null,
      "overflow_x": null,
      "overflow_y": null,
      "padding": null,
      "right": null,
      "top": null,
      "visibility": null,
      "width": null
     }
    }
   }
  }
 },
 "nbformat": 4,
 "nbformat_minor": 0
}
